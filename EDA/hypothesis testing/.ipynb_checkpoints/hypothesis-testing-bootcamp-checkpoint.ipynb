{
 "cells": [
  {
   "cell_type": "markdown",
   "metadata": {},
   "source": [
    "Make sure that you **all** self-enrol to the corresponding group (Bootcamp3-X*) via canvas (canvas group number *X*) <br>\n",
    "Add all names below <br>\n",
    "Only one should submit the file (till the end of the day) to claim points for the participation point. <br>\n",
    "All team members get the same number of points unless otherwise communicated to Jerry\n",
    "\n",
    "**Canvas group number**:\n",
    "\n",
    "**Collaborators**:"
   ]
  },
  {
   "cell_type": "code",
   "execution_count": 4,
   "metadata": {},
   "outputs": [],
   "source": [
    "#check other import packages that might be missing\n",
    "import pandas as pd\n",
    "import numpy as np\n",
    "\n",
    "import scipy as sc\n",
    "from scipy.stats import bernoulli\n",
    "from scipy.stats import binom\n",
    "from scipy.stats import norm\n",
    "from scipy.stats import t\n",
    "from scipy.stats import probplot\n",
    "\n",
    "import matplotlib.pyplot as plt\n",
    "%matplotlib inline\n",
    "plt.rcParams['figure.figsize'] = (10, 6)\n",
    "plt.style.use('ggplot')\n"
   ]
  },
  {
   "cell_type": "markdown",
   "metadata": {},
   "source": [
    "## A-B testing\n",
    "\n",
    "Suppose your company is developing a new logo. The art department develops two logos: ‘Logo A’ and ‘Logo B’, shown below. \n",
    "![](http://www.wired.com/wiredenterprise/wp-content/gallery/20-05/ff_abtesting_f.jpg)\n",
    "Your job is to figure out which logo is better. \n",
    "\n",
    "\n",
    "You decide to conduct the following experiment. You use Google ads to buy 2000 advertisements. In $N_A=1000$ of the ads (randomly chosen), you use Logo A and in the other $N_B=1000$ ads, you use Logo B. Then you see which logo attracts more clicks.\n",
    "\n",
    "It turns out that $n_A=500$ Logo A viewers click on the ad while $n_B=550$ Logo B viewers click on the ad. Obviously Logo B did better in this test, but is the difference *significant* enough to say that Logo B is better? Or, perhaps, Logo B just got lucky in this test? \n",
    "\n",
    "The goal of this exercise will be to conduct a two-proportion z-test (re-visit the Polio experiment from the lecture notebook) to determine if Logo B is better."
   ]
  },
  {
   "cell_type": "markdown",
   "metadata": {},
   "source": [
    "### Task 1.  Formulate null hypothesis \n",
    "\n",
    "Let $p_A = n_A/N_A$ be the proportion of clicks on Logo A and similiarly $p_B$ be the proportion of clicks on Logo B. In terms of $p_A$ and $p_B$, clearly state the null and alternative hypothesis. "
   ]
  },
  {
   "cell_type": "markdown",
   "metadata": {},
   "source": [
    "H0 = pB is significantly larger than pA"
   ]
  },
  {
   "cell_type": "markdown",
   "metadata": {},
   "source": [
    "### Task 2.  Perform the two-proportion z-value  test and calculate the p-value \n",
    "\n",
    "Assuming the null hypothesis, we know from lecture that the test statistic, called the *two-proportion z-value*. Find the two-proportion z-value and the p-value"
   ]
  },
  {
   "cell_type": "code",
   "execution_count": 6,
   "metadata": {},
   "outputs": [
    {
     "name": "stdout",
     "output_type": "stream",
     "text": [
      "-2.238868314198227\n",
      "0.012582242850159199\n"
     ]
    }
   ],
   "source": [
    "import numpy as np\n",
    "nA = 500\n",
    "NA = 1000\n",
    "pA = nA/NA\n",
    "muA = pA\n",
    "sigmaA = np.sqrt(pA*(1-pA)/NA)\n",
    "\n",
    "nB = 550\n",
    "NB = 1000\n",
    "pB = nB/NB\n",
    "muB = pB\n",
    "sigmaB = np.sqrt(pB*(1-pB)/NB)\n",
    "phat = NA*pA/(NA+NB) + NB*pB/(NA+NB)\n",
    "qhat = 1-phat\n",
    "\n",
    "z = (pA - pB)/np.sqrt(phat*qhat*(1/NA + 1/NB)) \n",
    "print(z)\n",
    "\n",
    "p_value =norm.cdf(z)\n",
    "print(p_value)"
   ]
  },
  {
   "cell_type": "markdown",
   "metadata": {},
   "source": [
    "### Task 3. Interpretation\n",
    "\n",
    "Interpret the $p$-value in this example and  state the result of the hypothesis test at the $\\alpha=5\\%$ and $\\alpha=1\\%$ significance levels. \n"
   ]
  },
  {
   "cell_type": "markdown",
   "metadata": {},
   "source": [
    "the p-values is small enough to reject the null hypothesis at a confidence level of 95%; however we cannot reject it at a 99% confidence level. "
   ]
  },
  {
   "cell_type": "code",
   "execution_count": null,
   "metadata": {},
   "outputs": [],
   "source": []
  }
 ],
 "metadata": {
  "kernelspec": {
   "display_name": "Python 3 (ipykernel)",
   "language": "python",
   "name": "python3"
  },
  "language_info": {
   "codemirror_mode": {
    "name": "ipython",
    "version": 3
   },
   "file_extension": ".py",
   "mimetype": "text/x-python",
   "name": "python",
   "nbconvert_exporter": "python",
   "pygments_lexer": "ipython3",
   "version": "3.8.8"
  }
 },
 "nbformat": 4,
 "nbformat_minor": 4
}
