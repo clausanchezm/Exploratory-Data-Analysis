{
 "cells": [
  {
   "cell_type": "markdown",
   "metadata": {
    "nbpresent": {
     "id": "dac6427e-b8df-46f9-bfd3-b24427a73993"
    },
    "slideshow": {
     "slide_type": "slide"
    }
   },
   "source": [
    "# Data Analysis\n",
    "# Statistical inference and hypothesis testing "
   ]
  },
  {
   "cell_type": "markdown",
   "metadata": {
    "slideshow": {
     "slide_type": "-"
    }
   },
   "source": [
    "In this lecture, we'll cover \n",
    "* Data collection and sampling (see slides)\n",
    "* Statistical inference\n",
    "* Central limit theorem\n",
    "* Hypothesis testing and the z-test\n",
    "* A/B testing (bootcamp activity)\n",
    "* Other statistical significance tests\n",
    "* Confidence intervals\n",
    "\n",
    "Mandatory reading:\n",
    "+ [WIRED article on A/B testing](https://www.wired.com/2012/04/ff-abtesting/)\n",
    "\n",
    "Mandatory listening:\n",
    "+ [Planet Money Episode 677: The experiment experiment](https://www.npr.org/sections/money/2018/03/07/591213302/episode-677-the-experiment-experiment)\n",
    "+ [Planet Money Episode 669: A or B](https://www.npr.org/sections/money/2015/12/11/459412925/episode-669-a-or-b) \n",
    "\n",
    "Further reading: \n",
    "+ Jay L. Devore, Probability and Statistics for Engineering and the Sciences, 9th ed. Cengage Learning (2016) Ch. 8 and 9.\n",
    "+ R. Nuzzo, Scientific method: Statistical errors, Nature (2014) [link](https://doi.org/10.1038/506150a)\n",
    "+ J. Cohen, The Earth is Round (p<0.05), American Psychologist (1994) [link](https://doi.org/10.1037/0003-066x.49.12.997)"
   ]
  },
  {
   "cell_type": "code",
   "execution_count": 1,
   "metadata": {
    "slideshow": {
     "slide_type": "slide"
    }
   },
   "outputs": [],
   "source": [
    "#imports and setup\n",
    "import pandas as pd\n",
    "import numpy as np\n",
    "\n",
    "import scipy as sc\n",
    "from scipy.stats import bernoulli\n",
    "from scipy.stats import binom\n",
    "from scipy.stats import norm\n",
    "from scipy.stats import t\n",
    "from scipy.stats import probplot\n",
    "\n",
    "import matplotlib.pyplot as plt\n",
    "%matplotlib inline\n",
    "plt.rcParams['figure.figsize'] = (10, 6)\n",
    "plt.style.use('ggplot')"
   ]
  },
  {
   "cell_type": "markdown",
   "metadata": {
    "slideshow": {
     "slide_type": "slide"
    }
   },
   "source": [
    "## 1. Descriptive vs. Inferential Statistics \n",
    "\n",
    "Descriptive statistics quantitatively describe or summarize features of a dataset. \n",
    "\n",
    "Inferential statistics attempts to learn about the *population* from which the data was *sampled*. \n",
    "\n",
    "**Example**: The week before an election, it is not possible to ask every voting person who they intend to vote for. Instead, a relatively small number of individuals are surveyed. The *hope* is that we can determine the population's vote from the surveyed results. \n",
    "\n",
    "Often, we will model the population as a *probability distribution*. \n",
    "\n",
    "*Inferential statistics* is deducing properties of an underlying probability distribution from sampled data. "
   ]
  },
  {
   "cell_type": "markdown",
   "metadata": {
    "slideshow": {
     "slide_type": "slide"
    }
   },
   "source": [
    "## Data distribution and generation: Random variables\n",
    "\n",
    "An *empirical distribution* is a distribution that is based on observational data, e.g. think about your answers to a poll. It shows us values and proportions.\n",
    "\n",
    "A *probability distribution* would give us a model for how the sample is generated, e.g. think about what the polling of a student in class would be.\n",
    "\n",
    "In short, empirical distributions show us \"what it is\" (or \"was\"), but probability distributions show us \"what it could be\".\n",
    "\n",
    "A *random variable* is a variable that takes numerical values based on some probabilities.\n",
    "\n",
    "* Example 1: Let X take value 1 if a person answers yes to a question, or 0 if a person answers no.\n",
    "* Example 2: Let Y be the outcome of a fair die\n"
   ]
  },
  {
   "cell_type": "markdown",
   "metadata": {
    "slideshow": {
     "slide_type": "slide"
    }
   },
   "source": [
    "## Abstracting random chance\n",
    "\n",
    "What do the following have in common?\n",
    "\n",
    "* Ask somebody what they will vote in a referendum\n",
    "* The outcome of a flip coin\n",
    "* The outcome of a COVID test for a randomly selected Maastricht resident"
   ]
  },
  {
   "cell_type": "markdown",
   "metadata": {
    "slideshow": {
     "slide_type": "slide"
    }
   },
   "source": [
    "In the previous example, each of these events have only two outcomes, one of which happens with a particular probability $p$.\n",
    "\n",
    "## 1.1 Discrete Random Variables and Probabilty Mass Functions (PMF)\n",
    "\n",
    "### 1.1.1 Bernoulli Distribution\n",
    "\n",
    "The Bernoulli distribution, named after Jacob Bernoulli, is the probability distribution of a random variable which takes the value 1 (success) with probability $p$ and the value 0 (failure) with probability $q=1-p$. \n",
    "\n",
    "The Bernoulli distribution with $p=0.5$ (implying $q=0.5$) describes a 'fair' coin toss where 1 and 0  represent \"heads\" and \"tails\", respectively. If the coin is unfair, then we would have that $p\\neq 0.5$.\n",
    "\n",
    "We can use python to sample from the Bernoulli probability distribution. "
   ]
  },
  {
   "cell_type": "code",
   "execution_count": 2,
   "metadata": {
    "slideshow": {
     "slide_type": "-"
    }
   },
   "outputs": [
    {
     "name": "stdout",
     "output_type": "stream",
     "text": [
      "[1 0 0 1 0 0 1 0 0 1 0 1 0 1 1 1 0 0 0 0 0 0 1 0 1 1 0 1 0 0 0 0 0 0 0 1 0\n",
      " 0 0 1 0 1 1 0 0 1 1 0 0 0 1 1 0 1 1 0 0 1 1 0 0 0 0 0 1 0 0 1 1 0 0 1 0 0\n",
      " 1 0 0 0 1 1 0 1 0 1 0 1 1 0 0 1 0 1 0 0 1 0 1 0 0 0 1 0 0 1 1 1 0 0 0 1 0\n",
      " 1 1 1 1 0 1 1 0 1 1 0 1 1 1 1 1 1 0 0 0 0 0 0 1 1 1 1 1 0 0 1 1 0 0 1 1 0\n",
      " 1 0 0 1 1 1 0 1 1 0 1 0 0 1 1 0 1 1 0 1 0 1 1 0 1 1 0 1 1 0 0 0 1 0 0 1 1\n",
      " 1 0 0 0 0 0 0 1 0 1 1 0 1 0 1 1 0 1 1 0 1 1 1 1 1 1 1 1 1 1 1 1 1 0 0 0 0\n",
      " 0 1 1 1 0 1 0 1 0 1 1 0 0 0 0 1 0 1 1 1 1 0 0 1 1 1 0 1 1 1 1 0 1 0 1 0 1\n",
      " 1 0 0 0 1 1 1 1 0 1 0 0 0 1 0 0 1 0 1 1 0 1 1 0 0 0 0 0 1 0 0 0 1 1 0 0 0\n",
      " 0 1 1 1 1 1 0 0 1 0 1 1 1 0 0 1 1 1 1 1 0 1 1 1 1 1 1 1 1 0 0 0 1 1 0 0 1\n",
      " 0 1 1 0 1 0 0 1 1 0 0 1 0 0 0 1 0 1 1 0 0 1 0 1 1 0 0 1 1 0 1 1 0 0 1 1 0\n",
      " 0 0 1 1 1 1 1 1 0 0 1 1 1 1 0 0 0 0 1 1 0 0 1 0 1 0 1 1 1 0 1 0 0 1 1 1 0\n",
      " 0 0 1 1 1 0 0 1 1 1 0 0 0 0 0 1 0 1 1 1 1 1 0 1 0 1 0 0 1 1 1 1 1 1 0 1 1\n",
      " 1 0 0 1 1 0 0 1 0 1 1 0 0 1 1 0 1 0 0 1 1 1 0 0 1 0 1 0 0 0 1 1 1 1 0 1 0\n",
      " 0 1 1 1 1 1 0 1 0 0 1 0 0 0 0 0 0 1 0 1 0 1 0 0 0 0 0 1 1 0 1 1 0 1 0 1 0\n",
      " 0 1 1 1 0 1 0 0 0 0 1 1 0 1 1 1 0 1 0 0 0 0 0 1 1 1 1 1 0 1 0 0 0 1 1 1 0\n",
      " 0 0 1 0 1 0 1 1 1 0 0 1 0 0 0 1 0 1 1 0 1 1 1 1 1 1 0 0 0 1 0 0 0 0 0 1 1\n",
      " 0 1 1 0 1 0 1 1 0 0 1 1 0 1 0 0 1 0 0 0 0 0 0 0 0 0 0 1 1 0 0 1 0 0 1 1 0\n",
      " 1 1 0 1 0 0 0 0 0 0 1 1 0 1 1 1 1 0 0 0 0 0 0 1 0 1 0 1 1 1 0 0 0 0 0 0 0\n",
      " 1 0 0 0 0 0 1 1 0 1 0 1 0 0 0 1 0 1 0 1 1 0 1 1 0 1 0 0 1 1 1 0 0 1 0 1 0\n",
      " 1 1 0 1 0 0 1 1 1 0 0 0 0 1 0 0 1 1 0 0 1 0 1 0 1 0 1 0 1 0 0 0 0 1 0 0 1\n",
      " 0 0 1 1 0 1 0 1 0 0 1 0 0 0 0 1 1 1 0 1 1 1 1 1 1 0 0 0 1 1 0 0 1 0 1 1 0\n",
      " 1 0 0 1 1 1 1 0 1 1 0 0 0 1 1 0 1 1 1 1 1 1 1 0 0 0 0 0 0 1 1 1 0 1 1 0 1\n",
      " 0 0 0 1 1 1 0 1 1 0 1 1 1 1 0 0 0 0 0 1 0 0 1 0 1 0 1 0 1 0 0 1 1 1 0 0 1\n",
      " 1 0 1 1 0 0 1 1 0 0 1 0 1 0 0 1 0 0 1 1 1 1 0 1 0 1 1 0 0 1 1 1 0 0 1 1 1\n",
      " 0 1 1 1 1 0 1 1 0 1 0 0 1 0 1 1 0 0 0 0 1 0 1 1 0 0 1 0 1 0 1 1 0 1 1 0 1\n",
      " 1 0 1 1 1 0 0 0 0 0 0 0 0 0 0 0 0 1 1 1 0 0 1 1 0 0 0 1 1 1 0 0 1 1 0 1 1\n",
      " 1 0 0 1 1 0 1 1 1 0 0 1 1 0 0 1 1 1 1 1 1 1 1 1 0 1 1 0 0 0 0 1 0 1 1 1 1\n",
      " 1]\n"
     ]
    }
   ],
   "source": [
    "n = 1000;\n",
    "coin_flips = bernoulli.rvs(p=0.5, size=n)\n",
    "print(coin_flips)"
   ]
  },
  {
   "cell_type": "markdown",
   "metadata": {
    "slideshow": {
     "slide_type": "slide"
    }
   },
   "source": [
    "How many heads did we get? We just count the number of 1's. "
   ]
  },
  {
   "cell_type": "code",
   "execution_count": 3,
   "metadata": {
    "slideshow": {
     "slide_type": "-"
    }
   },
   "outputs": [
    {
     "name": "stdout",
     "output_type": "stream",
     "text": [
      "507\n",
      "0.507\n"
     ]
    }
   ],
   "source": [
    "print(sum(coin_flips))\n",
    "print(sum(coin_flips)/n)"
   ]
  },
  {
   "cell_type": "markdown",
   "metadata": {
    "slideshow": {
     "slide_type": "slide"
    }
   },
   "source": [
    "What if we flip the coin more times? "
   ]
  },
  {
   "cell_type": "code",
   "execution_count": 4,
   "metadata": {
    "slideshow": {
     "slide_type": "-"
    }
   },
   "outputs": [
    {
     "name": "stdout",
     "output_type": "stream",
     "text": [
      "0.5000282\n"
     ]
    }
   ],
   "source": [
    "n = 10000000\n",
    "coin_flips = bernoulli.rvs(p=0.5, size=n)\n",
    "print(sum(coin_flips)/n)"
   ]
  },
  {
   "cell_type": "markdown",
   "metadata": {
    "slideshow": {
     "slide_type": "-"
    }
   },
   "source": [
    "Some facts about Bernoulli variables: \n",
    "* mean is p\n",
    "* variance is p(1-p)"
   ]
  },
  {
   "cell_type": "markdown",
   "metadata": {
    "slideshow": {
     "slide_type": "slide"
    }
   },
   "source": [
    "## What do these examples have in common?\n",
    "\n",
    "* Count the number of people that answered \"yes\" in a referendum in a sample of n=10\n",
    "* The total number of heads in a series of 5 coin flips \n",
    "* The total number of Maastricht residents that will test positive for COVID in a given month"
   ]
  },
  {
   "cell_type": "markdown",
   "metadata": {
    "slideshow": {
     "slide_type": "slide"
    }
   },
   "source": [
    "In the previous question, the answer is that each of these events could be seen as a sum of Bernoulli random variables. Is that a good idea? It really depends on whether the individual variables are independent.\n",
    "\n",
    "### 1.1.2 Binomial distribution\n",
    "\n",
    "The binomial distribution, with parameters $n$ and $p$, is a discrete probability distribution \"summarizing\" the outcome of $n$ Bernoulli random variables. For simplicity, take $p=0.5$ so that the Bernoulli distribution describes the outcome of a coin. For each flip, the probability of heads is $p$ (so the probability of tails is $q=1-p$). But we don't keep track of the individual flips. We only keep track of how many heads/tails there were in total. So, the binomial distribution can be thought of as summarizing a bunch of (**independent**) Bernoulli random variables. \n",
    "\n",
    "The following code is equivalent to flipping a fair (p=0.5) coin n=10 times and counting the number of heads and then repeating this process 1,000,000 times. "
   ]
  },
  {
   "cell_type": "code",
   "execution_count": 5,
   "metadata": {
    "scrolled": false
   },
   "outputs": [
    {
     "name": "stdout",
     "output_type": "stream",
     "text": [
      "[1 6 7 2 4 5 7 4 5 3 5 4 4 6 2 8 5 5 5 7 3 6 7 5 4 4 6 5 4 5 5 5 4 6 7 3 5\n",
      " 7 4 6 7 6 7 4 5 6 5 6 2 4 3 7 6 5 6 5 3 5 4 5 4 5 3 6 8 6 6 7 3 5 5 4 4 6\n",
      " 5 4 5 3 4 7 7 7 3 6 5 7 8 6 3 6 5 7 3 8 4 4 7 6 5 6]\n"
     ]
    }
   ],
   "source": [
    "p = 0.5\n",
    "n = 10\n",
    "bin_vars = binom.rvs(n=n,p=p,size=1000000)\n",
    "print(bin_vars[:100])"
   ]
  },
  {
   "cell_type": "code",
   "execution_count": 6,
   "metadata": {
    "scrolled": true
   },
   "outputs": [
    {
     "data": {
      "image/png": "[encoded data removed]",
      "text/plain": [
       "<Figure size 720x432 with 1 Axes>"
      ]
     },
     "metadata": {},
     "output_type": "display_data"
    }
   ],
   "source": [
    "bins=np.arange(12)-.5\n",
    "plt.hist(bin_vars, bins=bins, density=True, color=\"green\")\n",
    "plt.title(\"A histogram of binomial random variables\")\n",
    "plt.xlim([-.5,10.5])\n",
    "plt.show()"
   ]
  },
  {
   "cell_type": "markdown",
   "metadata": {
    "slideshow": {
     "slide_type": "-"
    }
   },
   "source": [
    "Some facts about the binomial distribution: \n",
    "* The mean is $np$\n",
    "* The variance is $np(1-p)$"
   ]
  },
  {
   "cell_type": "markdown",
   "metadata": {
    "slideshow": {
     "slide_type": "slide"
    }
   },
   "source": [
    "### 1.1.3 Defining probability mass functions \n",
    "\n",
    "The Binomial and Bernoulli random variables are examples of *discrete random variables* since they can take only discrete values. A Bernoulli random variable can take values $0$ or $1$. A binomial random variable  can only take values \n",
    "$$\n",
    "0,1,\\ldots, n. \n",
    "$$\n",
    "One can compute the probability that the variable takes each value. This is called the *probability mass function*. \n",
    "\n",
    "\n",
    "For a Bernoulli random variable, the probability mass function is given by \n",
    "$$\n",
    "\\textrm{Prob}(X=k) = f(k) = \\begin{cases} p & k=1 \\\\ 1-p & k = 0 \\end{cases}\n",
    "$$\n",
    "\n",
    "\n",
    "For a binomial random variable, the probability mass function is given by \n",
    "$$\n",
    "f(k) = \\binom{n}{k} p^k (1-p)^{n-k}.\n",
    "$$\n",
    "Here, $\\binom{n}{k} = \\frac{n!}{k!(n-k)!}$ is the number of ways to arrange the\n",
    "$k$ heads among the $n$ flips. For a fair coin, we have $p=0.5$ and $f(k) = \\binom{n}{k} \\frac{1}{2^n}$. This is the number of ways to arrange $k$ heads among $n$ outcomes divided by the total number of outcomes. \n",
    "\n",
    "The probability mass function can be plotted using the scipy library as follows."
   ]
  },
  {
   "cell_type": "code",
   "execution_count": 7,
   "metadata": {
    "slideshow": {
     "slide_type": "-"
    }
   },
   "outputs": [
    {
     "data": {
      "image/png": "[encoded data removed]",
      "text/plain": [
       "<Figure size 720x432 with 1 Axes>"
      ]
     },
     "metadata": {},
     "output_type": "display_data"
    }
   ],
   "source": [
    "f = lambda k: binom.pmf(k, n=n,p=0.5)\n",
    "\n",
    "x = np.arange(n+1);\n",
    "plt.plot(x, f(x),'*-', c=\"g\")\n",
    "plt.title(\"Probability mass function for a Binomial random variable\")\n",
    "plt.xlim([0,n])\n",
    "plt.show()"
   ]
  },
  {
   "cell_type": "markdown",
   "metadata": {
    "slideshow": {
     "slide_type": "-"
    }
   },
   "source": [
    "Observe that the probability mass function looks very much like the histogram plot! (Coincidence? I don't think so...) \n"
   ]
  },
  {
   "cell_type": "markdown",
   "metadata": {
    "slideshow": {
     "slide_type": "slide"
    }
   },
   "source": [
    "## 1.2 Continuous random variables and probability density functions  (PDF)\n",
    "\n",
    "If a random variable takes continuous values (not discrete), then it's a *continuous* random variable. The most common example of a random variable is the *normal*, the values of which are determined by the *normal (or gaussian)* distribution."
   ]
  },
  {
   "cell_type": "markdown",
   "metadata": {
    "collapsed": true,
    "slideshow": {
     "slide_type": "-"
    }
   },
   "source": [
    "### 1.2.1 Normal (Gaussian) distribution \n",
    "\n",
    "Roughly speaking, normal random variables are described by a \"bell curve\".  The curve is centered at the mean, $\\mu$, and has width given by the standard deviation, $\\sigma$. "
   ]
  },
  {
   "cell_type": "code",
   "execution_count": 8,
   "metadata": {
    "slideshow": {
     "slide_type": "-"
    }
   },
   "outputs": [
    {
     "data": {
      "image/png": "[encoded data removed]",
      "text/plain": [
       "<Figure size 720x432 with 1 Axes>"
      ]
     },
     "metadata": {},
     "output_type": "display_data"
    }
   ],
   "source": [
    "mu = 0 # mean\n",
    "sigma = 1 # standard deviation \n",
    "x = np.arange(mu-4*sigma,mu+4*sigma,0.001);\n",
    "pdf = norm.pdf(x,loc=mu, scale=sigma)\n",
    "# Here, I could have also written\n",
    "# pdf = 1/(sigma * sc.sqrt(2 * sc.pi)) * sc.exp( - (x - mu)**2 / (2 * sigma**2)) \n",
    "plt.plot(x, pdf, linewidth=2, color='k')\n",
    "plt.show()"
   ]
  },
  {
   "cell_type": "markdown",
   "metadata": {
    "slideshow": {
     "slide_type": "slide"
    }
   },
   "source": [
    "### 1.2.2 Defining probability density functions (PDF) and cumulative distribution functions (CDF)\n",
    "\n",
    "A normal random variable can take any real value, but some numbers are more likely than others. More formally, we say that the *probability density function (PDF)* for the normal (Gaussian) distribution is\n",
    "$$\n",
    "f(x) = \\frac{1}{\\sqrt{ 2 \\pi \\sigma^2 }}\n",
    "e^{ - \\frac{ (x - \\mu)^2 } {2 \\sigma^2} },\n",
    "$$\n",
    "where $\\mu$ is the mean and $\\sigma$ is the variance. What this means is that the probability that a normal random variable will take values in the interval $[a,b]$ is given by \n",
    "$$\n",
    "\\textrm{Prob}(X\\in[a,b]) = \\int_a^b f(x) dx.\n",
    "$$\n",
    "This is just the area under the curve for this interval. For $a=\\mu-\\sigma$ and $b = \\mu+\\sigma$, we plot this below."
   ]
  },
  {
   "cell_type": "code",
   "execution_count": 9,
   "metadata": {
    "slideshow": {
     "slide_type": "-"
    }
   },
   "outputs": [
    {
     "data": {
      "image/png": "[encoded data removed]",
      "text/plain": [
       "<Figure size 720x432 with 1 Axes>"
      ]
     },
     "metadata": {},
     "output_type": "display_data"
    }
   ],
   "source": [
    "plt.plot(x, pdf, linewidth=2, color='k')\n",
    "x2 = np.arange(mu-sigma,mu+sigma,0.001)\n",
    "plt.fill_between(x2, y1= norm.pdf(x2,loc=mu, scale=sigma), facecolor='green', alpha=0.5)\n",
    "plt.show()"
   ]
  },
  {
   "cell_type": "markdown",
   "metadata": {
    "slideshow": {
     "slide_type": "-"
    }
   },
   "source": [
    "One can check that \n",
    "$$\n",
    "\\int_{-\\infty}^\\infty f(x) dx = 1\n",
    "$$\n",
    "which just means that the probability that the random variable takes value between $-\\infty$ and $\\infty$ is one. \n",
    "\n",
    "This integral can be computed using the *cumulative distribution function* (CDF)\n",
    "$$\n",
    "F(x) = \\int_{-\\infty}^x f(x) dx.\n",
    "$$\n",
    "We have that \n",
    "$$\n",
    "\\int_a^b f(x) dx = F(b) - F(a)\n",
    "$$\n",
    "\n",
    "We used to have to look the CDF values up in a table (yes, I am that old.)\n",
    "\n",
    "E.g. the following\n",
    "$$\n",
    "\\int_{\\mu-\\sigma}^{\\mu+\\sigma} f(x) dx = F(\\mu+\\sigma) - F(\\mu-\\sigma)\n",
    "$$\n",
    "we can compute as follows:"
   ]
  },
  {
   "cell_type": "code",
   "execution_count": 10,
   "metadata": {
    "slideshow": {
     "slide_type": "-"
    }
   },
   "outputs": [
    {
     "data": {
      "text/plain": [
       "0.6826894921370859"
      ]
     },
     "execution_count": 10,
     "metadata": {},
     "output_type": "execute_result"
    }
   ],
   "source": [
    "norm.cdf(mu+sigma, loc=mu, scale=sigma) - norm.cdf(mu-sigma, loc=mu, scale=sigma) "
   ]
  },
  {
   "cell_type": "markdown",
   "metadata": {
    "slideshow": {
     "slide_type": "-"
    }
   },
   "source": [
    "This means that 68% of the time, this normal random variable will have values between $\\mu-\\sigma$ and $\\mu+\\sigma$.\n",
    "\n",
    "Similarly, 95% of the time the normal random variable will have values between $\\mu-2\\sigma$ and $\\mu+2\\sigma$ and 99.7% of the time between $\\mu-3\\sigma$ and $\\mu+3\\sigma$.\n",
    "\n",
    "![normdist](normdist.png)\n"
   ]
  },
  {
   "cell_type": "markdown",
   "metadata": {
    "slideshow": {
     "slide_type": "slide"
    }
   },
   "source": [
    "Let's see what it looks like if we sample 1,000,000 normal random variables and then plot a histogram. "
   ]
  },
  {
   "cell_type": "code",
   "execution_count": 11,
   "metadata": {
    "scrolled": false,
    "slideshow": {
     "slide_type": "-"
    }
   },
   "outputs": [
    {
     "data": {
      "image/png": "[encoded data removed]",
      "text/plain": [
       "<Figure size 720x432 with 1 Axes>"
      ]
     },
     "metadata": {},
     "output_type": "display_data"
    }
   ],
   "source": [
    "norm_vars = norm.rvs(loc=mu,scale=sigma,size=1000)\n",
    "\n",
    "plt.hist(norm_vars, bins=100, density=True, color=\"g\")\n",
    "plt.plot(x, pdf, linewidth=2, color='k')\n",
    "plt.title(\"A histogram of normal random variables\")\n",
    "plt.show()"
   ]
  },
  {
   "cell_type": "markdown",
   "metadata": {
    "slideshow": {
     "slide_type": "-"
    }
   },
   "source": [
    "The histogram of the sampled variables looks just like the probability distribution function!\n",
    "\n",
    "\n",
    "**Remark:** There are many other continuous random variables, but in this class we'll mostly only consider the normal random variable."
   ]
  },
  {
   "cell_type": "markdown",
   "metadata": {
    "slideshow": {
     "slide_type": "slide"
    }
   },
   "source": [
    "# 2 One sample statistical inference\n",
    "\n",
    "## 2.1 Checking if a random variable is a normal random variable \n",
    "\n",
    "Given sample data, $x_1, x_2, x_3 \\ldots$, how do you know if the data came from a normal distribution? \n",
    "\n",
    "+ There is a visual check called the \"normal probability plot\". \n",
    "\n",
    "In a [normal probability plot](https://en.wikipedia.org/wiki/Normal_probability_plot), the sorted data are plotted vs. values that are selected to make the points look close to a straight line if the data are approximately normally distributed (in `scipy` this happens with a [specific formula](https://docs.scipy.org/doc/scipy/reference/generated/scipy.stats.probplot.html)). Deviations from a straight line suggest departures from normality. Here we also do the $z$-score normalization:\n",
    "\n",
    "$$\n",
    "z_i = \\frac{x_i - \\bar{x}}{s}. \n",
    "$$\n",
    "\n",
    "Let's look at the first plot. Does this look like it comes from a normal distribution to you?"
   ]
  },
  {
   "cell_type": "code",
   "execution_count": 12,
   "metadata": {
    "scrolled": false
   },
   "outputs": [
    {
     "data": {
      "image/png": "[encoded data removed]",
      "text/plain": [
       "<Figure size 720x432 with 1 Axes>"
      ]
     },
     "metadata": {},
     "output_type": "display_data"
    },
    {
     "data": {
      "image/png": "[encoded data removed]",
      "text/plain": [
       "<Figure size 720x432 with 1 Axes>"
      ]
     },
     "metadata": {},
     "output_type": "display_data"
    },
    {
     "data": {
      "image/png": "[encoded data removed]",
      "text/plain": [
       "<Figure size 720x432 with 1 Axes>"
      ]
     },
     "metadata": {},
     "output_type": "display_data"
    },
    {
     "data": {
      "image/png": "[encoded data removed]",
      "text/plain": [
       "<Figure size 720x432 with 1 Axes>"
      ]
     },
     "metadata": {},
     "output_type": "display_data"
    }
   ],
   "source": [
    "samp_size = 200\n",
    "\n",
    "x = norm.rvs(loc=0, scale=1, size=samp_size)\n",
    "probplot(x, plot=plt)\n",
    "plt.title(\"Normal probability plot\")\n",
    "plt.xlabel(\"Normal quantiles\")\n",
    "plt.ylabel(\"Ordered values\")\n",
    "plt.show()\n",
    "\n",
    "x = t.rvs(df=3,size=samp_size)\n",
    "probplot(x, plot=plt)\n",
    "plt.title(\"Normal probability plot\")\n",
    "plt.xlabel(\"Normal quantiles\")\n",
    "plt.ylabel(\"Ordered values\")\n",
    "plt.show()\n",
    "\n",
    "from scipy.stats import laplace\n",
    "x = laplace.rvs(size=samp_size)\n",
    "probplot(x, plot=plt)\n",
    "plt.title(\"Normal probability plot\")\n",
    "plt.xlabel(\"Normal quantiles\")\n",
    "plt.ylabel(\"Ordered values\")\n",
    "plt.show()\n",
    "\n",
    "from scipy.stats import gamma\n",
    "x = gamma.rvs(a=2,size=samp_size)\n",
    "probplot(x, plot=plt)\n",
    "plt.title(\"Normal probability plot\")\n",
    "plt.xlabel(\"Normal quantiles\")\n",
    "plt.ylabel(\"Ordered values\")\n",
    "plt.show()"
   ]
  },
  {
   "cell_type": "markdown",
   "metadata": {
    "slideshow": {
     "slide_type": "slide"
    }
   },
   "source": [
    "**Example for z-score normalization**\n",
    "\n",
    "Chernova took the gold in the Olympics 2012 with a long jump of 6.54 m for the women’s heptathlon, about 0.5 m further than the mean distance. Jessica Ennis won the 200 m run with a time of 22.83 s, more than 2 s faster than average.\n",
    "\n",
    "Whose performance was more impressive (assuming that the performance of the athletes follows a normal distribution) ?\n",
    "\n",
    "A. Chernova <br>\n",
    "B. Ennis <br>\n",
    "C. Can't say <br>\n",
    "D. Unicorns are gray <br>\n",
    "\n",
    "\n",
    "\n",
    "\n",
    "\n",
    "\n",
    "\n",
    "\n",
    "\n"
   ]
  },
  {
   "cell_type": "markdown",
   "metadata": {
    "slideshow": {
     "slide_type": "slide"
    }
   },
   "source": [
    "If we verified that both performance scores were following a normal distribution and had access to the standard deviation of both performances (long jump and the run), we would be able to compute the $z$-scores and compare them. E.g. if $\\sigma$ is 0.56 m for the long jump and 0.80 s for the run then we could calculate as follows:\n",
    "\n",
    "$$\n",
    "z_1 = \\frac{6.54-5.91}{0.56} = 1.1 \\\\\n",
    "z_2 = \\frac{22.83-24.60}{0.80} = -2.1\n",
    "$$"
   ]
  },
  {
   "cell_type": "markdown",
   "metadata": {
    "slideshow": {
     "slide_type": "slide"
    }
   },
   "source": [
    "## 2.2 Towards hypothesis testing and the importance of Central Limit Theorem (CLT)\n",
    "\n",
    "Suppose we have a coin and we want to determine whether or not it is 'fair'. We could flip it many, many times and count how many heads we obtain. If the fraction of heads is approximately $0.5$, we might argue that the coin is fair. \n",
    "\n",
    "This is an example of statistical inference: We are trying to determine something about the coin (aka the *populations*) from the coin flips (aka the *sample*). \n",
    "\n",
    "Let's say we flip a coin $n=1000$ times. **If** the coin is fair, the outcome is described by the Binomial distribution with $p=0.5$. In real-world, we wouldn't have access to the actual distribution (the Binomial) that the sample follows, so here comes handy the Central Limit Theorem (CLT)."
   ]
  },
  {
   "cell_type": "markdown",
   "metadata": {
    "slideshow": {
     "slide_type": "slide"
    }
   },
   "source": [
    "**Central Limit Theorem.** Let $\\{X_1,\\ldots, X_n\\}$ be a sample of $n$ random variables chosen identically and independently from a distribution with mean $\\mu$ and finite variance $\\sigma^2$. If $n$ is 'large', then \n",
    "- the sum of the variables $\\sum_{i=1}^n X_i$ is also a random variable and is approximately **normally** distributed with mean $n\\mu$ and variance $n\\sigma^2$ and\n",
    "- the mean of the variables $\\frac{1}{n}\\sum_{i=1}^n X_i$ is also a random variable and is approximately **normally** distributed with mean $\\mu$ and variance $\\frac{\\sigma^2}{n}$.\n",
    "\n",
    "You also see why the normal distribution is **so important**. \n",
    "\n",
    "So, how can we use the central limit theorem (CLT)? \n"
   ]
  },
  {
   "cell_type": "markdown",
   "metadata": {
    "slideshow": {
     "slide_type": "slide"
    }
   },
   "source": [
    "So the CLT tells us that if $n$ is large, binomial random variables will be distributed approximately normally. That is, if we flip a coin many times, the number of heads that we're likely to see is described by a normal distribution. This provides a different and easier way to answer the question: How unlikely is it to flip a fair coin 1000 times and see 545 heads? \n",
    "\n",
    "Suppose we flip a fair ($p=0.5$) coin 1000 times. \n",
    "\n",
    "*Question:* How many heads do we expect to see? \n",
    "\n",
    "The CLT says that the number of heads (= sum of Bernoulli r.v. = binomial r.v.) is approximately normally distributed with mean \n",
    "$$ \n",
    "n\\mu = np = 1000*0.5 = 500 \n",
    "$$\n",
    "and variance \n",
    "$$ \n",
    "n \\sigma^2 = np(1-p) = 1000*0.5*0.5 = 250. \n",
    "$$\n",
    "\n",
    "Let's do an experiment* to see how good the CLT is for Bernoulli random variables. We'll call flipping a fair coin n=1,000 times and counting the number of heads a \"simulation\". Recall that the outcome is precisely a binomial random variable with n=1,000 and p = 0.5. We'll do 10,000 simulations and then compare the histogram of the binomial random variables and the normal distribution predicted by the CLT. \n",
    "\n",
    "***Note** In real-life, the experiment would be to actually collect the data/sample."
   ]
  },
  {
   "cell_type": "code",
   "execution_count": 13,
   "metadata": {
    "scrolled": true,
    "slideshow": {
     "slide_type": "slide"
    }
   },
   "outputs": [
    {
     "data": {
      "image/png": "[encoded data removed]",
      "text/plain": [
       "<Figure size 720x432 with 1 Axes>"
      ]
     },
     "metadata": {},
     "output_type": "display_data"
    },
    {
     "data": {
      "image/png": "[encoded data removed]",
      "text/plain": [
       "<Figure size 720x432 with 1 Axes>"
      ]
     },
     "metadata": {},
     "output_type": "display_data"
    }
   ],
   "source": [
    "n = 1000\n",
    "p = 0.5\n",
    "bin_vars = binom.rvs(n=n,p=p,size=1000)\n",
    "\n",
    "plt.hist(bin_vars, bins='auto',density=True, color=\"g\")\n",
    "\n",
    "mu = n*p \n",
    "sigma = np.sqrt(n*p*(1-p))\n",
    "x = np.arange(mu-4*sigma,mu+4*sigma,0.1);\n",
    "pdf = norm.pdf(x, loc=mu, scale=sigma)\n",
    "plt.plot(x, pdf, linewidth=2, color='k')\n",
    "plt.title(\"A comparison between the histogram of binomial random \\n variables and the normal distribution predicted by the CLT\")\n",
    "plt.show()\n",
    "\n",
    "\n",
    "probplot(bin_vars, plot=plt)\n",
    "plt.title(\"Normal probability plot\")\n",
    "plt.xlabel(\"Normal quantiles\")\n",
    "plt.ylabel(\"Ordered values\")\n",
    "plt.show()\n"
   ]
  },
  {
   "cell_type": "markdown",
   "metadata": {
    "slideshow": {
     "slide_type": "-"
    }
   },
   "source": [
    "Ok, so now that the CLT works, let's see how we can integrate it in hypothesis testing."
   ]
  },
  {
   "cell_type": "markdown",
   "metadata": {
    "slideshow": {
     "slide_type": "slide"
    }
   },
   "source": [
    "## 2.3 Hypothesis Testing formulation\n",
    "\n",
    "In hypothesis testing, the most important question is: What is the probability of seeing a value as extreme or more extreme than the value that we observed? \n",
    "\n",
    "In the coin flipping we might say that any result $\\geq 545$ is 'as or more extreme'. Actually, seeing any result  $≤455$ would be 'as or more extreme' too. Why?\n",
    "\n",
    "Can I compute that probability? Yes! With a bit of creative math and the help of CLT. *(In Section 6, you can see how we would compute the same probability with the binomial distribution)*. \n",
    "\n",
    "For calculation reasons, we inverse the question: What is the likelihood of flipping a coin 1000 times and seeing an event *less extreme* than 545 heads? \n",
    "\n",
    "The CLT tells us that the mean of the outcome should be a normal distribution! And that is computed by: \n",
    "$$\n",
    "\\textrm{Prob}(X\\in[455,545]) = \\int_{455}^{545} f(x) dx = F(545) - F(455).\n",
    "$$\n",
    "\n",
    "This is something that we can easily evaluate using the cumulative distribution function (CDF) on the normal distribution."
   ]
  },
  {
   "cell_type": "code",
   "execution_count": 30,
   "metadata": {
    "scrolled": false,
    "slideshow": {
     "slide_type": "-"
    }
   },
   "outputs": [
    {
     "name": "stdout",
     "output_type": "stream",
     "text": [
      "0.9955734741420801\n",
      "0.004426525857919916\n"
     ]
    },
    {
     "data": {
      "image/png": "[encoded data removed]",
      "text/plain": [
       "<Figure size 720x432 with 1 Axes>"
      ]
     },
     "metadata": {},
     "output_type": "display_data"
    }
   ],
   "source": [
    "n = 1000\n",
    "p = 0.5\n",
    "mu = n*p\n",
    "sigma = np.sqrt(n*p*(1-p))\n",
    "prob = norm.cdf(545, loc=mu, scale=sigma) - norm.cdf(455, loc=mu, scale=sigma) \n",
    "print(prob) #Approximate probability of seeing something less extreme\n",
    "print(1-prob) #Approximate probability of seeing something more extreme\n",
    "\n",
    "# a plot illustrating the integral \n",
    "x = np.arange(mu-4*sigma,mu+4*sigma,0.001);\n",
    "plt.plot(x, norm.pdf(x, loc=mu, scale=sigma), linewidth=2, color='k')\n",
    "x2 = np.arange(455,545,0.001)\n",
    "plt.fill_between(x2, y1= norm.pdf(x2,loc=mu, scale=sigma), facecolor='green', alpha=0.5)\n",
    "plt.xlim([mu-4*sigma,mu+4*sigma])\n",
    "plt.show()"
   ]
  },
  {
   "cell_type": "markdown",
   "metadata": {
    "slideshow": {
     "slide_type": "-"
    }
   },
   "source": [
    "So we see that $99.5\\%$ of the time, we would see an event less extreme than 545 heads.\n",
    "\n",
    "What does that tell us? (carry on...)"
   ]
  },
  {
   "cell_type": "markdown",
   "metadata": {
    "slideshow": {
     "slide_type": "slide"
    }
   },
   "source": [
    "If the coin were fair, the probability of seeing 545 heads is just $0.50\\%$. So it is very unlikely that if the coin were fair, we would see this result! Maybe so unlikely that we would declare that the coin is unfair? This is the idea behind **hypothesis testing**. \n",
    "\n",
    "**Note**: I didn't say that \"it is unlikely that the coin is fair\". But rather: \"if the coin was fair, it would be unlikely to see this result\". \n",
    "\n",
    "In *hypothesis testing*, we make a null hypothesis, written $H_0$. In this case, the null hypothesis is\n",
    "\n",
    "$$\n",
    "H_0: \\text{the coin is fair, i.e., $p=0.5$}.\n",
    "$$\n",
    "\n",
    "The alternative hypothesis, $H_a$, is typically the hypothesis that the researcher wants to validate. In this case: \n",
    "\n",
    "$$\n",
    "H_a: \\text{the coin is unfair, i.e., $p\\neq 0.5$}.\n",
    "$$\n",
    "\n",
    "We also choose a *significance level* for the test, $\\alpha$, traditionally $1\\%$ or $5\\%$. \n",
    "In this case, let's choose a significance level of $\\alpha = 1\\%$. \n",
    "\n",
    "We then collect a *random sample*. In this case, we flip the coin 1000 times and count the number of heads (in this case 545). More generally, we collect a random sample of data from the population of interest. \n",
    "\n",
    "Finally, assuming the null hypothesis is true, we compute how likely it is to see a number that is at least as far from the expected value as the number obtained from the random sample. In our case, this is $0.50\\%$. This is called the *p-value*. Since $p=0.50\\%$ is smaller than the chosen significance level, $\\alpha = 1\\%$, we reject the null hypothesis and declare the coin to be unfair.  \n",
    "\n",
    "Some comments about the p-value:\n",
    "1. A p-value is a probability calculated assuming that $H_0$ is true. \n",
    "+ The smaller the p-value, the stronger the evidence against $H_0$.\n",
    "+ Read more about \"hacking\" p-values in section 5.\n",
    "+ **Warning:** A p-value is not the probability that the null hypothesis is true or false. It is the probability of observing an event as extreme as the one we did, assuming the null hypothesis to be true. In this example, it is the probability that, assuming the coin is fair, one would observe a count which is 45 or more away from the mean (i.e. $\\textrm{Prob}(|X - \\mu| \\geq 45) =\\textrm{Prob}(X - \\mu \\geq 45)+ \\textrm{Prob}(X - \\mu \\leq -45)$)."
   ]
  },
  {
   "cell_type": "markdown",
   "metadata": {
    "slideshow": {
     "slide_type": "slide"
    }
   },
   "source": [
    "### 2.3.1 Example: Debunking the lockdown weight gain \n",
    "\n",
    "(Adapted from Devore, pp.314-315.)\n",
    "\n",
    "A common belief is that students during the extensive lockdown (after the $n$-th wave) gained weight, approx. around 2 kg.\n",
    "\n",
    "Let $\\mu$ denote the true average weight gain after the lockdown. We take the null hypothesis to be\n",
    "$$\n",
    "H_0: \\mu \\geq 2\n",
    "$$\n",
    "so that the alternative hypothesis is that the average weight gain after the lockdown is less than 2 kg ($H_a:  \\mu < 2$). \n",
    "\n",
    "We set a significance level of, say, $\\alpha = 1\\%$. \n",
    "\n",
    "We suppose a random sample of $n$ students is selected, their weights (before and after the lockdown) are measured, and the sample mean $\\bar{x}$ and sample standard deviation $s$ are computed. Suppose we do the experiment with this class, we have a sample of $n=129$ students, the sample mean weight gain was $\\bar{x}=0.56$ kg and with a sample standard deviation of $s=0.75$ kg. \n",
    "\n",
    "Assuming $H_0$ to be true, how unlikely is it that we would observe such a value ($\\bar{x}=0.56$)?  \n",
    "\n",
    "The CLT says that \n",
    "+ the mean of the variables $\\bar{X}=\\frac{1}{n}\\sum_{i=1}^n X_i$ is a random variable and is approximately **normally** distributed with mean $\\mu$ and variance $\\frac{\\sigma^2}{n}$.\n",
    "\n",
    "\n",
    "We take a normal distribution with mean given by the null value ($\\mu = 2$) and variance given by $s^2/n = (0.75)^2/129=0.0043604651$.\n",
    "\n",
    "The $p$-value is then computed as the probability that $\\bar{X}<0.56 = \\bar{x}$, \n",
    "$$\n",
    "P(\\bar{X}< 0.56) = \\int_{-\\infty}^{0.56} f(x) dx = F(0.56).\n",
    "$$"
   ]
  },
  {
   "cell_type": "code",
   "execution_count": 15,
   "metadata": {
    "slideshow": {
     "slide_type": "-"
    }
   },
   "outputs": [
    {
     "name": "stdout",
     "output_type": "stream",
     "text": [
      "p: 9.9538362548315e-106\n"
     ]
    }
   ],
   "source": [
    "mu = 2\n",
    "sigma = np.sqrt(0.75**2/129)\n",
    "print('p:', norm.cdf(0.56, loc=mu, scale=sigma))"
   ]
  },
  {
   "cell_type": "markdown",
   "metadata": {
    "slideshow": {
     "slide_type": "-"
    }
   },
   "source": [
    "The p-value is practically zero, much less than the significance level! The data very strongly contradicts the null hypothesis. We reject the null hypothesis, $H_0$, and conclude that the lockdown weight gain is a myth (or is it not?). "
   ]
  },
  {
   "cell_type": "markdown",
   "metadata": {
    "slideshow": {
     "slide_type": "slide"
    }
   },
   "source": [
    "### 2.3.2 Example: Zinc in Batteries (study at home)\n",
    "\n",
    "This example was taken from Devore, pp.317. \n",
    "\n",
    "A random sample of $n=51$ Panasonic AAA batteries gave a sample mean zinc mass of $\\bar{X}=2.06$ grams and a sample standard deviation of $S=0.141$ grams. \n",
    "\n",
    "**Question**: Does this data provide compelling evidence for concluding that the population mean zinc mass exceeds 2.0 grams, as reported by the company? \n",
    "\n",
    "Let $\\mu$ denote the true average zinc mass of such batteries. We take the null hypothesis to be\n",
    "$$\n",
    "H_0: \\mu \\leq 2.0\n",
    "$$\n",
    "and that the alternative hypothesis is\n",
    "$$\n",
    "H_a:  \\mu > 2.0.\n",
    "$$\n",
    "\n",
    "We set a significance level of, say, $\\alpha = 1\\%$. \n",
    "\n",
    "According to the CLT, the sample mean $\\bar{X}$ has approximately a normal distribution with mean $\\mu = 2.0$ (Assuming $H_0$) and standard deviation $S/\\sqrt{n}$. We could proceed as previously but it is more standard to normalize the variable.  \n",
    "\n",
    "To proceed, we conduct a **z-test**, which is the same as we did in the previous example, except now we use the normalized $Z$-statistic, \n",
    "$$\n",
    "Z = \\frac{\\bar{X} - 2.0}{S/\\sqrt{n}}. \n",
    "$$\n",
    "The $Z$-statistic is distributed according to the \"standard\" normal distribution with mean $\\mu=0$ and standard deviation $\\sigma = 1$.\n",
    "\n",
    "Assuming $H_0$ to be true, how unlikely is it that we would observe such a large value ($\\bar{X}=2.06$)?\n",
    "$$\n",
    "P-\\textrm{value} = P (\\bar{X} \\geq 2.06) = P (Z\\geq 3.04) = \\int_{3.04}^\\infty f(x) dx = 1 - F(3.04). = .0012.  \n",
    "$$\n",
    "Because the $P$-value $= .0012 \\leq .01 = \\alpha$, the null hypothesis should be rejected at the chosen significance level. We conclude that the average zinc mass in the batteries exceeds 2.0. "
   ]
  },
  {
   "cell_type": "code",
   "execution_count": 16,
   "metadata": {},
   "outputs": [
    {
     "name": "stdout",
     "output_type": "stream",
     "text": [
      "0.0011871957647558995\n",
      "0.0011871957647558995\n"
     ]
    }
   ],
   "source": [
    "print(1 - norm.cdf(2.06, loc=2.0, scale = 0.141/np.sqrt(51)))\n",
    "\n",
    "z = (2.06 - 2.0) / (0.141/np.sqrt(51))\n",
    "print(1 - norm.cdf(z, loc=0, scale=1))"
   ]
  },
  {
   "cell_type": "markdown",
   "metadata": {
    "slideshow": {
     "slide_type": "slide"
    }
   },
   "source": [
    "## Summary of hypothesis testing and the z-test\n",
    "1. Identify the parameter of interest and describe it in the context of the problem. \n",
    "+ Determine the null and alternative hypotheses.\n",
    "+ Choose a significance level $\\alpha$. \n",
    "+ Find the formula for the computed value of the test statistic, *e.g.*, \n",
    "$Z = \\frac{\\bar{X} - \\mu}{\\sigma/\\sqrt{n}}$ (use the CLT). See Section 3 for other tests (e.g. for proportions).\n",
    "+ Using the sampled data, compute the $P$-value, *e.g.*, $F(z)$\n",
    "+ Compare the significance level to the $P$-value to decide whether or not the null hypothesis should be rejected and state the conclusion in the problem context. Report the $P$-value! \n",
    "\n",
    "\n",
    "\n",
    "### One- and two- sided hypothesis testing:\n",
    "\n",
    "Depending on the null and alternative hypothesis, the $P$-value will be different integrals of the 'bell curve'. This is called [one- and two- sided hypothesis testing](https://en.wikipedia.org/wiki/One-_and_two-tailed_tests).\n",
    "\n",
    "<img src=\"determinePvals.png\" width=\"600\">\n",
    "$\\qquad \\qquad \\qquad \\qquad \\qquad \\qquad \\qquad \\qquad \\qquad \\qquad \\qquad \\qquad \\qquad \\qquad \\qquad$ \n",
    "source: Devore, pp.329\n"
   ]
  },
  {
   "cell_type": "markdown",
   "metadata": {
    "slideshow": {
     "slide_type": "slide"
    }
   },
   "source": [
    "## 2.4 What to do for smaller sizes? Student's t-test\n",
    "\n",
    "When $n$ is small, the Central Limit Theorem can no longer be used. In this case, if the samples are drawn from an approximately normal distribution, then the correct distribution to use is called the [Student's t distribution](https://en.wikipedia.org/wiki/Student%27s_t-distribution) with $\\nu = n-1$ degrees of freedom. The probability density function (pdf) for the student's t distribution is not pretty (Google it!) but it is built into scipy, so we can compare the student's t-test to the normal distribution. "
   ]
  },
  {
   "cell_type": "code",
   "execution_count": 17,
   "metadata": {
    "scrolled": false,
    "slideshow": {
     "slide_type": "-"
    }
   },
   "outputs": [
    {
     "data": {
      "application/vnd.jupyter.widget-view+json": {
       "model_id": "4709224c3c724c80995285b636ba70a2",
       "version_major": 2,
       "version_minor": 0
      },
      "text/plain": [
       "interactive(children=(IntSlider(value=11, description='sample_size', max=20, min=2), Output()), _dom_classes=(…"
      ]
     },
     "metadata": {},
     "output_type": "display_data"
    },
    {
     "data": {
      "text/plain": [
       "<function __main__.compare_distributions(sample_size)>"
      ]
     },
     "execution_count": 17,
     "metadata": {},
     "output_type": "execute_result"
    }
   ],
   "source": [
    "# there is some trouble with this package for some python versions\n",
    "# if it doesn't work, don't worry about it\n",
    "from ipywidgets import interact \n",
    "\n",
    "samp_mean = 0\n",
    "samp_std_dev = 1\n",
    "\n",
    "x = np.linspace(samp_mean-4*samp_std_dev,samp_mean+4*samp_std_dev,1000);\n",
    "def compare_distributions(sample_size):\n",
    "    pdf1 = norm.pdf(x, loc=samp_mean, scale=samp_std_dev/np.sqrt(sample_size))\n",
    "    pdf2 = t.pdf(x,df=sample_size-1,loc=samp_mean, scale=samp_std_dev/np.sqrt(sample_size))\n",
    "    plt.plot(x, pdf1, linewidth=2, color='k',label='normal distribution pdf')\n",
    "    plt.plot(x, pdf2, linewidth=2, color='g',label='t distribution pdf')\n",
    "    plt.xlim(x.min(),x.max())\n",
    "    plt.ylim(0,2)\n",
    "    plt.legend()\n",
    "    plt.show()\n",
    "    \n",
    "interact(compare_distributions,sample_size=(2,20,1))"
   ]
  },
  {
   "cell_type": "markdown",
   "metadata": {
    "slideshow": {
     "slide_type": "-"
    }
   },
   "source": [
    "The student's t distribution has \"heavier tails\" than the normal distribution. For a sample size greater than $\\approx 20$ (or 30 or 40, depending on which textbook you follow or which statistician you ask), the normality assumption is generally accepted as reasonable. \n",
    "\n",
    "In the previous example, $n=51$, which is large enough to assume normality. "
   ]
  },
  {
   "cell_type": "markdown",
   "metadata": {
    "slideshow": {
     "slide_type": "slide"
    }
   },
   "source": [
    "## 3. Two Sample Hypothesis Tests\n",
    "\n",
    "So far we have been concerned with statistical inference from a *single sample*. However it is usually more useful in statistical analysis to compare *two samples* from two different populations (or treatment groups). We are interested in whether there is a statistically significant difference between the two populations or treatment groups A and B.\n",
    "\n",
    "If the variable of interest is **quantitative**, we compare the **means** $\\mu_A$, $\\mu_B$ of the two populations. For example:\n",
    "\n",
    "\\begin{align*} \n",
    "H_0: \\mu_A &= \\mu_B \\\\\n",
    "H_A: \\mu_A &\\ne \\mu_B\n",
    "\\end{align*}\n",
    "\n",
    "If the variable of interest is **categorical** with 2 categories, we compare the **proportions** $p_A$, $p_B$ of the two populations. For example:\n",
    "\n",
    "\\begin{align*} \n",
    "H_0: p_A &= p_B \\\\\n",
    "H_A: p_A &\\ne p_B\n",
    "\\end{align*}\n",
    "\n",
    "Here, $\\mu_A, \\mu_B$, $p_A$, $p_B$ appearing in $H_0$ and $H_A$ refer to the **population** parameters. We will evaluate whether there is significant evidence for $H_A$ using the **sample** statistics $\\bar{x}_1$, $\\bar{x}_2$, $\\hat{p}_A$, $\\hat{p}_B$. \n",
    "\n",
    "We'll let $n_A, n_B$ be the sample sizes from populations $A, B$ respectively."
   ]
  },
  {
   "cell_type": "markdown",
   "metadata": {
    "slideshow": {
     "slide_type": "slide"
    }
   },
   "source": [
    "### 3.1 Two sample HT's for means\n",
    "\n",
    "When we have 2 independent samples, we compare the means with a **two sample $t$-test** (this is more robust to small sample sizes than $z$-tests).\n",
    "\n",
    "**Example:** A nursing home records data on the age and gender of its residents who have passed away in the last five years. The ages of the 12 female residents and 10 male residents are given below. Is there significant evidence of a difference in mean age of death for males and females at this nursing home population?\n",
    "\n",
    "Our hypotheses are:\n",
    "\\begin{align*} \n",
    "H_0: \\mu_F &= \\mu_M \\\\\n",
    "H_A: \\mu_F &\\ne \\mu_M\n",
    "\\end{align*}\n",
    "\n",
    "Or alternatively\n",
    "\n",
    "\\begin{align*} \n",
    "H_0: \\mu_F - \\mu_M &= 0\\\\\n",
    "H_A: \\mu_F - \\mu_M & \\ne 0\n",
    "\\end{align*}\n",
    "\n",
    "Then the t-statistic $t = \\frac{\\bar X_M - \\bar X_F}{\\sqrt{\\left( \\frac{S_M^2}{N_M} + \\frac{S_F^2}{N_F} \\right)}}$ is expected to follow a $t_{min}(n_F,n_M)−1$ distribution so i can use that one to compute the p-value."
   ]
  },
  {
   "cell_type": "code",
   "execution_count": 18,
   "metadata": {},
   "outputs": [
    {
     "name": "stdout",
     "output_type": "stream",
     "text": [
      "82.25\n",
      "7.149380138420139\n",
      "12\n",
      "73.6\n",
      "3.921450978627398\n",
      "10\n"
     ]
    }
   ],
   "source": [
    "female_death_age = [89, 74, 86, 72, 77, 84, 79, 97, 81, 85, 87, 76]\n",
    "male_death_age = [72, 74, 77, 80, 77, 73, 68, 70, 69, 76]\n",
    "from statistics import stdev\n",
    "print(np.mean(female_death_age))\n",
    "print(stdev(female_death_age)) #sample (not population) standard deviation, different than np.std\n",
    "print(len(female_death_age))\n",
    "print(np.mean(male_death_age))\n",
    "print(stdev(male_death_age))\n",
    "print(len(male_death_age))"
   ]
  },
  {
   "cell_type": "markdown",
   "metadata": {},
   "source": [
    "We can run the $t$-test in python:"
   ]
  },
  {
   "cell_type": "code",
   "execution_count": 19,
   "metadata": {},
   "outputs": [
    {
     "name": "stdout",
     "output_type": "stream",
     "text": [
      "3.4131849715231763 0.002756242969512716\n"
     ]
    }
   ],
   "source": [
    "from scipy.stats import ttest_ind\n",
    "t, pval = ttest_ind(female_death_age, male_death_age)\n",
    "print(t, pval)"
   ]
  },
  {
   "cell_type": "markdown",
   "metadata": {},
   "source": [
    "With a $p$-value of 0.0028, there is significant evidence of a difference, i.e. females are living longer. If we wanted to run a one-sided test ($H_A: \\mu_F > \\mu_M$), then we would just cut in half the two-sided $p$-value. We also could have run this test using summary statistics:"
   ]
  },
  {
   "cell_type": "code",
   "execution_count": 20,
   "metadata": {},
   "outputs": [
    {
     "name": "stdout",
     "output_type": "stream",
     "text": [
      "3.4134081547669486 0.00275482397511862\n"
     ]
    }
   ],
   "source": [
    "from scipy.stats import ttest_ind_from_stats\n",
    "t, pval = ttest_ind_from_stats(82.25, 7.149, 12, 73.6, 3.921, 10)\n",
    "print(t, pval)"
   ]
  },
  {
   "cell_type": "markdown",
   "metadata": {
    "slideshow": {
     "slide_type": "slide"
    }
   },
   "source": [
    "### 3.2 Two sample HT's for proportions\n",
    "\n",
    "When we have 2 independent samples of a binary categorical variable, we compare the proportions (i.e. percents) with a two sample $z$-test."
   ]
  },
  {
   "cell_type": "markdown",
   "metadata": {
    "slideshow": {
     "slide_type": "-"
    }
   },
   "source": [
    "We make the following definitions:\n",
    "- $N_A$ is the number of surveyed people from population $A$  \n",
    "- $n_A$ is the number of successes from population $A$\n",
    "- $p_A = n_A/N_A$ is the proportion of successes from population $A$\n",
    "\n",
    "Similarly, we define \n",
    "- $N_B$ is the number of surveyed people from population $B$  \n",
    "- $n_B$ is the number of successes from population $B$\n",
    "- $p_B = n_B/N_B$ is the proportion of successes from population $B$\n",
    "\n",
    "We make the null hypothesis:\n",
    "$$\n",
    "H_0\\colon \\text{$p_A$ and $p_B$ are the same, that is, } p_A - p_B = 0.\n",
    "$$\n",
    "That is, the proportion of successes in the two populations is the same. \n",
    "\n",
    "We'll take it as a fact (see Devore Ch. 9.4 or revisit your statistics) that: \n",
    "- $n_A/N_A$ is approximately a normal random variable with mean $p_A$ and variance $\\sigma_A^2 = p_A(1-p_A)/N_A$ \n",
    "- $n_B/N_B$ is approximately a normal random variable with mean $p_B$ and variance $\\sigma_B^2 = p_B(1-p_B)/N_B$\n",
    "- $n_A/N_A - n_B/N_B = p_A-p_B$ is approximately a normal random variable with mean $\\mu = 0$ and variance $\\sigma^2 = \\sigma_A^2 + \\sigma_B^2$. \n",
    "- The test statistic called the *two-proportion z-value* (and can be deducted from the Z-statistic we saw before)\n",
    "$$\n",
    "Z = \\frac{(p_A-p_B) - 0.0}{\\sigma/\\sqrt{(N_A+N_B)}} = \\frac{p_A - p_B}{\\sqrt{\\hat{p} \\hat{q} \\left( \\frac{1}{N_A} + \\frac{1}{N_B} \\right)}}.\n",
    "$$\n",
    "is approximately  distributed according to the standard normal distribution when $H_0$ is true. Here $\\hat{p} = \\frac{N_A}{N_A + N_B}p_A + \\frac{N_B}{N_A + N_B}p_B$ and $\\hat{q} = 1-\\hat{p}$. \n",
    "\n",
    "From the data, we estimate the mean, $\\mu$, to be  $p_A - p_B$. "
   ]
  },
  {
   "cell_type": "markdown",
   "metadata": {
    "slideshow": {
     "slide_type": "slide"
    }
   },
   "source": [
    "### Example: 1954 Salk polio-vaccine experiment\n",
    "\n",
    "In 1954, polio was widespread and a new vaccine of unknown efficacy was introduced. To test the efficacy, in a double-blind study, two groups of children were given injections: one contained the vaccine and the other contained a placebo. \n",
    "\n",
    "Let $p_A$ and $p_B$ be the proportions of the children, having received the placebo and vaccine injections, respectively, to contract polio. We formulate the null hypothesis that \n",
    "$$\n",
    "H_0\\colon p_A - p_B \\leq 0,\n",
    "$$\n",
    "that is, the vaccine is not effective.\n",
    "The alternative hypothesis is that \n",
    "$$\n",
    "H_a\\colon p_A - p_B >0, \n",
    "$$\n",
    "that is, a vaccinated child is less likely to contract polio than a child receiving the placebo.\n",
    "\n",
    "We choose a significance level of $\\alpha = 0.01$. \n",
    "\n",
    "An experiment was conducted with the following results: \n",
    "$$\n",
    "\\begin{aligned}\n",
    "&\\text{Placebo:} \\quad N_A = 201229, \\quad n_A = 110 \\\\\n",
    "&\\text{Vaccine:} \\quad N_B = 200745, \\quad n_B = 33.\n",
    "\\end{aligned}\n",
    "$$"
   ]
  },
  {
   "cell_type": "code",
   "execution_count": 21,
   "metadata": {
    "slideshow": {
     "slide_type": "-"
    }
   },
   "outputs": [],
   "source": [
    "nA = 110\n",
    "NA = 201229\n",
    "pA = nA/NA\n",
    "muA = pA\n",
    "sigmaA = np.sqrt(pA*(1-pA)/NA)\n",
    "\n",
    "nB = 33\n",
    "NB = 200745\n",
    "pB = nB/NB\n",
    "muB = pB\n",
    "sigmaB = np.sqrt(pB*(1-pB)/NB)"
   ]
  },
  {
   "cell_type": "markdown",
   "metadata": {
    "slideshow": {
     "slide_type": "-"
    }
   },
   "source": [
    "Now we perform the hypothesis test and see what the probability of the outcome is under the assumption of the null hypothesis. "
   ]
  },
  {
   "cell_type": "code",
   "execution_count": 22,
   "metadata": {
    "slideshow": {
     "slide_type": "-"
    }
   },
   "outputs": [
    {
     "name": "stdout",
     "output_type": "stream",
     "text": [
      "6.425812770083365\n",
      "6.558342757756463e-11\n"
     ]
    }
   ],
   "source": [
    "phat = NA*pA/(NA+NB) + NB*pB/(NA+NB)\n",
    "qhat = 1-phat\n",
    "\n",
    "z = (pA - pB)/np.sqrt(phat*qhat*(1/NA + 1/NB)) \n",
    "print(z)\n",
    "\n",
    "p_value = 1-norm.cdf(z)\n",
    "print(p_value)"
   ]
  },
  {
   "cell_type": "markdown",
   "metadata": {
    "slideshow": {
     "slide_type": "-"
    }
   },
   "source": [
    "The probability that an erroneous conclusion is reached, under the assumption of the null hypothesis, is $6.6\\times10^{-11}$, way less than the significance level, $\\alpha$. We reject the null hypothesis and declare that the vaccine is more effective than a placebo! "
   ]
  },
  {
   "cell_type": "markdown",
   "metadata": {
    "slideshow": {
     "slide_type": "slide"
    }
   },
   "source": [
    "### Motivation: A/B testing\n",
    "*A/B testing* is a method of comparing two or more versions of an advertisement, webpage, app, etc. We set up an experiment where the variants are shown to users at random and statistical analysis is used to determine which is best. AB testing is the *de facto* test for many business decisions.  \n",
    "\n",
    "**Example.** A/B testing was extensively used by President Obama during his 2008 and 2012 campaigns to  develop \n",
    "* optimized fund-raising strategies,  \n",
    "* get-out-the-vote programs that would be most beneficial, and \n",
    "* target ads to the most susceptible audiences. \n",
    "\n",
    "A/B testing is used by all big companies (e.g. Google) to test customer response (e.g. if search results click through increases by having an underlined link).\n",
    "\n",
    "Learn more here:\n",
    "[Wired story on A/B testing](http://www.wired.com/2012/04/ff_abtesting/)\n",
    "and \n",
    "[Planet Money Episode 669: A or B](https://www.npr.org/sections/money/2015/12/11/459412925/episode-669-a-or-b)\n",
    "\n",
    "We are going to practice one example in the bootcamp"
   ]
  },
  {
   "cell_type": "markdown",
   "metadata": {
    "slideshow": {
     "slide_type": "slide"
    }
   },
   "source": [
    "## 4. Most Common Statistical Tests (Summary)\n",
    "\n",
    "| Variable type | # Groups | Classic approach | \n",
    "| --- | --- | --- |\n",
    "| Quantitative | 2 | t-test | \n",
    "| >> | 3+ | ANOVA |\n",
    "| Binary (proportions) | 2 | z-test | \n",
    "| >> | 3+ | $\\chi^2$ test | \n",
    "| Categorical | 2+ | $\\chi^2$ test | \n",
    "\n",
    "\n",
    "\n",
    "The classical approaches are typically parametric, based  on some underlying distributional assumptions of the individual data, and work well for large n (or if those assumptions are actually true).\n",
    "\n",
    "The alternative approaches would be non-parametric in that there is no assumption of an underlying distribution, but they have slightly less power and may take more time & care to calculate. We do not cover them here."
   ]
  },
  {
   "cell_type": "markdown",
   "metadata": {
    "slideshow": {
     "slide_type": "slide"
    }
   },
   "source": [
    "### 2-sample t-test (as in paragraph 3.1)\n",
    "\n",
    "Formally, the 2-sample t-test for the mean difference between 2 groups is:\n",
    "\n",
    "$H_0 : µ_A = µ_B\t\\text{     vs.      }\tH_A : µ_A != µ_B$\n",
    "\n",
    "$$\n",
    "t = \\frac{\\bar Y_A - \\bar Y_B}{\\sqrt{\\left( \\frac{S_A^2}{N_A} + \\frac{S_B^2}{N_B} \\right)}}.\n",
    "$$\n",
    "\n",
    "The p-value can then be calculated based on a $t_{min}(n_A,n_B)−1$ distribution. In python use: `scipy.stats.ttest_ind`\n",
    "\n",
    "The assumptions for this test include:<br>\n",
    "(i) independent  observations and <br>\n",
    "(ii) normally distributed responses  within each group (or sufficiently large sample size).<br>"
   ]
  },
  {
   "cell_type": "markdown",
   "metadata": {
    "slideshow": {
     "slide_type": "slide"
    }
   },
   "source": [
    "### 2-sample z-test (as in paragraph 3.2) \n",
    "\n",
    "Formally, the 2-sample z test for the difference in proportions between 2 groups:\n",
    "\n",
    "$H_0 : p_A = p_B\t\\text{     vs.      }\tH_A : p_A != p_B$\n",
    "\n",
    "$$\n",
    "Z = \\frac{p_A - p_B}{\\sqrt{\\hat{p} \\hat{q} \\left( \\frac{1}{N_A} + \\frac{1}{N_B} \\right)}}.\n",
    "$$\n",
    "\n",
    "\n",
    "where $\\hat{p} = \\frac{N_A \\times \\hat{p}_A+N_B \\times \\hat{p}_B}{N_A+N_B}$ is the overall proportion of successes (and $\\hat q = 1 - \\hat p$).\n",
    "\n",
    "The p-value can then be calculated based on a standard normal distribution. In python use: `statsmodels.stats.proportion.proportions_ztest`\n",
    "\n",
    "The assumptions for this test include:<br>\n",
    "(i) independent  observations and <br>\n",
    "(ii) normally distributed responses  within each group (or sufficiently large sample size).<br>"
   ]
  },
  {
   "cell_type": "markdown",
   "metadata": {
    "slideshow": {
     "slide_type": "slide"
    }
   },
   "source": [
    "### $\\chi^2$ test for independence\n",
    "\n",
    "In the descriptive statistics we saw how we can measure the association between quantitative variables. What about categorical variables? \n",
    "\n",
    "The classic approach to see if a categorical variable is different between 2 or more groups is the $\\chi^2$  test for independence. A contingency table (or confusion matrix) illustrates the idea:\n",
    "\n",
    "| Abortion should be | Republicans | Democrats || Total\n",
    "| --- | --- | --- || ---\n",
    "| Legal | 166 | 430 || 596\n",
    "| Illegal | 366 | 345 || 711\n",
    "| Total | 532 | 775 || 1307\n",
    "\n",
    "\n",
    "If the two variables were independent, then:\n",
    "$P (Y = 1 ∩ X = 1) = P (Y = 1)P (X = 1)$.\n",
    "How far the inner cell counts are from what they are  expected to be under this condition is the basis for the  test.\n",
    "\n",
    "Formally, the $\\chi^2$ test for independence can be calculated  as follows:\n",
    "\n",
    "$H_0$: the 2 categorical variables are independent<br>\n",
    "$H_A$: the 2 categorical variables are not independent\n",
    "\n",
    "The value of the statistic (based on the contingency matrix) is:\n",
    "\n",
    "$$\n",
    "\\chi^2 = \\sum_{\\text{all cells}} \\frac{(Obs-Exp)^2}{Exp}\n",
    "$$\n",
    "\n",
    "where:<br>\n",
    "\n",
    "$Obs$ is the observed cell count (as read from the matrix) and <br>\n",
    "$Exp$ is the expected cell count (iff independent), i.e. $Exp = \\frac{\\text{rowtotal  } \\times \\text{  columntotal}}{n}$\n",
    "\n",
    "The p-value can then be calculated based on a $\\chi^2_{df=(r-1)\\times(c-1)}$ distribution ($r$ is the # of rows and $c$ is the # of columns}. In python we use the `scipy.stats.chi2_contingency`. The larger the $\\chi^2$ value, the greater the probability that there really is a significant difference."
   ]
  },
  {
   "cell_type": "code",
   "execution_count": 23,
   "metadata": {},
   "outputs": [
    {
     "data": {
      "text/plain": [
       "(73.99676539033868,\n",
       " 7.824513736375561e-18,\n",
       " 1,\n",
       " array([[242.59525631, 353.40474369],\n",
       "        [289.40474369, 421.59525631]]))"
      ]
     },
     "execution_count": 23,
     "metadata": {},
     "output_type": "execute_result"
    }
   ],
   "source": [
    "from scipy.stats import chi2_contingency\n",
    "\n",
    "adj_mat = np.array([[166, 430], [366, 345]])\n",
    "chi2_contingency(adj_mat)"
   ]
  },
  {
   "cell_type": "markdown",
   "metadata": {
    "slideshow": {
     "slide_type": "slide"
    }
   },
   "source": [
    "### ANOVA test\n",
    "\n",
    "The classic approach to compare 3+ means is through  the Analysis of Variance procedure (aka, ANOVA). For example, look the picture below:\n",
    "\n",
    "![](anova.png)"
   ]
  },
  {
   "cell_type": "markdown",
   "metadata": {
    "slideshow": {
     "slide_type": "-"
    }
   },
   "source": [
    "Formally, the ANOVA F test for differences in means among 3+ groups can be calculated as follows:\n",
    "\n",
    "$H_0$: the mean response is equal in all $K$ groups.<br>\n",
    "$H_A$: there is a difference in mean response somewhere among the group.\n",
    "\n",
    "$$\n",
    "F = \\frac{ \\frac{\\sum_{k=1}^K N_K(\\bar{Y_k}-\\bar{Y})^2}{K-1}}{\\frac{\\sum_{k=1}^K (n_k-1) \\sigma_k^2}{n-K}}\n",
    "$$\n",
    "\n",
    "where: <br>\n",
    "$n_k$ is the sample size in group $k$,<br>\n",
    "$\\bar{Y}_k$ is the the mean response in group $k$,<br>\n",
    "$\\sigma_k$ is the variance of responses in group $k$,<br>\n",
    "$n, Y, \\sigma$ (without indices) are the same as above but for the overall sample\n",
    "\n",
    "The p-value can then be calculated based on a Fdf1=(K−1),df2=(n−K) distribution. In python can be done via `scipy.stats.f_oneway`"
   ]
  },
  {
   "cell_type": "code",
   "execution_count": 24,
   "metadata": {
    "slideshow": {
     "slide_type": "-"
    }
   },
   "outputs": [
    {
     "data": {
      "text/plain": [
       "F_onewayResult(statistic=7.121019471642447, pvalue=0.0002812242314534544)"
      ]
     },
     "execution_count": 24,
     "metadata": {},
     "output_type": "execute_result"
    }
   ],
   "source": [
    "#from https://docs.scipy.org/doc/scipy/reference/generated/scipy.stats.f_oneway.html\n",
    "from scipy.stats import f_oneway\n",
    "\n",
    "tillamook = [0.0571, 0.0813, 0.0831, 0.0976, 0.0817, 0.0859, 0.0735, 0.0659, 0.0923, 0.0836]\n",
    "newport = [0.0873, 0.0662, 0.0672, 0.0819, 0.0749, 0.0649, 0.0835, 0.0725]\n",
    "petersburg = [0.0974, 0.1352, 0.0817, 0.1016, 0.0968, 0.1064, 0.105]\n",
    "magadan = [0.1033, 0.0915, 0.0781, 0.0685, 0.0677, 0.0697, 0.0764, 0.0689]\n",
    "tvarminne = [0.0703, 0.1026, 0.0956, 0.0973, 0.1039, 0.1045]\n",
    "\n",
    "f_oneway(tillamook, newport, petersburg, magadan, tvarminne)"
   ]
  },
  {
   "cell_type": "markdown",
   "metadata": {
    "slideshow": {
     "slide_type": "slide"
    }
   },
   "source": [
    "# Appendix\n",
    "\n",
    "The following chapters are accompanying the lecture and you can study at home.\n",
    "\n",
    "## 5. Considerations in hypothesis testing\n",
    "\n",
    "### 5.1 Types of error\n",
    "\n",
    "In hypothesis testing, there are [two types of errors](https://en.wikipedia.org/wiki/Type_I_and_type_II_errors). \n",
    "+ A **type I error** is the incorrect rejection of a true null hypothesis (a \"false positive\"). \n",
    "+ A **type II error** is incorrectly accepting a false null hypothesis (a \"false negative\"). \n",
    "\n",
    "Depending on the application, one type of error can be more consequential than the other. \n",
    "\n",
    "![](InferenceErrors.png)\n",
    "$\\qquad \\qquad \\qquad \\qquad \\qquad \\qquad \\qquad \\qquad \\qquad \\qquad \\qquad \\qquad \\qquad \\qquad \\qquad$ \n",
    "source: [wikipedia](https://en.wikipedia.org/wiki/Type_I_and_type_II_errors)\n",
    "\n",
    "The probability of making a type I (false positive) error is the significance level $\\alpha$. \n",
    "\n",
    "The probability of making a type II (false negative) error is more difficult to calculate. \n",
    "\n",
    "**Examples**\n",
    "\n",
    "**(1)** In vaccine testing, we take the null hypothesis (H0): \"This vaccine has no effect on COVID19.\" A type I error detects an effect (the vaccine is effective against the disease) that is not present. A type II error fails to detect an effect (the vaccine is effective) that is present. \n",
    "\n",
    "**(2)** In a trial, we take the null hypothesis (H0): \"This man is innocent.\" A type I error convicts an innocent person. A type II error lets a guilty person go free. \n",
    "\n",
    "![errors](pregnant.jpg)"
   ]
  },
  {
   "cell_type": "markdown",
   "metadata": {
    "slideshow": {
     "slide_type": "slide"
    }
   },
   "source": [
    "### 5.2 P hacking\n",
    "\n",
    "Recall that the p-value measures how extreme the observation is and is compared to the significance level. Some comments about the p-value:\n",
    "1. A p-value is a probability calculated assuming that $H_0$ is true. \n",
    "+ The smaller the p-value, the stronger the evidence against $H_0$.\n",
    "+ A p-value is not the probability that the null hypothesis is true or false. It is the probability that an erroneous conclusion is reached.\n",
    "\n",
    "Recently the *misuse* of hypothesis testing (p-values) has raised considerable controversy. Basically, if you do enough hypothesis tests, eventually you'll have a Type I (false positive) error. This is sometimes referred to as [Data dredging](https://en.wikipedia.org/wiki/Data_dredging). This is a real problem in a world with tons of data in which it is easy to do many, many hypothesis tests automatically. One method to avoid this is called *cross-validation*, which we'll discuss later. \n",
    "\n",
    "You can read more about 'P hacking' here:\n",
    "\n",
    "- R. Nuzzo, Scientific method: Statistical errors, Nature (2014) [link](https://doi.org/10.1038/506150a)\n",
    "\n",
    "- J. Cohen, The Earth is Round (p<0.05), American Psychologist (1994) [link](https://doi.org/10.1037/0003-066x.49.12.997)\n",
    "\n",
    "- [Planet Money Episode 677: The experiment experiment](https://www.npr.org/sections/money/2018/03/07/591213302/episode-677-the-experiment-experiment)\n",
    "\n",
    "![cancer](cancer.png)\n"
   ]
  },
  {
   "cell_type": "markdown",
   "metadata": {
    "slideshow": {
     "slide_type": "slide"
    }
   },
   "source": [
    "### 5.3 Confidence intervals\n",
    "\n",
    "A [confidence interval](https://en.wikipedia.org/wiki/Confidence_interval) is an interval estimate for an unknown population parameter. For example, we might use collected data to give an interval estimate for a population mean. \n",
    "\n",
    "### Example: Ergonomic keyboards \n",
    "\n",
    "This example was taken from Devore, pp.277.\n",
    "\n",
    "*Question*: A study is conducted to estimate the preferred height for an experimental keyboard with large forearm-wrist support. A sample of $n=31$ trained typists was selected, and the preferred keyboard height was determined for each typist. The resulting sample average preferred height was $\\bar{X} = 80.0$ cm. Assuming that the preferred height is normally distributed with $\\sigma = 2.0$ cm, obtain a confidence interval for $\\mu$, the true average preferred height for the population of all typists. \n",
    "\n",
    "The CLT tells us that the sample mean $\\bar X$ is normally distributed with expected value $\\mu$ and standard deviation $\\sigma / \\sqrt n$. Standardizing $\\bar X$ by subtracting the expected value and dividing by the standard deviation yields the standard normal variable \n",
    "$$\n",
    "Z = \\frac{\\bar X - \\mu}{\\sigma / \\sqrt n}.\n",
    "$$\n",
    "\n",
    "Since $Z$ is a standard normal variable, and the integral under the standard normal curve between -1.96 and 1.96 is 0.95, we have that \n",
    "$$\n",
    "P( -1.96 < Z < 1.96) = 0.95.\n",
    "$$"
   ]
  },
  {
   "cell_type": "code",
   "execution_count": 25,
   "metadata": {
    "slideshow": {
     "slide_type": "-"
    }
   },
   "outputs": [
    {
     "data": {
      "text/plain": [
       "0.950004209703559"
      ]
     },
     "execution_count": 25,
     "metadata": {},
     "output_type": "execute_result"
    }
   ],
   "source": [
    "norm.cdf(1.96) - norm.cdf(-1.96)"
   ]
  },
  {
   "cell_type": "markdown",
   "metadata": {
    "slideshow": {
     "slide_type": "-"
    }
   },
   "source": [
    "Let's manipulate the inequalities inside the parenthesis:\n",
    "$$\n",
    "-1.96 \\ < \\ \\frac{\\bar X - \\mu}{\\sigma / \\sqrt n} \\ < \\ 1.96.\n",
    "$$\n",
    "This is equivalent to \n",
    "$$\n",
    "\\bar X -1.96 \\frac{\\sigma}{\\sqrt n} \\ < \\ \\mu \\ < \\ \\bar X + 1.96\\frac{\\sigma}{\\sqrt n}, \n",
    "$$\n",
    "which we think of as the interval \n",
    "$$\n",
    "I = \\left( \\bar X -1.96 \\frac{\\sigma}{\\sqrt n}, \\  \\bar X +1.96 \\frac{\\sigma}{\\sqrt n} \\right) \n",
    "$$\n",
    "containing the population mean $\\mu$. \n",
    "The interval can be computed using the sampled data, $I = (79.3, 80.7)$. \n",
    "All together we have \n",
    "$$\n",
    "P\\left( I \\textrm{ contains } \\mu  \\right) = 0.95.\n",
    "$$\n",
    "We say that $I = (79.3, 80.7)$ is the 95% confidence interval for the averaged preferred height. \n",
    "\n",
    "**Comments:**\n",
    "+ The 95% confidence interval *does not* mean that with probability 95%, the true value of $\\mu$ lies within the interval. \n",
    "+ A 95% confidence interval means that if we were to repeat the same experiment many times, and compute the confidence interval using the same formula, 95% of the time it would contain the true value of $\\mu$.  "
   ]
  },
  {
   "cell_type": "markdown",
   "metadata": {
    "slideshow": {
     "slide_type": "slide"
    }
   },
   "source": [
    "## 6. Detailed calculation for the fair coin.\n",
    "\n",
    "Let's say we flip a coin $n=1000$ times. If the coin is fair, the outcome is described by the Binomial distribution with $p=0.5$. If CLT was not available, then we would proceed with our knowledge of the Binomial distribution."
   ]
  },
  {
   "cell_type": "code",
   "execution_count": 26,
   "metadata": {
    "slideshow": {
     "slide_type": "-"
    }
   },
   "outputs": [
    {
     "data": {
      "image/png": "[encoded data removed]",
      "text/plain": [
       "<Figure size 720x432 with 1 Axes>"
      ]
     },
     "metadata": {},
     "output_type": "display_data"
    }
   ],
   "source": [
    "f = lambda k: binom.pmf(k, n=1000,p=0.5)\n",
    "\n",
    "x = np.arange(1001);\n",
    "plt.plot(x, f(x),'*-', c=\"g\")\n",
    "plt.plot(545,f(545),'o', c=\"b\")\n",
    "plt.title(\"The probability mass function for a Binomial random variable\")\n",
    "plt.xlabel(\"k\")\n",
    "plt.ylabel(\"f(k)\")\n",
    "plt.xlim([0,1001])\n",
    "plt.show()"
   ]
  },
  {
   "cell_type": "markdown",
   "metadata": {
    "slideshow": {
     "slide_type": "-"
    }
   },
   "source": [
    "Suppose that in our experiment, we saw $545$ heads. The probability of this occurring is \n",
    "f(k = 545):"
   ]
  },
  {
   "cell_type": "code",
   "execution_count": 27,
   "metadata": {
    "slideshow": {
     "slide_type": "-"
    }
   },
   "outputs": [
    {
     "data": {
      "text/plain": [
       "0.0004388554305576971"
      ]
     },
     "execution_count": 27,
     "metadata": {},
     "output_type": "execute_result"
    }
   ],
   "source": [
    "binom.pmf(545, n=1000,p=0.5)"
   ]
  },
  {
   "cell_type": "markdown",
   "metadata": {
    "slideshow": {
     "slide_type": "-"
    }
   },
   "source": [
    "In hypothesis testing, the most important question is: what is the probability of seeing a value as extreme or more extreme than the value that we observed? \n",
    "\n",
    "We might say that any result $\\geq 545$ is 'as or more extreme'.\n",
    "\n",
    "So the probability of seeing as extreme of an outcome is:"
   ]
  },
  {
   "cell_type": "code",
   "execution_count": 28,
   "metadata": {
    "slideshow": {
     "slide_type": "-"
    }
   },
   "outputs": [
    {
     "name": "stdout",
     "output_type": "stream",
     "text": [
      "0.0024308681959378338\n",
      "0.9975691318040621\n"
     ]
    }
   ],
   "source": [
    "s = sum(binom.pmf(np.arange(545,1001),n=1000,p=0.5))\n",
    "print(s)\n",
    "print(1-s)"
   ]
  },
  {
   "cell_type": "markdown",
   "metadata": {
    "slideshow": {
     "slide_type": "-"
    }
   },
   "source": [
    "Actually, seeing any result $\\leq 455$ would be 'as or more extreme' too. Why?\n",
    "\n",
    "So the probability of seeing as extreme of an outcome is:"
   ]
  },
  {
   "cell_type": "code",
   "execution_count": 29,
   "metadata": {},
   "outputs": [
    {
     "name": "stdout",
     "output_type": "stream",
     "text": [
      "0.002430868195937834\n",
      "0.0024308681959378338\n",
      "0.0048617363918756675\n",
      "0.9951382636081243\n"
     ]
    }
   ],
   "source": [
    "s1 = sum(binom.pmf(np.arange(0,456),n=1000,p=0.5)) # why 456? \n",
    "s2 = sum(binom.pmf(np.arange(545,1001),n=1000,p=0.5))\n",
    "print(s1)\n",
    "print(s2)\n",
    "s = s1 + s2\n",
    "\n",
    "print(s)\n",
    "print(1-s)"
   ]
  },
  {
   "cell_type": "markdown",
   "metadata": {
    "slideshow": {
     "slide_type": "-"
    }
   },
   "source": [
    "So the probability of seeing so many heads or so many tails is just $0.49\\%$. So it is very unlikely that if the coin were fair, we would see this result! Maybe so unlikely that we would declare that the coin is unfair? In this case, the null hypothesis is\n",
    "\n",
    "$$\n",
    "H_0: \\text{the coin is fair, i.e., $p=0.5$}.\n",
    "$$\n",
    "\n",
    "The alternative hypothesis, $H_a$, is typically the hypothesis that the researcher wants to validate. In this case: \n",
    "\n",
    "$$\n",
    "H_a: \\text{the coin is unfair, i.e., $p\\neq 0.5$}.\n",
    "$$\n",
    "\n",
    "We also choose a *significance level* for the test, $\\alpha$, traditionally $1\\%$ or $5\\%$. \n",
    "In this case, let's choose a significance level of $\\alpha = 1\\%$. \n",
    "\n",
    "We then collect a *random sample*. In this case, we flip the coin 1000 times and count the number of heads (in this case 545). More generally, we collect a random sample of data from the population of interest. \n",
    "\n",
    "Finally, assuming the null hypothesis is true, we compute how likely it is to see a number that is at least as far from the expected value as the number obtained from the random sample. In this case, the *p-value* is $0.49$ way smaller than the chosen significance level, $\\alpha = 1\\%$, then we reject the null hypothesis and declare the coin to be unfair.  "
   ]
  }
 ],
 "metadata": {
  "anaconda-cloud": {},
  "celltoolbar": "Slideshow",
  "kernelspec": {
   "display_name": "Python 3 (ipykernel)",
   "language": "python",
   "name": "python3"
  },
  "language_info": {
   "codemirror_mode": {
    "name": "ipython",
    "version": 3
   },
   "file_extension": ".py",
   "mimetype": "text/x-python",
   "name": "python",
   "nbconvert_exporter": "python",
   "pygments_lexer": "ipython3",
   "version": "3.8.8"
  },
  "nbpresent": {
   "slides": {
    "006f01ca-e160-4faa-ad02-2f873362ca99": {
     "id": "006f01ca-e160-4faa-ad02-2f873362ca99",
     "prev": "e60ea09b-1474-49b0-9ea6-2e803b335693",
     "regions": {
      "88222835-28de-4a0f-895e-303024baf060": {
       "attrs": {
        "height": 0.8,
        "width": 0.8,
        "x": 0.1,
        "y": 0.1
       },
       "content": {
        "cell": "e6a51e7a-d63e-4187-8899-bfbf03f8a4b6",
        "part": "whole"
       },
       "id": "88222835-28de-4a0f-895e-303024baf060"
      }
     }
    },
    "2ba6955d-8be2-4ce3-ae98-f3b3695e4832": {
     "id": "2ba6955d-8be2-4ce3-ae98-f3b3695e4832",
     "prev": "35a7a5a6-f0c3-4b68-9579-e5840160a87d",
     "regions": {
      "63b4b5f3-c348-418c-aabf-932d5fdbcc1c": {
       "attrs": {
        "height": 0.8,
        "width": 0.8,
        "x": 0.1,
        "y": 0.1
       },
       "content": {
        "cell": "883076a7-1c6e-492f-b9d2-0b8550b5c31f",
        "part": "whole"
       },
       "id": "63b4b5f3-c348-418c-aabf-932d5fdbcc1c"
      }
     }
    },
    "2d5e1e8f-2e26-415e-8d8d-9229f2dc1244": {
     "id": "2d5e1e8f-2e26-415e-8d8d-9229f2dc1244",
     "prev": "9ba8c8c8-59a7-4776-84cb-084e5b0a2317",
     "regions": {
      "44582fec-116b-475d-9793-ad29580b7fc2": {
       "attrs": {
        "height": 0.8,
        "width": 0.8,
        "x": 0.1,
        "y": 0.1
       },
       "content": {
        "cell": "4992f285-654f-485e-81ef-8a6ae18cad34",
        "part": "whole"
       },
       "id": "44582fec-116b-475d-9793-ad29580b7fc2"
      }
     }
    },
    "35a7a5a6-f0c3-4b68-9579-e5840160a87d": {
     "id": "35a7a5a6-f0c3-4b68-9579-e5840160a87d",
     "prev": "c7291188-b014-4fcb-83bc-f1ea035ee4c9",
     "regions": {
      "cbc80f26-e933-4d90-9dfd-e55a3dc339ba": {
       "attrs": {
        "height": 0.8,
        "width": 0.8,
        "x": 0.1,
        "y": 0.1
       },
       "content": {
        "cell": "558af430-f4c0-4be9-b1ef-afce5fccd0fa",
        "part": "whole"
       },
       "id": "cbc80f26-e933-4d90-9dfd-e55a3dc339ba"
      }
     }
    },
    "3ecd0fe6-e75f-4362-a6e7-e5273e12058e": {
     "id": "3ecd0fe6-e75f-4362-a6e7-e5273e12058e",
     "prev": "2d5e1e8f-2e26-415e-8d8d-9229f2dc1244",
     "regions": {
      "eac20970-b45c-4073-a596-cdb2a974fe23": {
       "attrs": {
        "height": 0.8,
        "width": 0.8,
        "x": 0.1,
        "y": 0.1
       },
       "content": {
        "cell": "de60c848-d1fb-478d-a736-0ebe21762a24",
        "part": "whole"
       },
       "id": "eac20970-b45c-4073-a596-cdb2a974fe23"
      }
     }
    },
    "4e939c85-e2b3-48b3-b2df-389bc0ca7dd0": {
     "id": "4e939c85-e2b3-48b3-b2df-389bc0ca7dd0",
     "prev": "9807c9b8-54cd-4a78-b50d-1a6e9f7ff066",
     "regions": {
      "ddc97209-2f2f-409d-953c-a9a83dec6738": {
       "attrs": {
        "height": 0.8,
        "width": 0.8,
        "x": 0.1,
        "y": 0.1
       },
       "content": {
        "cell": "674ee724-0165-40c5-9296-83db8305fa4c",
        "part": "whole"
       },
       "id": "ddc97209-2f2f-409d-953c-a9a83dec6738"
      }
     }
    },
    "95bf00f9-fc2a-4478-bd48-fb66078e061f": {
     "id": "95bf00f9-fc2a-4478-bd48-fb66078e061f",
     "prev": "b9fa7815-a205-4ea6-9076-1289b96670cf",
     "regions": {
      "dd7aef1b-3f05-47a5-bc5f-274809d2c21d": {
       "attrs": {
        "height": 0.8,
        "width": 0.8,
        "x": 0.1,
        "y": 0.1
       },
       "content": {
        "cell": "61e1167e-99ef-4b5d-b717-07a46077a091",
        "part": "whole"
       },
       "id": "dd7aef1b-3f05-47a5-bc5f-274809d2c21d"
      }
     }
    },
    "966d5c12-49ef-4129-aecb-b183804ecd19": {
     "id": "966d5c12-49ef-4129-aecb-b183804ecd19",
     "prev": "3ecd0fe6-e75f-4362-a6e7-e5273e12058e",
     "regions": {
      "ff0704a2-f662-4a03-9874-5613f4634956": {
       "attrs": {
        "height": 0.8,
        "width": 0.8,
        "x": 0.1,
        "y": 0.1
       },
       "content": {
        "cell": "a6fd92a3-b57e-45c5-b216-f9f475baf8ce",
        "part": "whole"
       },
       "id": "ff0704a2-f662-4a03-9874-5613f4634956"
      }
     }
    },
    "9807c9b8-54cd-4a78-b50d-1a6e9f7ff066": {
     "id": "9807c9b8-54cd-4a78-b50d-1a6e9f7ff066",
     "prev": "966d5c12-49ef-4129-aecb-b183804ecd19",
     "regions": {
      "9e037b47-3fb5-4a60-b69c-ad3b282807a1": {
       "attrs": {
        "height": 0.8,
        "width": 0.8,
        "x": 0.1,
        "y": 0.1
       },
       "content": {
        "cell": "b79fa570-8c08-4820-a035-2a00bfae1a9b",
        "part": "whole"
       },
       "id": "9e037b47-3fb5-4a60-b69c-ad3b282807a1"
      }
     }
    },
    "9ba8c8c8-59a7-4776-84cb-084e5b0a2317": {
     "id": "9ba8c8c8-59a7-4776-84cb-084e5b0a2317",
     "prev": "9e2b6ffd-bec2-4027-93e8-64b63e770378",
     "regions": {
      "45bb0df9-937a-48a6-882b-346a1253250c": {
       "attrs": {
        "height": 0.8,
        "width": 0.8,
        "x": 0.1,
        "y": 0.1
       },
       "content": {
        "cell": "be5bedf1-b9ed-4caa-bc3e-6c390df97946",
        "part": "whole"
       },
       "id": "45bb0df9-937a-48a6-882b-346a1253250c"
      }
     }
    },
    "9e2b6ffd-bec2-4027-93e8-64b63e770378": {
     "id": "9e2b6ffd-bec2-4027-93e8-64b63e770378",
     "prev": "e9d31a55-0862-44ec-bd48-d74167655985",
     "regions": {
      "7a7c6996-8117-42ce-8093-318b84bd052b": {
       "attrs": {
        "height": 0.8,
        "width": 0.8,
        "x": 0.1,
        "y": 0.1
       },
       "content": {
        "cell": "95b34ac1-b36d-492d-84f9-adafb2d57ace",
        "part": "whole"
       },
       "id": "7a7c6996-8117-42ce-8093-318b84bd052b"
      }
     }
    },
    "ae354c9e-1384-4f31-8e03-5c96f3988bf4": {
     "id": "ae354c9e-1384-4f31-8e03-5c96f3988bf4",
     "prev": null,
     "regions": {
      "9e57ef10-c941-41de-93da-812357c7ec21": {
       "attrs": {
        "height": 0.8,
        "width": 0.8,
        "x": 0.1,
        "y": 0.1
       },
       "content": {
        "cell": "dac6427e-b8df-46f9-bfd3-b24427a73993",
        "part": "whole"
       },
       "id": "9e57ef10-c941-41de-93da-812357c7ec21"
      }
     }
    },
    "b9fa7815-a205-4ea6-9076-1289b96670cf": {
     "id": "b9fa7815-a205-4ea6-9076-1289b96670cf",
     "prev": "ae354c9e-1384-4f31-8e03-5c96f3988bf4",
     "regions": {
      "cc19ec36-3caa-4666-86e7-2bd1d9cb03b8": {
       "attrs": {
        "height": 0.8,
        "width": 0.8,
        "x": 0.1,
        "y": 0.1
       },
       "content": {
        "cell": "c7392535-4666-41a5-a68a-7306dccd6cd8",
        "part": "whole"
       },
       "id": "cc19ec36-3caa-4666-86e7-2bd1d9cb03b8"
      }
     }
    },
    "c7291188-b014-4fcb-83bc-f1ea035ee4c9": {
     "id": "c7291188-b014-4fcb-83bc-f1ea035ee4c9",
     "prev": "006f01ca-e160-4faa-ad02-2f873362ca99",
     "regions": {
      "3fa8900b-1ee2-4625-8e0b-a8a52d95390d": {
       "attrs": {
        "height": 0.8,
        "width": 0.8,
        "x": 0.1,
        "y": 0.1
       },
       "content": {
        "cell": "a912604c-786a-448e-a908-397f28b46a13",
        "part": "whole"
       },
       "id": "3fa8900b-1ee2-4625-8e0b-a8a52d95390d"
      }
     }
    },
    "e60ea09b-1474-49b0-9ea6-2e803b335693": {
     "id": "e60ea09b-1474-49b0-9ea6-2e803b335693",
     "prev": "4e939c85-e2b3-48b3-b2df-389bc0ca7dd0",
     "regions": {
      "3df2ec23-ba8a-4b76-b6af-2a4aa219da46": {
       "attrs": {
        "height": 0.8,
        "width": 0.8,
        "x": 0.1,
        "y": 0.1
       },
       "content": {
        "cell": "06d04c6d-90a4-441d-9d6e-4f719490e12e",
        "part": "whole"
       },
       "id": "3df2ec23-ba8a-4b76-b6af-2a4aa219da46"
      }
     }
    },
    "e9d31a55-0862-44ec-bd48-d74167655985": {
     "id": "e9d31a55-0862-44ec-bd48-d74167655985",
     "prev": "95bf00f9-fc2a-4478-bd48-fb66078e061f",
     "regions": {
      "cc6bd695-e238-4250-8822-ffea3f82f544": {
       "attrs": {
        "height": 0.8,
        "width": 0.8,
        "x": 0.1,
        "y": 0.1
       },
       "content": {
        "cell": "86c3f014-9535-48f0-95a2-df74d16eaa69",
        "part": "whole"
       },
       "id": "cc6bd695-e238-4250-8822-ffea3f82f544"
      }
     }
    }
   },
   "themes": {}
  }
 },
 "nbformat": 4,
 "nbformat_minor": 1
}
