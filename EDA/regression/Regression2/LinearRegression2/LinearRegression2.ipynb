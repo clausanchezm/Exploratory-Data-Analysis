{
 "cells": [
  {
   "cell_type": "markdown",
   "metadata": {
    "slideshow": {
     "slide_type": "slide"
    }
   },
   "source": [
    "# Data Analysis \n",
    "# Linear Regression 2\n",
    "\n",
    "In this lecture, we'll discuss:\n",
    "* overfitting, model generalizability, and the bias-variance tradeoff\n",
    "* cross validation \n",
    "* regularization\n",
    "* extensions of the linear model\n",
    "\n",
    "Recommended reading:\n",
    "* G. James, D. Witten, T. Hastie, and R. Tibshirani, An Introduction to Statistical Learning, Ch. 5.1, 6.1, 6.2 [digital version available here](https://www.statlearning.com/)\n",
    "\n",
    "* Sebastian Raschka: Model Evaluation, Model Selection, and Algorithm Selection in Machine Learning (https://arxiv.org/abs/1811.12808)\n"
   ]
  },
  {
   "cell_type": "markdown",
   "metadata": {
    "slideshow": {
     "slide_type": "slide"
    }
   },
   "source": [
    "# 0. Review from previous lecture\n",
    "\n",
    "### Simple Linear Regression (SLR)\n",
    "\n",
    "**Data**: We have $n$ samples $(x, y)_i$, $i=1,\\ldots n$. \n",
    "\n",
    "**Model**: $y \\sim \\beta_0 + \\beta_1 x$ \n",
    "\n",
    "**Goal**: Find the best values of $\\beta_0$ and $\\beta_1$, denoted $\\hat{\\beta}_0$ and $\\hat{\\beta}_1$, so that the prediction $y = \\hat{\\beta}_0 + \\hat{\\beta}_1 x$ \"best fits\" the data. \n",
    "\n",
    "<img src=\"438px-Linear_regression.png\" width=\"40%\" alt=\"https://en.wikipedia.org/wiki/Linear_regression\">\n",
    "\n",
    "**Theorem.** \n",
    "The parameters that minimize the \"residual sum of squares (RSS)\", \n",
    "$RSS = \\sum_i (y_i - \\beta_0 - \\beta_1 x_i)^2$, \n",
    "are: \n",
    "$$\n",
    "\\hat{\\beta}_1 = \\frac{\\sum_{i=1}^n (x_i - \\overline{x})(y_i - \\overline{y}) }{\\sum_{i=1}^n (x_i - \\overline{x})^2}\n",
    "\\qquad \\textrm{and} \\qquad\n",
    "\\hat{\\beta}_0 = \\overline{y} -  \\hat{\\beta}_1 \\overline{x}. \n",
    "$$\n",
    "where $\\overline{x} = \\frac{1}{n} \\sum_{i=1}^n x_i$ and $\\overline{y} = \\frac{1}{n} \\sum_{i=1}^n y_i$. \n",
    "\n",
    "\n",
    "### Multilinear regression \n",
    "\n",
    "**Data**: We have $n$ samples of the form $\\big(x_1, x_2 , \\ldots, x_m , y \\big)_i$, $i=1,\\ldots n$. \n",
    "\n",
    "**Model**: $y \\sim \\beta_0 + \\beta_1 x_1 + \\cdots + \\beta_m x_m $ \n",
    "\n",
    "### Nonlinear relationships  \n",
    "\n",
    "**Data**: We have $n$ samples $\\big(x_1, x_2 , \\ldots, x_m , y \\big)_i$, $i=1,\\ldots n$. \n",
    "\n",
    "**Model**: $y \\sim \\beta_0 + \\beta_1 f_1(x_1,x_2,\\ldots,x_m) + \\cdots +  \\beta_k f_k(x_1,x_2,\\ldots,x_m)$ \n"
   ]
  },
  {
   "cell_type": "markdown",
   "metadata": {
    "slideshow": {
     "slide_type": "slide"
    }
   },
   "source": [
    "## 0.1 Regression with python\n",
    "\n",
    "There are several different python packages that do regression:\n",
    "1. [statsmodels](http://statsmodels.sourceforge.net/)\n",
    "+ [scikit-learn](http://scikit-learn.org/)\n",
    "+ ... \n",
    "\n",
    "Last time, we commented that statsmodels approaches regression from a statistics viewpoint, while scikit-learn approaches from a machine learning viewpoint. We will say more about this today. "
   ]
  },
  {
   "cell_type": "code",
   "execution_count": 1,
   "metadata": {
    "slideshow": {
     "slide_type": "-"
    }
   },
   "outputs": [],
   "source": [
    "# imports and setup\n",
    "\n",
    "import scipy as sc\n",
    "import numpy as np\n",
    "\n",
    "import pandas as pd\n",
    "import statsmodels.formula.api as sm\n",
    "import seaborn as sns\n",
    "from sklearn.preprocessing import MinMaxScaler\n",
    "from sklearn.model_selection import KFold\n",
    "from sklearn.linear_model import LinearRegression\n",
    "from sklearn.preprocessing import PolynomialFeatures\n",
    "\n",
    "from IPython.display import Video\n",
    "\n",
    "import matplotlib.pyplot as plt\n",
    "%matplotlib inline  \n",
    "plt.rcParams['figure.figsize'] = (10, 6)\n",
    "\n",
    "from mpl_toolkits.mplot3d import Axes3D\n",
    "from matplotlib import cm"
   ]
  },
  {
   "cell_type": "markdown",
   "metadata": {
    "slideshow": {
     "slide_type": "slide"
    }
   },
   "source": [
    "## 0.2 Advertisement dataset\n",
    "Consider the 'Advertising' dataset from\n",
    "[here](http://www-bcf.usc.edu/~gareth/ISL/data.html).\n",
    "\n",
    "\n",
    "For 200 different ‘markets’ (think different cities), this dataset consists of the number of sales of a particular product as well as the advertising budget for three different media: TV, radio, and newspaper. \n",
    "\n",
    "Last time, after trying a variety of linear models, we discovered the following one, which includes a nonlinear relationship between the TV budget and Radio budget:\n",
    "$$\n",
    "\\text{Sales} = \\beta_0 + \\beta_1 \\times \\text{TV_budget} + \\beta_2 \\times \\text{Radio_budget} + \\beta_3 \\times \\text{TV_budget} \\times \\text{Radio_budget}. \n",
    "$$"
   ]
  },
  {
   "cell_type": "code",
   "execution_count": 2,
   "metadata": {
    "slideshow": {
     "slide_type": "-"
    }
   },
   "outputs": [
    {
     "data": {
      "text/html": [
       "<table class=\"simpletable\">\n",
       "<caption>OLS Regression Results</caption>\n",
       "<tr>\n",
       "  <th>Dep. Variable:</th>          <td>Sales</td>      <th>  R-squared:         </th> <td>   0.968</td> \n",
       "</tr>\n",
       "<tr>\n",
       "  <th>Model:</th>                   <td>OLS</td>       <th>  Adj. R-squared:    </th> <td>   0.967</td> \n",
       "</tr>\n",
       "<tr>\n",
       "  <th>Method:</th>             <td>Least Squares</td>  <th>  F-statistic:       </th> <td>   1963.</td> \n",
       "</tr>\n",
       "<tr>\n",
       "  <th>Date:</th>             <td>Mon, 14 Feb 2022</td> <th>  Prob (F-statistic):</th> <td>6.68e-146</td>\n",
       "</tr>\n",
       "<tr>\n",
       "  <th>Time:</th>                 <td>10:39:10</td>     <th>  Log-Likelihood:    </th> <td> -270.14</td> \n",
       "</tr>\n",
       "<tr>\n",
       "  <th>No. Observations:</th>      <td>   200</td>      <th>  AIC:               </th> <td>   548.3</td> \n",
       "</tr>\n",
       "<tr>\n",
       "  <th>Df Residuals:</th>          <td>   196</td>      <th>  BIC:               </th> <td>   561.5</td> \n",
       "</tr>\n",
       "<tr>\n",
       "  <th>Df Model:</th>              <td>     3</td>      <th>                     </th>     <td> </td>    \n",
       "</tr>\n",
       "<tr>\n",
       "  <th>Covariance Type:</th>      <td>nonrobust</td>    <th>                     </th>     <td> </td>    \n",
       "</tr>\n",
       "</table>\n",
       "<table class=\"simpletable\">\n",
       "<tr>\n",
       "      <td></td>         <th>coef</th>     <th>std err</th>      <th>t</th>      <th>P>|t|</th>  <th>[0.025</th>    <th>0.975]</th>  \n",
       "</tr>\n",
       "<tr>\n",
       "  <th>Intercept</th> <td>    6.7502</td> <td>    0.248</td> <td>   27.233</td> <td> 0.000</td> <td>    6.261</td> <td>    7.239</td>\n",
       "</tr>\n",
       "<tr>\n",
       "  <th>TV</th>        <td>    0.0191</td> <td>    0.002</td> <td>   12.699</td> <td> 0.000</td> <td>    0.016</td> <td>    0.022</td>\n",
       "</tr>\n",
       "<tr>\n",
       "  <th>Radio</th>     <td>    0.0289</td> <td>    0.009</td> <td>    3.241</td> <td> 0.001</td> <td>    0.011</td> <td>    0.046</td>\n",
       "</tr>\n",
       "<tr>\n",
       "  <th>TV:Radio</th>  <td>    0.0011</td> <td> 5.24e-05</td> <td>   20.727</td> <td> 0.000</td> <td>    0.001</td> <td>    0.001</td>\n",
       "</tr>\n",
       "</table>\n",
       "<table class=\"simpletable\">\n",
       "<tr>\n",
       "  <th>Omnibus:</th>       <td>128.132</td> <th>  Durbin-Watson:     </th> <td>   2.224</td> \n",
       "</tr>\n",
       "<tr>\n",
       "  <th>Prob(Omnibus):</th> <td> 0.000</td>  <th>  Jarque-Bera (JB):  </th> <td>1183.719</td> \n",
       "</tr>\n",
       "<tr>\n",
       "  <th>Skew:</th>          <td>-2.323</td>  <th>  Prob(JB):          </th> <td>9.09e-258</td>\n",
       "</tr>\n",
       "<tr>\n",
       "  <th>Kurtosis:</th>      <td>13.975</td>  <th>  Cond. No.          </th> <td>1.80e+04</td> \n",
       "</tr>\n",
       "</table><br/><br/>Warnings:<br/>[1] Standard Errors assume that the covariance matrix of the errors is correctly specified.<br/>[2] The condition number is large, 1.8e+04. This might indicate that there are<br/>strong multicollinearity or other numerical problems."
      ],
      "text/plain": [
       "<class 'statsmodels.iolib.summary.Summary'>\n",
       "\"\"\"\n",
       "                            OLS Regression Results                            \n",
       "==============================================================================\n",
       "Dep. Variable:                  Sales   R-squared:                       0.968\n",
       "Model:                            OLS   Adj. R-squared:                  0.967\n",
       "Method:                 Least Squares   F-statistic:                     1963.\n",
       "Date:                Mon, 14 Feb 2022   Prob (F-statistic):          6.68e-146\n",
       "Time:                        10:39:10   Log-Likelihood:                -270.14\n",
       "No. Observations:                 200   AIC:                             548.3\n",
       "Df Residuals:                     196   BIC:                             561.5\n",
       "Df Model:                           3                                         \n",
       "Covariance Type:            nonrobust                                         \n",
       "==============================================================================\n",
       "                 coef    std err          t      P>|t|      [0.025      0.975]\n",
       "------------------------------------------------------------------------------\n",
       "Intercept      6.7502      0.248     27.233      0.000       6.261       7.239\n",
       "TV             0.0191      0.002     12.699      0.000       0.016       0.022\n",
       "Radio          0.0289      0.009      3.241      0.001       0.011       0.046\n",
       "TV:Radio       0.0011   5.24e-05     20.727      0.000       0.001       0.001\n",
       "==============================================================================\n",
       "Omnibus:                      128.132   Durbin-Watson:                   2.224\n",
       "Prob(Omnibus):                  0.000   Jarque-Bera (JB):             1183.719\n",
       "Skew:                          -2.323   Prob(JB):                    9.09e-258\n",
       "Kurtosis:                      13.975   Cond. No.                     1.80e+04\n",
       "==============================================================================\n",
       "\n",
       "Warnings:\n",
       "[1] Standard Errors assume that the covariance matrix of the errors is correctly specified.\n",
       "[2] The condition number is large, 1.8e+04. This might indicate that there are\n",
       "strong multicollinearity or other numerical problems.\n",
       "\"\"\""
      ]
     },
     "execution_count": 2,
     "metadata": {},
     "output_type": "execute_result"
    }
   ],
   "source": [
    "advert = pd.read_csv('Advertising.csv',index_col=0) #load data\n",
    "\n",
    "ad_NL = sm.ols(formula=\"Sales ~ TV + Radio + TV*Radio\", data=advert).fit()\n",
    "ad_NL.summary()"
   ]
  },
  {
   "cell_type": "markdown",
   "metadata": {
    "slideshow": {
     "slide_type": "-"
    }
   },
   "source": [
    "This model is really excellent: \n",
    "- $R^2 = 97\\%$ of the variability in the data is accounted for by the model. \n",
    "- The $p$-value for the F-statistic is very small \n",
    "- The $p$-values for the individual coefficients are small \n",
    "\n",
    "Interpretation: \n",
    "- In a particular market, if I spend an additional $1k on TV advertising, what do I expect sales to do? \n",
    "- Should I spend additional money on TV or Radio advertising? "
   ]
  },
  {
   "cell_type": "markdown",
   "metadata": {
    "slideshow": {
     "slide_type": "slide"
    }
   },
   "source": [
    "# 1. Overfitting, underfitting, model generalizability, and the bias–variance tradeoff\n",
    "\n",
    "In regression, and other prediction problems, we would like to develop a model on a dataset, that would preform well, not only on that dataset, but on similar data that the model hasn't yet seen by the model. If a model satisfies this criterion, we say that it is *generalizable*. \n",
    "\n",
    "Consider the following data, that has been fit with a linear polynomial model (black) and a high degree polynomial model (blue). For convenience, let us call these the black and blue models, respectively. \n",
    "\n",
    "<img src=\"overfitted_data.png\" title=\"https://commons.wikimedia.org/w/index.php?curid=47471056\" width=\"40%\">\n",
    "\n",
    "Let's call the dataset that we train the model on the *training dataset* and the dataset that we test the model on the *testing dataset*. In the above figure, the training dataset are the black points and the testing dataset is not shown, but we imagine it to be similar to the points shown. \n",
    "\n",
    "Which model is better? \n",
    "\n",
    "The blue model has 100% accuracy on the training dataset, while the black model has much smaller accuracy. However, the blue model is highly oscillatory and might not generalize well to new data. For example, the model would wildly miss the test point $(3,0)$. We say that the blue model has *overfit* the data. On the other hand, it isn't difficult to see that we could also *underfit* the data. In this case, the model isn't complex enough to have good accuracy on the training dataset. \n",
    "\n",
    "This phenomenon is often described in terms of the *bias-variance tradeoff*. Here, we decompose the error of the model into three terms:\n",
    "$$\n",
    "\\textrm{Error} = \n",
    "\\textrm{Bias} + \n",
    "\\textrm{Variance} + \n",
    "\\textrm{Irreducible Error}. \n",
    "$$\n",
    "- The *bias* of the method is the error caused by the simplifying assumptions built into the method. \n",
    "+ The *variance* of the method is how much the model will change based on the sampled data. \n",
    "+ The *irreducible error* is error in the data itself, so no model can capture this error. \n",
    "\n",
    "There is a tradeoff between the bias and variance of a model. \n",
    "High-variance methods (e.g., the blue method) are accurate on the training set, but overfit noise in the data, so don't generalized well to new data. High-bias models (e.g., the black method) are too simple to fit the data, but are better at generalizing to new test data. \n",
    "\n",
    "The dashed line shows us the testing error and the solid line the training error.\n",
    "\n",
    "![complexity-error-plot](complexity-error-plot.png)\n",
    "\n",
    "One of the class participants made a meme last year: https://twitter.com/gerasimoss/status/1270326690313646081?s=20\n"
   ]
  },
  {
   "cell_type": "markdown",
   "metadata": {
    "slideshow": {
     "slide_type": "slide"
    }
   },
   "source": [
    "# 2. Generalizability in practice\n",
    "\n",
    "How do I fit a model in practice? What techniques should I employ in order to make sure that the model is good enough. \n",
    "\n",
    "We will discuss three techniques, namely:\n",
    "\n",
    "* cross-validation, <br>\n",
    "* regularization, <br>\n",
    "* step-wise selection <br>\n",
    "\n",
    "While we discuss the linear model, these techniques are applicable to *any* other model involving learning from data. "
   ]
  },
  {
   "cell_type": "markdown",
   "metadata": {
    "slideshow": {
     "slide_type": "slide"
    }
   },
   "source": [
    "## 2.1 Cross-validation\n",
    "\n",
    "There is a clever method for developing generalizable models that aren't underfit or overfit, called *cross validation*. \n",
    "\n",
    "**Cross-validation** is a general method for assessing how the results of a predictive model (regression, classification,...) will *generalize* to an independent data set. In regression, cross-validation is a method for assessing how well the regression model will predict the dependent value for points that weren't used to *train* the model. \n",
    "\n",
    "The idea of the method is simple: \n",
    "1. Split the dataset into two groups: the training dataset and the testing dataset. \n",
    "+ Train a variety of models on the training dataset. \n",
    "+ Check the accuracy of each model on the testing dataset. \n",
    "+ By comparing these accuracies, determine which model is best.\n",
    "\n",
    "As the model becomes more complex ($d$ increases), the accuracy always increases for the training dataset. But, at some point, it starts to overfit the data and the accuracy decreases for the test dataset! Cross validation techniques will allow us to find the sweet-spot for the parameter $d$!\n",
    "\n",
    "In practice, you have to decide how to split the data into groups (i.e. how large the groups should be). You might also want to repeat the experiment several times ($K$-fold cross validation, see next section) so that the assessment doesn't depend on the way in which you split the data into groups.\n"
   ]
  },
  {
   "cell_type": "markdown",
   "metadata": {
    "slideshow": {
     "slide_type": "slide"
    }
   },
   "source": [
    "Let's see this concept for the relationship between mpg and horsepower in the Auto dataset. We'll use the scikit-learn package for the cross validation analysis instead of statsmodels, because it is much easier to do cross validation there. "
   ]
  },
  {
   "cell_type": "code",
   "execution_count": 3,
   "metadata": {},
   "outputs": [
    {
     "data": {
      "text/html": [
       "<div>\n",
       "<style scoped>\n",
       "    .dataframe tbody tr th:only-of-type {\n",
       "        vertical-align: middle;\n",
       "    }\n",
       "\n",
       "    .dataframe tbody tr th {\n",
       "        vertical-align: top;\n",
       "    }\n",
       "\n",
       "    .dataframe thead th {\n",
       "        text-align: right;\n",
       "    }\n",
       "</style>\n",
       "<table border=\"1\" class=\"dataframe\">\n",
       "  <thead>\n",
       "    <tr style=\"text-align: right;\">\n",
       "      <th></th>\n",
       "      <th>mpg</th>\n",
       "      <th>cylinders</th>\n",
       "      <th>displacement</th>\n",
       "      <th>horsepower</th>\n",
       "      <th>weight</th>\n",
       "      <th>acceleration</th>\n",
       "      <th>year</th>\n",
       "      <th>origin</th>\n",
       "      <th>name</th>\n",
       "    </tr>\n",
       "  </thead>\n",
       "  <tbody>\n",
       "    <tr>\n",
       "      <th>0</th>\n",
       "      <td>18.0</td>\n",
       "      <td>8</td>\n",
       "      <td>307.0</td>\n",
       "      <td>130</td>\n",
       "      <td>3504</td>\n",
       "      <td>12.0</td>\n",
       "      <td>70</td>\n",
       "      <td>1</td>\n",
       "      <td>chevrolet chevelle malibu</td>\n",
       "    </tr>\n",
       "    <tr>\n",
       "      <th>1</th>\n",
       "      <td>15.0</td>\n",
       "      <td>8</td>\n",
       "      <td>350.0</td>\n",
       "      <td>165</td>\n",
       "      <td>3693</td>\n",
       "      <td>11.5</td>\n",
       "      <td>70</td>\n",
       "      <td>1</td>\n",
       "      <td>buick skylark 320</td>\n",
       "    </tr>\n",
       "    <tr>\n",
       "      <th>2</th>\n",
       "      <td>18.0</td>\n",
       "      <td>8</td>\n",
       "      <td>318.0</td>\n",
       "      <td>150</td>\n",
       "      <td>3436</td>\n",
       "      <td>11.0</td>\n",
       "      <td>70</td>\n",
       "      <td>1</td>\n",
       "      <td>plymouth satellite</td>\n",
       "    </tr>\n",
       "    <tr>\n",
       "      <th>3</th>\n",
       "      <td>16.0</td>\n",
       "      <td>8</td>\n",
       "      <td>304.0</td>\n",
       "      <td>150</td>\n",
       "      <td>3433</td>\n",
       "      <td>12.0</td>\n",
       "      <td>70</td>\n",
       "      <td>1</td>\n",
       "      <td>amc rebel sst</td>\n",
       "    </tr>\n",
       "    <tr>\n",
       "      <th>4</th>\n",
       "      <td>17.0</td>\n",
       "      <td>8</td>\n",
       "      <td>302.0</td>\n",
       "      <td>140</td>\n",
       "      <td>3449</td>\n",
       "      <td>10.5</td>\n",
       "      <td>70</td>\n",
       "      <td>1</td>\n",
       "      <td>ford torino</td>\n",
       "    </tr>\n",
       "  </tbody>\n",
       "</table>\n",
       "</div>"
      ],
      "text/plain": [
       "    mpg  cylinders  displacement  horsepower  weight  acceleration  year  \\\n",
       "0  18.0          8         307.0         130    3504          12.0    70   \n",
       "1  15.0          8         350.0         165    3693          11.5    70   \n",
       "2  18.0          8         318.0         150    3436          11.0    70   \n",
       "3  16.0          8         304.0         150    3433          12.0    70   \n",
       "4  17.0          8         302.0         140    3449          10.5    70   \n",
       "\n",
       "   origin                       name  \n",
       "0       1  chevrolet chevelle malibu  \n",
       "1       1          buick skylark 320  \n",
       "2       1         plymouth satellite  \n",
       "3       1              amc rebel sst  \n",
       "4       1                ford torino  "
      ]
     },
     "execution_count": 3,
     "metadata": {},
     "output_type": "execute_result"
    }
   ],
   "source": [
    "auto = pd.read_csv('Auto.csv') #load data\n",
    "\n",
    "# one of the horsepowers is '?', so we just remove it and then map the remaining strings to integers\n",
    "auto = auto[auto.horsepower != '?']\n",
    "auto['horsepower'] = auto['horsepower'].map(int)\n",
    "\n",
    "auto.head()"
   ]
  },
  {
   "cell_type": "code",
   "execution_count": 4,
   "metadata": {
    "slideshow": {
     "slide_type": "-"
    }
   },
   "outputs": [
    {
     "data": {
      "image/png": "[encoded data removed]",
      "text/plain": [
       "<Figure size 720x432 with 1 Axes>"
      ]
     },
     "metadata": {
      "needs_background": "light"
     },
     "output_type": "display_data"
    }
   ],
   "source": [
    "lr = LinearRegression() # create a linear regression object\n",
    "\n",
    "# with scikit-learn, we have to extract values from the pandas dataframe\n",
    "for d in np.arange(2,6): \n",
    "    auto['h'+str(d)] = auto['horsepower']**d\n",
    "\n",
    "X = auto[['horsepower','h2','h3','h4','h5']].values.reshape(auto['horsepower'].shape[0],5)\n",
    "y = auto['mpg'].values.reshape(auto['mpg'].shape[0],1)\n",
    "\n",
    "plt.scatter(X[:,0], y,  color='black',label='data')\n",
    "\n",
    "# make data for plotting\n",
    "xs = np.linspace(20, 250, num=100)\n",
    "Xs = np.zeros([100,5])\n",
    "Xs[:,0] = xs\n",
    "for d in np.arange(1,5): \n",
    "    Xs[:,d] = xs**(d+1)\n",
    "    \n",
    "for d in np.arange(1,6):     \n",
    "    lr.fit(X=X[:,:d], y=y)\n",
    "    plt.plot(xs, lr.predict(X=Xs[:,:d]), linewidth=3, label = \"d = \" + str(d) )\n",
    "\n",
    "plt.legend(loc='upper right')\n",
    "plt.xlabel('horsepower'); plt.ylabel('mpg')\n",
    "plt.ylim((0,50))\n",
    "plt.show()"
   ]
  },
  {
   "cell_type": "markdown",
   "metadata": {
    "slideshow": {
     "slide_type": "slide"
    }
   },
   "source": [
    "### 2.1.1 Cross validation using scikit-learn \n",
    "\n",
    "- In scikit-learn, you can use the [*train_test_split*](https://scikit-learn.org/stable/modules/generated/sklearn.model_selection.train_test_split.html) function to split the dataset into a training dataset and a test dataset. This split is supposed to be random (pay attention to which method you are using and how it does the splitting). Obviously, we might get a bad random split (if we are unlucky). There are ways to control for that (e.g. through K-fold cross validation see below).\n",
    "+ The *score* function returns the coefficient of determination, $R^2$, of the prediction.\n",
    "\n",
    "In the following code, I've split the data in an unusual way - taking the test set to be 90% - to illustrate the point more clearly. Typically, we might make the training set to be 70-90% of the dataset. "
   ]
  },
  {
   "cell_type": "code",
   "execution_count": 5,
   "metadata": {
    "slideshow": {
     "slide_type": "-"
    }
   },
   "outputs": [
    {
     "name": "stdout",
     "output_type": "stream",
     "text": [
      "(39, 5) (39, 1)\n",
      "(353, 5) (353, 1)\n",
      "d= 1 , train:  0.6508117557688201  test:  0.5861089204353647\n",
      "d= 2 , train:  0.7788726103432309  test:  0.6773426966876412\n",
      "d= 3 , train:  0.7809007867736247  test:  0.6730819069807141\n",
      "d= 4 , train:  0.7818275548491538  test:  0.6715071420669175\n",
      "d= 5 , train:  0.7849846290954009  test:  0.6522245738926651\n"
     ]
    },
    {
     "data": {
      "image/png": "[encoded data removed]",
      "text/plain": [
       "<Figure size 720x432 with 1 Axes>"
      ]
     },
     "metadata": {
      "needs_background": "light"
     },
     "output_type": "display_data"
    }
   ],
   "source": [
    "from sklearn.model_selection import train_test_split\n",
    "\n",
    "X_train, X_test, y_train, y_test = train_test_split(X, y, test_size=0.9, random_state=1)\n",
    "print(X_train.shape, y_train.shape)\n",
    "print(X_test.shape, y_test.shape)\n",
    "\n",
    "plt.scatter(X_train[:,0], y_train,  color='green',label='training data')\n",
    "plt.scatter(X_test[:,0], y_test,  color='black',label='test data')\n",
    "\n",
    "for d in np.arange(1,6):     \n",
    "    lr.fit(X=X_train[:,:d], y=y_train)\n",
    "    print('d=', d, ', train: ', lr.score(X_train[:,:d], y_train), ' test: ', lr.score(X_test[:,:d], y_test))\n",
    "    plt.plot(xs, lr.predict(X=Xs[:,:d]), linewidth=3, label = \"d = \" + str(d) )\n",
    "\n",
    "plt.legend()\n",
    "plt.xlabel('horsepower'); plt.ylabel('mpg')\n",
    "plt.ylim((0,50))\n",
    "plt.show()\n"
   ]
  },
  {
   "cell_type": "markdown",
   "metadata": {
    "slideshow": {
     "slide_type": "-"
    }
   },
   "source": [
    "We observe that as the model complexity increases, \n",
    "- the accuracy on the training data increases, but \n",
    "+ the generalizability of the model to the test set decreases. \n",
    "\n",
    "Our job as data scientists is to find a model that is sufficiently complex to describe the training data, but not so complex that it isn't generalizable to new data. "
   ]
  },
  {
   "cell_type": "markdown",
   "metadata": {
    "slideshow": {
     "slide_type": "slide"
    }
   },
   "source": [
    "### 2.1.2 The need for a validation set\n",
    "\n",
    "Let's think for a moment, how we picked $d$ in the previous example. We selected the best $d$ based on \"minimizing\" the test set error, which means that we have then \"fit for\" hyperparameter $d$ on the test set. \n",
    "\n",
    "In this case, the test-set error will underestimate the true error (or as we call it in statistical/machine learning the \"out of sample\" error or generalization error). Furthermore, we have **contaminated the test set** by fitting for $d$ on it; it is no longer a true test set.\n",
    "\n",
    "Thus, we introduce a new **validation set** on which the complexity parameter $d$ is fit, and leave out a test set which we can use to estimate the true out-of-sample performance of our model. The place of this set in the scheme of things is shown below:\n",
    "\n",
    "![m:caption](train-validate-test.png)\n",
    "\n",
    "We have split the old training set into a **new smaller training set** and a **validation set**, holding the old test set aside for *FINAL* testing *AFTER* we have \"fit\" for complexity $d$. Obviously we have decreased the size of the data available for training further, but this is a price we must pay for obtaining a good estimate of the out-of-sample risk $\\cal{E}_{out}$ (also denoted as risk $R_{out}$) through the test risk $\\cal{E}_{test}$ ($R_{test}$).\n",
    "\n",
    "![m:caption](train-validate-test-cont.png)"
   ]
  },
  {
   "cell_type": "markdown",
   "metadata": {
    "slideshow": {
     "slide_type": "slide"
    }
   },
   "source": [
    "### 2.1.3 Creating more random splits: $K$-fold cross validation\n",
    "\n",
    "1. You should worry that a given split exposes us to the peculiarity of the data set that got randomly chosen for us. This naturally leads us to want to choose multiple such random splits and somehow average over this process to find the \"best\" validation minimizing polynomial degree or complexity $d$.\n",
    "\n",
    "2. The multiple splits process also allows us to get an estimate of how consistent our prediction error is: in other words, i get a distribution of the prediction error. Using simple statistics, I can quantify how good/bad that is.\n",
    "\n",
    "3. Furthermore the validation set that we left out has two competing demands on it. The larger the set is, the better is our estimate of the out-of-sample error. So we'd like to hold out as much as possible. But the smaller the validation set is, the more data we have to train our model on. This allows us to have more smaller sets.\n",
    "\n",
    "The idea is illustrated in the figure below, for a given hypothesis set $\\cal{H}_a$ with complexity parameter $d=a$ (the polynomial degree). We do the train/validate split, not once but multiple times. \n",
    "\n",
    "In the figure below we create 4-folds from the training set part of our data set $\\cal{D}$. By this we mean that we divide our set roughly into 4 equal parts. As illustrated below, this can be done in 4 different ways, or folds. In each fold we train a model on 3 of the parts. The model so trained is denoted as $g^-_{Fi}$, for example $g^-_{F3}$ . The minus sign in the superscript once again indicates that we are training on a reduced set. The $F3$ indicates that this model was trained on the third fold. Note that the model trained on each fold will be different!\n",
    "\n",
    "For each fold, after training the model, we calculate the risk or error on the remaining one validation part. We then add the validation errors together from the different folds, and divide by the number of folds to calculate an average error. Note again that this average error is an average over different models $g^-_{Fi}$. We use this error as the validation error for $d=a$ in the validation process described earlier.\n",
    "\n",
    "![traincv](traincv.png) \n",
    "\n",
    "In detail, the procedure (we outline it here for the polynomial degree $d$ but in principle could be for any other parameter) and we use the $R^2$ as a risk function of $d$ (again, it could be any other risk or error function):\n",
    "\n",
    "1. create $K$ partitions of the training data. \n",
    "2. We then train on $K-1$ of these partitions, and test on the remaining partition. There are $K$ such combinations of partitions (or folds), and thus we obtain $K$ risk values.\n",
    "3. We average the error or risk of all such combinations to obtain, for each value of $d$, $R_{d}$.\n",
    "4. We move on to the next value of $d$, and repeat 3\n",
    "5. and then find the optimal value of d that minimizes risk $d=*$.\n",
    "5. We finally use that value to make the final fit in $\\cal{H}_*$ on the entire old training set.\n",
    "\n",
    "#### Variations of cross-validation\n",
    "\n",
    "There are many different variations of the cross-validation procedure (although the main idea remains the same). One that I find particularly useful when you fit hyperparameters in complex algorithms is the *nested* cross validation.\n",
    "\n",
    "The *outer loop* splits the data to training/testing. The *inner loop* splits the training data further to the actual training and validation data. In the inner loop, we find the optimal values of hyperparameters by checking their performance on the validation set. In the outer loop, we compute the generalization error by averaging test set scores over the several dataset splits.\n"
   ]
  },
  {
   "cell_type": "markdown",
   "metadata": {
    "slideshow": {
     "slide_type": "slide"
    }
   },
   "source": [
    "### 2.1.4 Meta-estimators in Python\n",
    "\n",
    "`sklearn` offers many possibilities of automating the cross-validation process. It is important though to understand what each of these (otherwise excellently implemented) functions do, e.g. as the documentation for `GridSearchCV` puts it:\n",
    "\n",
    ">In scikit-learn, model selection is supported in two distinct meta-estimators, GridSearchCV and RandomizedSearchCV. They take as input an estimator (basic or composite), whose hyper-parameters must be optimized, and a set of hyperparameter settings to search through.\n",
    "\n",
    "The concept of a meta-estimator allows us to wrap, for example, cross-validation, or methods that build and combine simpler models or schemes. For example:\n",
    "\n",
    "    est = LinearRegression()\n",
    "    parameters = {\"d\": [1, 2, 3, 4, 5, 6, 7, 8, 9, 10]}\n",
    "    gridclassifier=GridSearchCV(est, param_grid=parameters, cv=4, scoring=\"mean_squared_error\")\n",
    "    \n",
    "The `GridSearchCV` replaces the manual iteration over thefolds using `KFolds` and the averaging we did previously, doing it all for us. It takes a parameter grid in the shape of a dictionary as input, and sets $d$ to the appropriate parameter values one by one. It then trains the model, cross-validation fashion, and gets the error. Finally it compares the errors for the different $d$'s, and picks the best choice model. We will explore it when we introduce the regularization."
   ]
  },
  {
   "cell_type": "markdown",
   "metadata": {
    "slideshow": {
     "slide_type": "slide"
    }
   },
   "source": [
    "## 2.2 Controling for overfitting: Regularization\n",
    "\n",
    "The subset selection methods use least squares to fit a linear model that contains a subset of the predictors. As an alternative, we can fit a model containing all predictors using a technique that constrains or regularizes the coefficient estimates, or or equivalently, that shrinks the  coefficient estimates towards zero. Think for a moment, why we want to squeeze them to zero?\n",
    "\n",
    "In the ordinary least squares problem we minimize the loss function:\n",
    "\n",
    "\\begin{equation}\n",
    "L(\\mathbf{\\beta}) = \\frac{1}{n} \\sum_{i = 1}^n (y_i - \\mathbf{\\beta}^T \\mathbf{x}_i)^2,\n",
    "\\end{equation}\n",
    "\n",
    "to determine regression coefficients $\\mathbf{\\beta}$.  Here $y_i$ is the response variable for observation $i$, and $\\mathbf{x}_i$ is a vector from the predictor matrix  corresponding to observation $i$.\n",
    "\n",
    "\n",
    "The general idea behind regularization is to penalize the loss function to account for possibly very large values of the coefficients $\\mathbf \\beta$.  The  aforementioned optimization problem is then adjusted accordingly.  Instead of minimizing $L(\\mathbf{\\beta})$, we minimize the regularized loss function\n",
    "\n",
    "\\begin{equation}\n",
    "L_{\\mathrm{reg}}(\\mathbf{\\beta}) = L(\\mathbf{\\beta}) + \\lambda R(\\mathbf{\\beta}),\n",
    "\\end{equation}\n",
    "\n",
    "where $R(\\mathbf{\\beta})$ is a penalty function and $\\lambda$ is a scalar that weighs the relative importance of this penalty.  In this course we will explore two regularized regression models, Ridge ($L2$) and LASSO ($L1$). In ridge regression, the penalty function is the sum of the squares of the parameters, giving the regularized loss function\n",
    "\n",
    "\\begin{equation}\n",
    "L_{\\mathrm{Ridge}}(\\mathbf{\\beta}) = \\frac{1}{n} \\sum_{i = 1}^n (y_i - \\mathbf{\\beta}^T \\mathbf{x}_i)^2 + \\lambda \\sum_{j = 1}^d \\beta_j^2.\n",
    "\\end{equation}\n",
    "\n",
    "In LASSO regression the penalty function is the sum of the magnitudes of the parameters, leading to\n",
    "\n",
    "\\begin{equation}\n",
    "L_{\\mathrm{LASSO}}(\\mathbf{\\beta}) = \\frac{1}{n} \\sum_{i = 1}^n (y_i - \\mathbf{\\beta}^T \\mathbf{x}_i)^2 + \\lambda \\sum_{j = 1}^d |\\beta_j|.\n",
    "\\end{equation}\n",
    "\n",
    "We will show how these optimization problems can be solved with `sklearn` to determine the model parameters $\\mathbf \\beta$.  We will also show how to choose $\\lambda$ appropriately via cross-validation."
   ]
  },
  {
   "cell_type": "markdown",
   "metadata": {
    "slideshow": {
     "slide_type": "slide"
    }
   },
   "source": [
    "Going back to the problem of selecting a polynomial degree, then we have focused on finding the polynomial with the right degree of complexity $d=*$ given the data that we have.\n",
    "\n",
    "When we **regularize** we smooth or restrict the choices of the kinds of (up to) 5th order polynomials that we allow in our fits. That is, if we want to fit with a 5th order polynomial, ok, lets fit with it, but lets reduce the size of, or limit the functions that we allow. Note that sklearn uses the notation $\\alpha$ instead of $\\lambda$."
   ]
  },
  {
   "cell_type": "markdown",
   "metadata": {},
   "source": [
    "### 2.2.1 Regularization of our model with Cross-Validation"
   ]
  },
  {
   "cell_type": "markdown",
   "metadata": {},
   "source": [
    "The addition of a penalty term to the risk or error causes us to choose a smaller subset of the entire set of complex $\\cal{H}_{5}$ polynomials. This is shown in the diagram below where the balance between bias and variance occurs at some subset $S_*$ of the set of 5th order polynomials indexed by $\\alpha_*$.\n",
    "\n",
    "Some notes:\n",
    "1. there is an error on the diagram, the 13 there should actually be a 5).\n",
    "2. in textbooks we commonly use $\\lambda$ as the symbol for regularization parameter but in scikit-learn that is $\\alpha$.\n",
    "\n",
    "![m:caption](complexity-error-reg.png)\n",
    "\n",
    "Lets see what some of the $\\alpha$s do. The diagram below trains on the entire training set, for given values of $\\alpha$, minimizing the penalty-term-added training error.\n",
    "\n",
    "**Note that here we are doing the note so good thing of exhausting the test set for demonstration purposes**"
   ]
  },
  {
   "cell_type": "code",
   "execution_count": 6,
   "metadata": {},
   "outputs": [],
   "source": [
    "from sklearn.linear_model import Ridge\n",
    "from sklearn.linear_model import Lasso\n",
    "#from sklearn.preprocessing import PolynomialFeatures\n",
    "from sklearn.preprocessing import scale \n",
    "from sklearn.metrics import mean_squared_error\n",
    "from sklearn.linear_model import LinearRegression, Ridge, RidgeCV, Lasso, LassoCV"
   ]
  },
  {
   "cell_type": "code",
   "execution_count": 7,
   "metadata": {
    "scrolled": false
   },
   "outputs": [
    {
     "name": "stdout",
     "output_type": "stream",
     "text": [
      "<class 'pandas.core.frame.DataFrame'>\n",
      "Index: 263 entries, -Alan Ashby to -Willie Wilson\n",
      "Data columns (total 20 columns):\n",
      " #   Column     Non-Null Count  Dtype  \n",
      "---  ------     --------------  -----  \n",
      " 0   AtBat      263 non-null    int64  \n",
      " 1   Hits       263 non-null    int64  \n",
      " 2   HmRun      263 non-null    int64  \n",
      " 3   Runs       263 non-null    int64  \n",
      " 4   RBI        263 non-null    int64  \n",
      " 5   Walks      263 non-null    int64  \n",
      " 6   Years      263 non-null    int64  \n",
      " 7   CAtBat     263 non-null    int64  \n",
      " 8   CHits      263 non-null    int64  \n",
      " 9   CHmRun     263 non-null    int64  \n",
      " 10  CRuns      263 non-null    int64  \n",
      " 11  CRBI       263 non-null    int64  \n",
      " 12  CWalks     263 non-null    int64  \n",
      " 13  League     263 non-null    object \n",
      " 14  Division   263 non-null    object \n",
      " 15  PutOuts    263 non-null    int64  \n",
      " 16  Assists    263 non-null    int64  \n",
      " 17  Errors     263 non-null    int64  \n",
      " 18  Salary     263 non-null    float64\n",
      " 19  NewLeague  263 non-null    object \n",
      "dtypes: float64(1), int64(16), object(3)\n",
      "memory usage: 43.1+ KB\n"
     ]
    }
   ],
   "source": [
    "df = pd.read_csv('Hitters.csv', index_col=0).dropna()\n",
    "df.index.name = 'Player'\n",
    "df.info()"
   ]
  },
  {
   "cell_type": "code",
   "execution_count": 8,
   "metadata": {
    "scrolled": false
   },
   "outputs": [
    {
     "name": "stdout",
     "output_type": "stream",
     "text": [
      "<class 'pandas.core.frame.DataFrame'>\n",
      "Index: 263 entries, -Alan Ashby to -Willie Wilson\n",
      "Data columns (total 6 columns):\n",
      " #   Column       Non-Null Count  Dtype\n",
      "---  ------       --------------  -----\n",
      " 0   League_A     263 non-null    uint8\n",
      " 1   League_N     263 non-null    uint8\n",
      " 2   Division_E   263 non-null    uint8\n",
      " 3   Division_W   263 non-null    uint8\n",
      " 4   NewLeague_A  263 non-null    uint8\n",
      " 5   NewLeague_N  263 non-null    uint8\n",
      "dtypes: uint8(6)\n",
      "memory usage: 3.6+ KB\n",
      "                   League_A  League_N  Division_E  Division_W  NewLeague_A  \\\n",
      "Player                                                                       \n",
      "-Alan Ashby               0         1           0           1            0   \n",
      "-Alvin Davis              1         0           0           1            1   \n",
      "-Andre Dawson             0         1           1           0            0   \n",
      "-Andres Galarraga         0         1           1           0            0   \n",
      "-Alfredo Griffin          1         0           0           1            1   \n",
      "\n",
      "                   NewLeague_N  \n",
      "Player                          \n",
      "-Alan Ashby                  1  \n",
      "-Alvin Davis                 0  \n",
      "-Andre Dawson                1  \n",
      "-Andres Galarraga            1  \n",
      "-Alfredo Griffin             0  \n"
     ]
    }
   ],
   "source": [
    "df.head()\n",
    "dummies = pd.get_dummies(df[['League', 'Division', 'NewLeague']])\n",
    "dummies.info()\n",
    "print(dummies.head())"
   ]
  },
  {
   "cell_type": "code",
   "execution_count": 9,
   "metadata": {},
   "outputs": [
    {
     "name": "stdout",
     "output_type": "stream",
     "text": [
      "<class 'pandas.core.frame.DataFrame'>\n",
      "Index: 263 entries, -Alan Ashby to -Willie Wilson\n",
      "Data columns (total 20 columns):\n",
      " #   Column       Non-Null Count  Dtype  \n",
      "---  ------       --------------  -----  \n",
      " 0   AtBat        263 non-null    float64\n",
      " 1   Hits         263 non-null    float64\n",
      " 2   HmRun        263 non-null    float64\n",
      " 3   Runs         263 non-null    float64\n",
      " 4   RBI          263 non-null    float64\n",
      " 5   Walks        263 non-null    float64\n",
      " 6   Years        263 non-null    float64\n",
      " 7   CAtBat       263 non-null    float64\n",
      " 8   CHits        263 non-null    float64\n",
      " 9   CHmRun       263 non-null    float64\n",
      " 10  CRuns        263 non-null    float64\n",
      " 11  CRBI         263 non-null    float64\n",
      " 12  CWalks       263 non-null    float64\n",
      " 13  PutOuts      263 non-null    float64\n",
      " 14  Assists      263 non-null    float64\n",
      " 15  Errors       263 non-null    float64\n",
      " 16  Salary       263 non-null    float64\n",
      " 17  League_N     263 non-null    uint8  \n",
      " 18  Division_W   263 non-null    uint8  \n",
      " 19  NewLeague_N  263 non-null    uint8  \n",
      "dtypes: float64(17), uint8(3)\n",
      "memory usage: 37.8+ KB\n"
     ]
    }
   ],
   "source": [
    "# Drop the columns for which we created dummy variables\n",
    "dfnew = df.drop(['League', 'Division', 'NewLeague'], axis=1).astype('float64')\n",
    "# Define the feature set X.\n",
    "dfnew = pd.concat([dfnew, dummies[['League_N', 'Division_W', 'NewLeague_N']]], axis=1)\n",
    "dfnew.info()"
   ]
  },
  {
   "cell_type": "markdown",
   "metadata": {
    "slideshow": {
     "slide_type": "slide"
    }
   },
   "source": [
    "Let us define a helper function to help us do the train/test splits. I also have the option of whether I want a further split to validation set."
   ]
  },
  {
   "cell_type": "code",
   "execution_count": 10,
   "metadata": {},
   "outputs": [],
   "source": [
    "def train_test_split(df, n_samples=df.shape[0], validation=False):\n",
    "    if validation:\n",
    "        sample = df.sample(n=n_samples)\n",
    "\n",
    "        msk = np.random.rand(len(sample)) < 0.8\n",
    "        non_test = sample[msk]\n",
    "        test = sample[~msk]\n",
    "        \n",
    "        msk = np.random.rand(len(non_test)) < 0.7\n",
    "        train = non_test[msk]\n",
    "        validation = non_test[~msk]\n",
    "        \n",
    "        return train, validation, test\n",
    "    \n",
    "    else:\n",
    "        sample = df.sample(n=n_samples)\n",
    "\n",
    "        msk = np.random.rand(len(sample)) < 0.8\n",
    "        train = sample[msk]\n",
    "        test = sample[~msk]\n",
    "        \n",
    "        return train, test"
   ]
  },
  {
   "cell_type": "code",
   "execution_count": 11,
   "metadata": {},
   "outputs": [],
   "source": [
    "cols = ['AtBat',\n",
    " 'Hits',\n",
    " 'HmRun',\n",
    " 'Runs',\n",
    " 'RBI',\n",
    " 'Walks',\n",
    " 'Years',\n",
    " 'CAtBat',\n",
    " 'CHits',\n",
    " 'CHmRun',\n",
    " 'CRuns',\n",
    " 'CRBI',\n",
    " 'CWalks',\n",
    " 'PutOuts',\n",
    " 'Assists',\n",
    " 'Errors',\n",
    " 'League_N',\n",
    " 'Division_W',\n",
    " 'NewLeague_N']\n",
    "all_predictors = cols\n",
    "\n",
    "\n",
    "train, validation, test = train_test_split(dfnew, validation=True)\n",
    "\n",
    "y_train = train['Salary'].values\n",
    "y_val = validation['Salary'].values\n",
    "y_test = test['Salary'].values\n",
    "\n",
    "X_train = train[all_predictors].values\n",
    "X_val = validation[all_predictors].values\n",
    "X_test = test[all_predictors].values\n",
    "\n",
    "#for simplicity, let's keep this\n",
    "X_non_test = np.vstack((X_train, X_val))\n",
    "y_non_test = np.hstack((y_train, y_val))"
   ]
  },
  {
   "cell_type": "markdown",
   "metadata": {
    "slideshow": {
     "slide_type": "-"
    }
   },
   "source": [
    "For demonstrating the same results, let's use the following split:"
   ]
  },
  {
   "cell_type": "code",
   "execution_count": 12,
   "metadata": {},
   "outputs": [],
   "source": [
    "X_non_test = pd.read_csv('Hitters_X_train.csv', index_col=0)\n",
    "y_non_test = pd.read_csv('Hitters_y_train.csv', index_col=0)\n",
    "X_test = pd.read_csv('Hitters_X_test.csv', index_col=0)\n",
    "y_test = pd.read_csv('Hitters_y_test.csv', index_col=0)"
   ]
  },
  {
   "cell_type": "markdown",
   "metadata": {
    "slideshow": {
     "slide_type": "slide"
    }
   },
   "source": [
    "### a) Ridge Regression"
   ]
  },
  {
   "cell_type": "code",
   "execution_count": 13,
   "metadata": {
    "scrolled": true
   },
   "outputs": [
    {
     "name": "stdout",
     "output_type": "stream",
     "text": [
      "Ridge regression model:\n",
      " [295.61596625] + [[-2.58102566e+00  8.31863411e+00  1.13020313e+01 -9.11912649e+00\n",
      "   2.83507856e+00  9.29713353e+00 -2.33053044e+01 -1.86911298e-01\n",
      "  -9.92415858e-02 -1.35809766e+00  3.37474955e+00  3.86064682e-02\n",
      "  -1.08124730e+00  3.35476663e+01 -7.31169916e+01  3.45232376e-01\n",
      "   3.47945875e-01 -4.23842382e-01  1.55990808e+01]]^T . x\n"
     ]
    }
   ],
   "source": [
    "ridge_regression = Ridge(alpha=10, fit_intercept=True)\n",
    "ridge_regression.fit(X_non_test, y_non_test)\n",
    "\n",
    "print('Ridge regression model:\\n {} + {}^T . x'.format(ridge_regression.intercept_, ridge_regression.coef_))"
   ]
  },
  {
   "cell_type": "code",
   "execution_count": 14,
   "metadata": {},
   "outputs": [
    {
     "data": {
      "text/plain": [
       "AtBat          -2.581026\n",
       "Hits            8.318634\n",
       "HmRun          11.302031\n",
       "Runs           -9.119126\n",
       "RBI             2.835079\n",
       "Walks           9.297134\n",
       "Years         -23.305304\n",
       "CAtBat         -0.186911\n",
       "CHits          -0.099242\n",
       "CHmRun         -1.358098\n",
       "CRuns           3.374750\n",
       "CRBI            0.038606\n",
       "CWalks         -1.081247\n",
       "PutOuts        33.547666\n",
       "Assists       -73.116992\n",
       "Errors          0.345232\n",
       "League_N        0.347946\n",
       "Division_W     -0.423842\n",
       "NewLeague_N    15.599081\n",
       "dtype: float64"
      ]
     },
     "execution_count": 14,
     "metadata": {},
     "output_type": "execute_result"
    }
   ],
   "source": [
    "pd.Series(ridge_regression.coef_.flatten(), index=cols)"
   ]
  },
  {
   "cell_type": "code",
   "execution_count": 15,
   "metadata": {},
   "outputs": [
    {
     "name": "stdout",
     "output_type": "stream",
     "text": [
      "Train R^2: 0.510936324267652, test R^2: 0.39118455038022915\n"
     ]
    }
   ],
   "source": [
    "print('Train R^2: {}, test R^2: {}'.format(ridge_regression.score(X_non_test,y_non_test),\n",
    "                                           ridge_regression.score(X_test, y_test)))"
   ]
  },
  {
   "cell_type": "markdown",
   "metadata": {
    "slideshow": {
     "slide_type": "slide"
    }
   },
   "source": [
    "### Why we need to standardize the predictors?\n",
    "\n",
    "The standard least squares coefficient estimates are scale equivariant: multiplying a predictor value $X_j$ by a constant $c$ simply leads to a scaling of the least squares coefficient estimates by a factor of $1/c$. In other words, regardless of how the $j$-th predictor is scaled, the product $X_j\\cdot \\beta_j$ will remain the same.\n",
    "\n",
    "In contrast, the ridge regression coefficient estimates can change substantially when multiplying a given predictor by  a constant, due to the sum of squared coefficients term in  the penalty part of the ridge regression objective  function.\n",
    "\n",
    "Therefore, it is best to apply ridge regression after standardizing the predictors, using the formula\n",
    "\n",
    "$$\n",
    "\\tilde x_{ij} = \\frac{x_{ij}}{\\sqrt{\\frac{1}{n}\\sum_{i=1}^n (x_{ij}-\\bar x_j)^2}}\n",
    "$$\n"
   ]
  },
  {
   "cell_type": "code",
   "execution_count": 16,
   "metadata": {},
   "outputs": [
    {
     "data": {
      "text/plain": [
       "Ridge(alpha=10)"
      ]
     },
     "execution_count": 16,
     "metadata": {},
     "output_type": "execute_result"
    }
   ],
   "source": [
    "ridge_std = Ridge(alpha=10, fit_intercept=True)\n",
    "ridge_std.fit(scale(X_non_test), y_non_test)"
   ]
  },
  {
   "cell_type": "code",
   "execution_count": 17,
   "metadata": {
    "scrolled": false
   },
   "outputs": [
    {
     "name": "stdout",
     "output_type": "stream",
     "text": [
      "Ridge regression model:\n",
      " [547.98473282] + [[-85.01535108  60.202096    39.86634368  -9.567415    27.89250628\n",
      "  114.14532939 -74.73682258  13.48890883  83.61520559 -10.13565567\n",
      "  133.99839434   8.27450231 -14.60428032  21.827649   -70.8502637\n",
      "   87.44770204  22.58795954 -11.1513239    6.28523586]]^T . x\n"
     ]
    },
    {
     "data": {
      "text/plain": [
       "AtBat          -85.015351\n",
       "Hits            60.202096\n",
       "HmRun           39.866344\n",
       "Runs            -9.567415\n",
       "RBI             27.892506\n",
       "Walks          114.145329\n",
       "Years          -74.736823\n",
       "CAtBat          13.488909\n",
       "CHits           83.615206\n",
       "CHmRun         -10.135656\n",
       "CRuns          133.998394\n",
       "CRBI             8.274502\n",
       "CWalks         -14.604280\n",
       "PutOuts         21.827649\n",
       "Assists        -70.850264\n",
       "Errors          87.447702\n",
       "League_N        22.587960\n",
       "Division_W     -11.151324\n",
       "NewLeague_N      6.285236\n",
       "dtype: float64"
      ]
     },
     "execution_count": 17,
     "metadata": {},
     "output_type": "execute_result"
    }
   ],
   "source": [
    "print('Ridge regression model:\\n {} + {}^T . x'.format(ridge_std.intercept_, ridge_std.coef_))\n",
    "pd.Series(ridge_std.coef_.flatten(), index=cols)"
   ]
  },
  {
   "cell_type": "code",
   "execution_count": 18,
   "metadata": {},
   "outputs": [
    {
     "name": "stdout",
     "output_type": "stream",
     "text": [
      "Train R^2: 0.4507078936911417, test R^2: 0.4890002289423785\n"
     ]
    }
   ],
   "source": [
    "print('Train R^2: {}, test R^2: {}'.format(ridge_std.score(scale(X_non_test),y_non_test),\n",
    "                                           ridge_std.score(scale(X_test), y_test)))"
   ]
  },
  {
   "cell_type": "markdown",
   "metadata": {
    "slideshow": {
     "slide_type": "slide"
    }
   },
   "source": [
    "### b) LASSO Regression"
   ]
  },
  {
   "cell_type": "code",
   "execution_count": 19,
   "metadata": {},
   "outputs": [
    {
     "name": "stdout",
     "output_type": "stream",
     "text": [
      "Lasso regression model:\n",
      " [298.61270238] + [-2.53744000e+00  8.30160619e+00  1.14942441e+01 -9.05304267e+00\n",
      "  2.52731096e+00  9.24291902e+00 -2.27572666e+01 -1.84248417e-01\n",
      " -1.01903813e-01 -1.32506897e+00  3.32380019e+00  6.26335672e-02\n",
      " -1.07562505e+00  5.47136396e+01 -9.42506662e+01  3.42268551e-01\n",
      "  3.42132008e-01 -5.38374455e-01  0.00000000e+00]^T . x\n"
     ]
    }
   ],
   "source": [
    "#not increasing the # of iterations, might give you a convergence warning\n",
    "lasso_regression = Lasso(alpha=1, fit_intercept=True, max_iter=10000)\n",
    "lasso_regression.fit(X_non_test, y_non_test)\n",
    "\n",
    "print('Lasso regression model:\\n {} + {}^T . x'.format(lasso_regression.intercept_, lasso_regression.coef_))"
   ]
  },
  {
   "cell_type": "code",
   "execution_count": 20,
   "metadata": {},
   "outputs": [
    {
     "name": "stdout",
     "output_type": "stream",
     "text": [
      "Train R^2: 0.5117894312287237, test R^2: 0.40300507389768403\n"
     ]
    }
   ],
   "source": [
    "print('Train R^2: {}, test R^2: {}'.format(lasso_regression.score(X_non_test, y_non_test), \n",
    "                                           lasso_regression.score(X_test, y_test)))"
   ]
  },
  {
   "cell_type": "markdown",
   "metadata": {
    "slideshow": {
     "slide_type": "slide"
    }
   },
   "source": [
    "### 2.3.2 The Effect of the Regularization Parameter\n",
    "\n",
    "Let's see in more detail what is the effect of regularization. We will vary the regularization parameter from $10^{-5}$ i.e. $0.00001$ till $10^9$ i.e. $1000000000$."
   ]
  },
  {
   "cell_type": "code",
   "execution_count": 21,
   "metadata": {
    "slideshow": {
     "slide_type": "-"
    }
   },
   "outputs": [],
   "source": [
    "reg_params = np.hstack((10.**np.arange(-5, 0), 10**np.arange(0, 10) + 0.01))"
   ]
  },
  {
   "cell_type": "markdown",
   "metadata": {},
   "source": [
    "### a) Ridge Regression"
   ]
  },
  {
   "cell_type": "code",
   "execution_count": 22,
   "metadata": {},
   "outputs": [],
   "source": [
    "train_R_sq = []\n",
    "test_R_sq = []\n",
    "coefs = []\n",
    "\n",
    "for reg in reg_params:\n",
    "    ridge_regression1 = Ridge(alpha=reg, fit_intercept=True)\n",
    "    ridge_regression1.fit(scale(X_non_test), y_non_test)\n",
    "    coefs.append(ridge_regression1.coef_)\n",
    "\n",
    "    \n",
    "    train_R_sq.append(ridge_regression1.score(scale(X_non_test),y_non_test))\n",
    "    test_R_sq.append(ridge_regression1.score(scale(X_test), y_test))"
   ]
  },
  {
   "cell_type": "code",
   "execution_count": 23,
   "metadata": {},
   "outputs": [
    {
     "data": {
      "image/png": "[encoded data removed]",
      "text/plain": [
       "<Figure size 360x360 with 1 Axes>"
      ]
     },
     "metadata": {
      "needs_background": "light"
     },
     "output_type": "display_data"
    }
   ],
   "source": [
    "fig, ax = plt.subplots(1, 1, figsize=(5, 5))\n",
    "\n",
    "ax.plot(reg_params, train_R_sq, color='blue', label='train')\n",
    "ax.plot(reg_params, test_R_sq, color='green', label='test')\n",
    "\n",
    "ax.set_xscale('log')\n",
    "ax.set_title('Regularization Parameter vs Test R^2')\n",
    "ax.set_xlabel('Regularization strength')\n",
    "ax.set_ylabel('R^2')\n",
    "ax.legend(loc='best')\n",
    "\n",
    "plt.show()"
   ]
  },
  {
   "cell_type": "code",
   "execution_count": 24,
   "metadata": {
    "scrolled": false
   },
   "outputs": [
    {
     "data": {
      "image/png": "[encoded data removed]",
      "text/plain": [
       "<Figure size 720x432 with 1 Axes>"
      ]
     },
     "metadata": {
      "needs_background": "light"
     },
     "output_type": "display_data"
    }
   ],
   "source": [
    "y = df.Salary\n",
    "# Drop the column with the independent variable (Salary), and columns for which we created dummy variables\n",
    "X_ = df.drop(['Salary', 'League', 'Division', 'NewLeague'], axis=1).astype('float64')\n",
    "# Define the feature set X.\n",
    "X = pd.concat([X_, dummies[['League_N', 'Division_W', 'NewLeague_N']]], axis=1)\n",
    "\n",
    "alphas = 10**np.linspace(10,-2,100)*0.5\n",
    "\n",
    "ridge = Ridge()\n",
    "coefs = []\n",
    "\n",
    "for a in alphas:\n",
    "    ridge.set_params(alpha=a)\n",
    "    ridge.fit(scale(X), y)\n",
    "    coefs.append(ridge.coef_)\n",
    "\n",
    "ax = plt.gca()\n",
    "ax.plot(alphas, coefs)\n",
    "ax.set_xscale('log')\n",
    "ax.set_xlim(ax.get_xlim()[::-1])  # reverse axis\n",
    "plt.axis('tight')\n",
    "plt.xlabel('lambda')\n",
    "plt.ylabel('coefficients')\n",
    "plt.title('Ridge coefficients as a function of the regularization');"
   ]
  },
  {
   "cell_type": "markdown",
   "metadata": {
    "slideshow": {
     "slide_type": "slide"
    }
   },
   "source": [
    "### b) LASSO Regression"
   ]
  },
  {
   "cell_type": "code",
   "execution_count": 25,
   "metadata": {},
   "outputs": [],
   "source": [
    "train_R_sq = []\n",
    "test_R_sq = []\n",
    "\n",
    "for reg in reg_params:\n",
    "    lasso_regression = Lasso(alpha=reg, max_iter=100000, fit_intercept=True)\n",
    "    lasso_regression.fit(X_non_test, y_non_test)\n",
    "    \n",
    "    train_R_sq.append(lasso_regression.score(X_non_test, y_non_test))\n",
    "    test_R_sq.append(lasso_regression.score(X_test, y_test))"
   ]
  },
  {
   "cell_type": "code",
   "execution_count": 26,
   "metadata": {},
   "outputs": [
    {
     "data": {
      "image/png": "[encoded data removed]",
      "text/plain": [
       "<Figure size 360x360 with 1 Axes>"
      ]
     },
     "metadata": {
      "needs_background": "light"
     },
     "output_type": "display_data"
    }
   ],
   "source": [
    "fig, ax = plt.subplots(1, 1, figsize=(5, 5))\n",
    "\n",
    "ax.plot(reg_params, train_R_sq, color='blue', label='train')\n",
    "ax.plot(reg_params, test_R_sq, color='green', label='test')\n",
    "\n",
    "ax.set_xscale('log')\n",
    "ax.set_title('Regularization Parameter vs Test R^2')\n",
    "ax.set_xlabel('Regularization strength')\n",
    "ax.set_ylabel('R^2')\n",
    "ax.legend(loc='best')\n",
    "\n",
    "plt.show()"
   ]
  },
  {
   "cell_type": "code",
   "execution_count": 27,
   "metadata": {
    "scrolled": false
   },
   "outputs": [
    {
     "data": {
      "image/png": "[encoded data removed]",
      "text/plain": [
       "<Figure size 720x432 with 1 Axes>"
      ]
     },
     "metadata": {
      "needs_background": "light"
     },
     "output_type": "display_data"
    }
   ],
   "source": [
    "lasso = Lasso(max_iter=10000)\n",
    "coefs = []\n",
    "\n",
    "for a in alphas*2:\n",
    "    lasso.set_params(alpha=a)\n",
    "    lasso.fit(scale(X), y)\n",
    "    coefs.append(lasso.coef_)\n",
    "\n",
    "ax = plt.gca()\n",
    "ax.plot(alphas*2, coefs)\n",
    "ax.set_xscale('log')\n",
    "ax.set_xlim(ax.get_xlim()[::-1])  # reverse axis\n",
    "plt.axis('tight')\n",
    "plt.xlabel('lambda')\n",
    "plt.ylabel('coefficients')\n",
    "plt.title('Lasso coefficients as a function of the regularization');"
   ]
  },
  {
   "cell_type": "markdown",
   "metadata": {
    "slideshow": {
     "slide_type": "slide"
    }
   },
   "source": [
    "### Differences between Ridge (L2) and Lasso (L1)\n",
    "\n",
    "* Ridge regression does have one obvious  disadvantage: unlike subset selection, which will generally select models  that involve just a subset of the variables, ridge regression  will include all p predictors in the final model.\n",
    "\n",
    "* Lasso forces some of the coefficient estimates to be  exactly equal to zero when the tuning parameter λ is  sufficiently large. Hence, much like best subset selection, the lasso performs variable selection. We say that the lasso yields sparse  models — that  is, models that involve only a subset of  the  variables.\n",
    "\n",
    "* Why is that? It helps re-formulating a bit the optimization problem of Ridge and Lasso:\n",
    "\n",
    "\n",
    "$$\n",
    "\\frac{1}{n} \\sum_{i = 1}^n (y_i - \\mathbf{\\beta}^T \\mathbf{x}_i)^2 + R(\\beta).\n",
    "$$\n",
    "\n",
    "or equivalent we minimize:\n",
    "\n",
    "$$\\frac{1}{n} \\sum_{i = 1}^n (y_i - \\mathbf{\\beta}^T \\mathbf{x}_i)^2$$\n",
    "\n",
    "subject on the constraint: $$\\sum_{j = 1}^p \\beta_j^2 \\leq s$$ for Ridge\n",
    "\n",
    "and $$\\sum_{j = 1}^p |\\beta_j| \\leq s$$ for Lasso.\n",
    "\n",
    "For $p=2$ predictors, this can be visualized as follows:\n",
    "\n",
    "![ridgelasso](ridgelasso.png)\n",
    "\n",
    "The red lines are the contours that the RSS is minimum. What I say to the model, is: \"find me the smallest RSS you can get, so that the budget constraint is satisfied\""
   ]
  },
  {
   "cell_type": "markdown",
   "metadata": {
    "slideshow": {
     "slide_type": "slide"
    }
   },
   "source": [
    "### 2.3.3 Cross Validation: Selecting the Regularization Parameter (check it at home -- it will come for the clinic as well)\n",
    "\n",
    "How do I select the regularization parameter? Simply, with cross-validation. In this case, we also use the MSE (mean squared error) as a performance metric. This just puts together what we discussed before (regularization + cross-validation)."
   ]
  },
  {
   "cell_type": "code",
   "execution_count": 28,
   "metadata": {},
   "outputs": [],
   "source": [
    "X_non_test = np.vstack((X_train, X_val))\n",
    "y_non_test = np.hstack((y_train, y_val))\n",
    "\n",
    "kf = KFold(n_splits=10)\n",
    "\n",
    "x_val_scores = []\n",
    "mse_val = []\n",
    "\n",
    "for reg in reg_params:\n",
    "    ridge_regression = Ridge(alpha=reg, fit_intercept=True)\n",
    "    \n",
    "    validation_R_sqs = []\n",
    "    mses = []\n",
    "    for train_index, val_index in kf.split(X_non_test):\n",
    "        X_train, X_val = X_non_test[train_index], X_non_test[val_index]\n",
    "        y_train, y_val = y_non_test[train_index], y_non_test[val_index]\n",
    "\n",
    "        \n",
    "        ridge_regression.fit(scale(X_train), y_train)\n",
    "        validation_R_sqs.append(ridge_regression.score(scale(X_val), y_val))\n",
    "        pred = ridge_regression.predict(scale(X_val))\n",
    "        mses.append(mean_squared_error(y_val, pred))\n",
    "\n",
    "        \n",
    "    x_val_scores.append(np.mean(validation_R_sqs))\n",
    "    mse_val.append(np.mean(mses))"
   ]
  },
  {
   "cell_type": "code",
   "execution_count": 29,
   "metadata": {
    "scrolled": true
   },
   "outputs": [
    {
     "data": {
      "image/png": "[encoded data removed]",
      "text/plain": [
       "<Figure size 360x360 with 1 Axes>"
      ]
     },
     "metadata": {
      "needs_background": "light"
     },
     "output_type": "display_data"
    }
   ],
   "source": [
    "fig, ax = plt.subplots(1, 1, figsize=(5, 5))\n",
    "\n",
    "ax.plot(reg_params, mse_val, color='blue')\n",
    "\n",
    "ax.set_xscale('log')\n",
    "ax.set_title('Regularization Strength vs Cross Validation Score')\n",
    "ax.set_xlabel('Strength of Regularization')\n",
    "ax.set_ylabel('Cross Validation Score')\n",
    "\n",
    "plt.show()"
   ]
  },
  {
   "cell_type": "code",
   "execution_count": 30,
   "metadata": {},
   "outputs": [
    {
     "name": "stdout",
     "output_type": "stream",
     "text": [
      "best regularization param is: 100.01\n",
      "the MSE (test set) for ridge regression with alpha = 100.01 is: 90716.68965146279\n"
     ]
    }
   ],
   "source": [
    "best_alpha = reg_params[np.argmin(mse_val)]\n",
    "\n",
    "ridge_regression = Ridge(alpha=best_alpha, fit_intercept=True)\n",
    "ridge_regression.fit(scale(X_non_test), y_non_test)\n",
    "pred = ridge_regression.predict(scale(X_test))\n",
    "mse_final = mean_squared_error(y_test, pred)\n",
    "#test_R_sq = (ridge_regression.score(scale(X_test), y_test))\n",
    "\n",
    "print('best regularization param is:', best_alpha)\n",
    "print('the MSE (test set) for ridge regression with alpha = {} is: {}'.format(best_alpha, mse_final))"
   ]
  },
  {
   "cell_type": "code",
   "execution_count": 31,
   "metadata": {},
   "outputs": [
    {
     "data": {
      "text/plain": [
       "AtBat         -291.006253\n",
       "Hits           337.528334\n",
       "HmRun           37.673623\n",
       "Runs           -60.293410\n",
       "RBI            -26.829269\n",
       "Walks          135.000609\n",
       "Years          -16.872957\n",
       "CAtBat        -389.910351\n",
       "CHits           87.649745\n",
       "CHmRun         -13.534996\n",
       "CRuns          479.163318\n",
       "CRBI           259.529823\n",
       "CWalks        -213.633676\n",
       "PutOuts         78.761373\n",
       "Assists         53.694656\n",
       "Errors         -22.176895\n",
       "League_N        31.251786\n",
       "Division_W     -58.429002\n",
       "NewLeague_N    -12.367081\n",
       "dtype: float64"
      ]
     },
     "execution_count": 31,
     "metadata": {},
     "output_type": "execute_result"
    }
   ],
   "source": [
    "pd.Series(ridge.coef_.flatten(), index=X.columns)"
   ]
  },
  {
   "cell_type": "markdown",
   "metadata": {},
   "source": [
    "### Alternative approaches: Use `RidgeCV` and `LassoCV`\n",
    "\n",
    "(check the documentation carefully before you apply them)"
   ]
  },
  {
   "cell_type": "code",
   "execution_count": 32,
   "metadata": {},
   "outputs": [
    {
     "data": {
      "text/plain": [
       "RidgeCV(alphas=array([5.00000000e+09, 3.78231664e+09, 2.86118383e+09, 2.16438064e+09,\n",
       "       1.63727458e+09, 1.23853818e+09, 9.36908711e+08, 7.08737081e+08,\n",
       "       5.36133611e+08, 4.05565415e+08, 3.06795364e+08, 2.32079442e+08,\n",
       "       1.75559587e+08, 1.32804389e+08, 1.00461650e+08, 7.59955541e+07,\n",
       "       5.74878498e+07, 4.34874501e+07, 3.28966612e+07, 2.48851178e+07,\n",
       "       1.88246790e+07, 1.42401793e+0...\n",
       "       3.06795364e+00, 2.32079442e+00, 1.75559587e+00, 1.32804389e+00,\n",
       "       1.00461650e+00, 7.59955541e-01, 5.74878498e-01, 4.34874501e-01,\n",
       "       3.28966612e-01, 2.48851178e-01, 1.88246790e-01, 1.42401793e-01,\n",
       "       1.07721735e-01, 8.14875417e-02, 6.16423370e-02, 4.66301673e-02,\n",
       "       3.52740116e-02, 2.66834962e-02, 2.01850863e-02, 1.52692775e-02,\n",
       "       1.15506485e-02, 8.73764200e-03, 6.60970574e-03, 5.00000000e-03]),\n",
       "        scoring='neg_mean_squared_error')"
      ]
     },
     "execution_count": 32,
     "metadata": {},
     "output_type": "execute_result"
    }
   ],
   "source": [
    "ridgecv = RidgeCV(alphas=alphas, scoring='neg_mean_squared_error')\n",
    "ridgecv.fit(scale(X_train), y_train)"
   ]
  },
  {
   "cell_type": "code",
   "execution_count": 33,
   "metadata": {},
   "outputs": [
    {
     "data": {
      "text/plain": [
       "3.0679536367065814"
      ]
     },
     "execution_count": 33,
     "metadata": {},
     "output_type": "execute_result"
    }
   ],
   "source": [
    "ridgecv.alpha_"
   ]
  },
  {
   "cell_type": "code",
   "execution_count": 34,
   "metadata": {},
   "outputs": [
    {
     "data": {
      "text/plain": [
       "86281.33281887049"
      ]
     },
     "execution_count": 34,
     "metadata": {},
     "output_type": "execute_result"
    }
   ],
   "source": [
    "ridge.set_params(alpha=ridgecv.alpha_)\n",
    "ridge.fit(scale(X_train), y_train)\n",
    "mean_squared_error(y_test, ridge.predict(scale(X_test)))"
   ]
  },
  {
   "cell_type": "code",
   "execution_count": 35,
   "metadata": {},
   "outputs": [
    {
     "data": {
      "text/plain": [
       "AtBat         -176.084962\n",
       "Hits           171.602550\n",
       "HmRun          -13.697325\n",
       "Runs            -9.261044\n",
       "RBI              5.977581\n",
       "Walks          129.622676\n",
       "Years          -73.198329\n",
       "CAtBat         -71.292512\n",
       "CHits          180.333502\n",
       "CHmRun          66.269477\n",
       "CRuns          182.403783\n",
       "CRBI           143.274381\n",
       "CWalks        -220.119392\n",
       "PutOuts         68.155871\n",
       "Assists         31.478836\n",
       "Errors         -10.478346\n",
       "League_N        37.257111\n",
       "Division_W     -81.161046\n",
       "NewLeague_N    -18.172390\n",
       "dtype: float64"
      ]
     },
     "execution_count": 35,
     "metadata": {},
     "output_type": "execute_result"
    }
   ],
   "source": [
    "pd.Series(ridge.coef_.flatten(), index=X.columns)"
   ]
  },
  {
   "cell_type": "code",
   "execution_count": 36,
   "metadata": {},
   "outputs": [
    {
     "data": {
      "text/plain": [
       "LassoCV(cv=10, max_iter=10000)"
      ]
     },
     "execution_count": 36,
     "metadata": {},
     "output_type": "execute_result"
    }
   ],
   "source": [
    "lassocv = LassoCV(alphas=None, cv=10, max_iter=10000)\n",
    "lassocv.fit(scale(X_non_test), y_non_test)"
   ]
  },
  {
   "cell_type": "code",
   "execution_count": 37,
   "metadata": {},
   "outputs": [
    {
     "data": {
      "text/plain": [
       "3.127277295558936"
      ]
     },
     "execution_count": 37,
     "metadata": {},
     "output_type": "execute_result"
    }
   ],
   "source": [
    "lassocv.alpha_"
   ]
  },
  {
   "cell_type": "code",
   "execution_count": 38,
   "metadata": {},
   "outputs": [
    {
     "data": {
      "text/plain": [
       "85820.00387738158"
      ]
     },
     "execution_count": 38,
     "metadata": {},
     "output_type": "execute_result"
    }
   ],
   "source": [
    "lasso.set_params(alpha=lassocv.alpha_)\n",
    "lasso.fit(scale(X_train), y_train)\n",
    "mean_squared_error(y_test, lasso.predict(scale(X_test)))"
   ]
  },
  {
   "cell_type": "code",
   "execution_count": 39,
   "metadata": {
    "scrolled": true
   },
   "outputs": [
    {
     "data": {
      "text/plain": [
       "AtBat         -177.559757\n",
       "Hits           169.314851\n",
       "HmRun           -3.797022\n",
       "Runs            -0.000000\n",
       "RBI             -0.000000\n",
       "Walks          127.505833\n",
       "Years          -59.420155\n",
       "CAtBat          -0.000000\n",
       "CHits           13.567134\n",
       "CHmRun           6.031391\n",
       "CRuns          246.520381\n",
       "CRBI           226.106869\n",
       "CWalks        -231.964386\n",
       "PutOuts         65.468736\n",
       "Assists         23.136002\n",
       "Errors          -0.000000\n",
       "League_N        19.743473\n",
       "Division_W     -80.448147\n",
       "NewLeague_N     -0.000000\n",
       "dtype: float64"
      ]
     },
     "execution_count": 39,
     "metadata": {},
     "output_type": "execute_result"
    }
   ],
   "source": [
    "# Some of the coefficients are now reduced to exactly zero.\n",
    "pd.Series(lasso.coef_, index=X.columns)"
   ]
  },
  {
   "cell_type": "markdown",
   "metadata": {
    "slideshow": {
     "slide_type": "slide"
    }
   },
   "source": [
    "## 2.3 Step-wise selection"
   ]
  },
  {
   "cell_type": "markdown",
   "metadata": {
    "slideshow": {
     "slide_type": "-"
    }
   },
   "source": [
    "One straightforward way to think about how to pick among different predictors (variables) in the model would be to try to check *all* combinations between *all* predictors and how much they affect performance. That is called \"best subset selection\". For computational reasons, best subset selection cannot be applied to datasets with a large number of predictors (why?).\n",
    "\n",
    "Step-wise selection can then be a viable alternative. We have two options:\n",
    "\n",
    "* forward selection: we start with one predictor, find the best model with only one predictor (based on a performance metric), move to models with two predictors (by keeping the one predictor fixed) etc.\n",
    "\n",
    "* backward selection: opposite as above, we start with a model with all predictors and reduce them one by one.\n",
    "\n",
    "It is not guaranteed to find the best possible model out of all $2^p$ models containing subsets of all predictors (why?)."
   ]
  },
  {
   "cell_type": "code",
   "execution_count": 40,
   "metadata": {
    "scrolled": false
   },
   "outputs": [
    {
     "name": "stdout",
     "output_type": "stream",
     "text": [
      "<class 'pandas.core.frame.DataFrame'>\n",
      "Index: 263 entries, -Alan Ashby to -Willie Wilson\n",
      "Data columns (total 20 columns):\n",
      " #   Column     Non-Null Count  Dtype  \n",
      "---  ------     --------------  -----  \n",
      " 0   AtBat      263 non-null    int64  \n",
      " 1   Hits       263 non-null    int64  \n",
      " 2   HmRun      263 non-null    int64  \n",
      " 3   Runs       263 non-null    int64  \n",
      " 4   RBI        263 non-null    int64  \n",
      " 5   Walks      263 non-null    int64  \n",
      " 6   Years      263 non-null    int64  \n",
      " 7   CAtBat     263 non-null    int64  \n",
      " 8   CHits      263 non-null    int64  \n",
      " 9   CHmRun     263 non-null    int64  \n",
      " 10  CRuns      263 non-null    int64  \n",
      " 11  CRBI       263 non-null    int64  \n",
      " 12  CWalks     263 non-null    int64  \n",
      " 13  League     263 non-null    object \n",
      " 14  Division   263 non-null    object \n",
      " 15  PutOuts    263 non-null    int64  \n",
      " 16  Assists    263 non-null    int64  \n",
      " 17  Errors     263 non-null    int64  \n",
      " 18  Salary     263 non-null    float64\n",
      " 19  NewLeague  263 non-null    object \n",
      "dtypes: float64(1), int64(16), object(3)\n",
      "memory usage: 43.1+ KB\n"
     ]
    }
   ],
   "source": [
    "df = pd.read_csv('Hitters.csv', index_col=0).dropna()\n",
    "df.index.name = 'Player'\n",
    "df.info()"
   ]
  },
  {
   "cell_type": "code",
   "execution_count": 41,
   "metadata": {
    "scrolled": false
   },
   "outputs": [
    {
     "name": "stdout",
     "output_type": "stream",
     "text": [
      "<class 'pandas.core.frame.DataFrame'>\n",
      "Index: 263 entries, -Alan Ashby to -Willie Wilson\n",
      "Data columns (total 6 columns):\n",
      " #   Column       Non-Null Count  Dtype\n",
      "---  ------       --------------  -----\n",
      " 0   League_A     263 non-null    uint8\n",
      " 1   League_N     263 non-null    uint8\n",
      " 2   Division_E   263 non-null    uint8\n",
      " 3   Division_W   263 non-null    uint8\n",
      " 4   NewLeague_A  263 non-null    uint8\n",
      " 5   NewLeague_N  263 non-null    uint8\n",
      "dtypes: uint8(6)\n",
      "memory usage: 3.6+ KB\n",
      "                   League_A  League_N  Division_E  Division_W  NewLeague_A  \\\n",
      "Player                                                                       \n",
      "-Alan Ashby               0         1           0           1            0   \n",
      "-Alvin Davis              1         0           0           1            1   \n",
      "-Andre Dawson             0         1           1           0            0   \n",
      "-Andres Galarraga         0         1           1           0            0   \n",
      "-Alfredo Griffin          1         0           0           1            1   \n",
      "\n",
      "                   NewLeague_N  \n",
      "Player                          \n",
      "-Alan Ashby                  1  \n",
      "-Alvin Davis                 0  \n",
      "-Andre Dawson                1  \n",
      "-Andres Galarraga            1  \n",
      "-Alfredo Griffin             0  \n"
     ]
    }
   ],
   "source": [
    "df.head()\n",
    "dummies = pd.get_dummies(df[['League', 'Division', 'NewLeague']])\n",
    "dummies.info()\n",
    "print(dummies.head())"
   ]
  },
  {
   "cell_type": "code",
   "execution_count": 42,
   "metadata": {},
   "outputs": [
    {
     "name": "stdout",
     "output_type": "stream",
     "text": [
      "<class 'pandas.core.frame.DataFrame'>\n",
      "Index: 263 entries, -Alan Ashby to -Willie Wilson\n",
      "Data columns (total 20 columns):\n",
      " #   Column       Non-Null Count  Dtype  \n",
      "---  ------       --------------  -----  \n",
      " 0   AtBat        263 non-null    float64\n",
      " 1   Hits         263 non-null    float64\n",
      " 2   HmRun        263 non-null    float64\n",
      " 3   Runs         263 non-null    float64\n",
      " 4   RBI          263 non-null    float64\n",
      " 5   Walks        263 non-null    float64\n",
      " 6   Years        263 non-null    float64\n",
      " 7   CAtBat       263 non-null    float64\n",
      " 8   CHits        263 non-null    float64\n",
      " 9   CHmRun       263 non-null    float64\n",
      " 10  CRuns        263 non-null    float64\n",
      " 11  CRBI         263 non-null    float64\n",
      " 12  CWalks       263 non-null    float64\n",
      " 13  PutOuts      263 non-null    float64\n",
      " 14  Assists      263 non-null    float64\n",
      " 15  Errors       263 non-null    float64\n",
      " 16  Salary       263 non-null    float64\n",
      " 17  League_N     263 non-null    uint8  \n",
      " 18  Division_W   263 non-null    uint8  \n",
      " 19  NewLeague_N  263 non-null    uint8  \n",
      "dtypes: float64(17), uint8(3)\n",
      "memory usage: 37.8+ KB\n"
     ]
    }
   ],
   "source": [
    "# Drop the columns for which we created dummy variables\n",
    "dfnew = df.drop(['League', 'Division', 'NewLeague'], axis=1).astype('float64')\n",
    "# Define the feature set X.\n",
    "dfnew = pd.concat([dfnew, dummies[['League_N', 'Division_W', 'NewLeague_N']]], axis=1)\n",
    "dfnew.info()"
   ]
  },
  {
   "cell_type": "code",
   "execution_count": 43,
   "metadata": {},
   "outputs": [],
   "source": [
    "X_train = pd.read_csv('Hitters_X_train.csv', index_col=0)\n",
    "y_train = pd.read_csv('Hitters_y_train.csv', index_col=0)\n",
    "X_test = pd.read_csv('Hitters_X_test.csv', index_col=0)\n",
    "y_test = pd.read_csv('Hitters_y_test.csv', index_col=0)"
   ]
  },
  {
   "cell_type": "code",
   "execution_count": 44,
   "metadata": {},
   "outputs": [],
   "source": [
    "cols = ['AtBat',\n",
    " 'Hits',\n",
    " 'HmRun',\n",
    " 'Runs',\n",
    " 'RBI',\n",
    " 'Walks',\n",
    " 'Years',\n",
    " 'CAtBat',\n",
    " 'CHits',\n",
    " 'CHmRun',\n",
    " 'CRuns',\n",
    " 'CRBI',\n",
    " 'CWalks',\n",
    " 'PutOuts',\n",
    " 'Assists',\n",
    " 'Errors',\n",
    " 'League_N',\n",
    " 'Division_W',\n",
    " 'NewLeague_N']\n",
    "\n",
    "train, validation, test = train_test_split(dfnew, validation=True)\n",
    "\n",
    "y_train = train['Salary'].values\n",
    "y_val = validation['Salary'].values\n",
    "y_test = test['Salary'].values\n",
    "\n",
    "regression_model = LinearRegression(fit_intercept=True)"
   ]
  },
  {
   "cell_type": "markdown",
   "metadata": {},
   "source": [
    "### 1. Forward Selection"
   ]
  },
  {
   "cell_type": "code",
   "execution_count": 45,
   "metadata": {
    "scrolled": true
   },
   "outputs": [],
   "source": [
    "#all_predictors = credit.columns.tolist()\n",
    "all_predictors = cols\n",
    "\n",
    "predictors = [([], 0)]\n",
    "\n",
    "regression_model = LinearRegression(fit_intercept=True)\n",
    "\n",
    "R_sq_fwd = []\n",
    "\n",
    "for k in range(1, len(all_predictors)):\n",
    "    best_k_minus_1 = predictors[-1][0]\n",
    "\n",
    "    new_predictors = list(set(all_predictors) - set(best_k_minus_1))\n",
    "    validation_R_sqs = []\n",
    "\n",
    "    for predictor in new_predictors:\n",
    "\n",
    "        k_predictors = best_k_minus_1 + [predictor]\n",
    "        \n",
    "        X_train = train[k_predictors].values\n",
    "        X_val = validation[k_predictors].values\n",
    "        \n",
    "        if k == 1:\n",
    "            X_train = X_train.reshape((len(X_train), 1))\n",
    "            \n",
    "        regression_model.fit(X_train, y_train)\n",
    "        validation_R_sqs.append(regression_model.score(X_val, y_val))\n",
    "    \n",
    "    best_k = best_k_minus_1 + [new_predictors[np.argmax(validation_R_sqs)]]\n",
    "    R_sq_fwd.append(np.max(validation_R_sqs))\n",
    "    predictors.append((best_k, np.max(validation_R_sqs)))\n",
    "\n",
    "\n",
    "X_train = train[all_predictors].values\n",
    "X_val = validation[all_predictors].values  \n",
    "regression_model.fit(X_train, y_train)\n",
    "\n",
    "predictors.append((all_predictors, regression_model.score(X_val, y_val)))"
   ]
  },
  {
   "cell_type": "code",
   "execution_count": 46,
   "metadata": {
    "scrolled": true
   },
   "outputs": [
    {
     "name": "stdout",
     "output_type": "stream",
     "text": [
      "best predictor set: ['CRBI', 'Runs', 'Years', 'PutOuts']\n",
      "validation R^2: 0.5792616875425483\n",
      "test R^2: 0.5100712759128195\n"
     ]
    }
   ],
   "source": [
    "best_predictor_set = sorted(predictors, key=lambda t: t[1])[-1]\n",
    "\n",
    "X_train = train[best_predictor_set[0]].values\n",
    "X_val = validation[best_predictor_set[0]].values  \n",
    "X_test = test[best_predictor_set[0]].values  \n",
    "\n",
    "regression_model.fit(np.vstack((X_train, X_val)), np.hstack((y_train, y_val)))\n",
    "\n",
    "print('best predictor set: {}\\nvalidation R^2: {}\\ntest R^2: {}'.format(best_predictor_set[0], best_predictor_set[1], regression_model.score(X_test, y_test)))"
   ]
  },
  {
   "cell_type": "code",
   "execution_count": 47,
   "metadata": {},
   "outputs": [
    {
     "data": {
      "text/plain": [
       "[([], 0),\n",
       " (['CRBI'], 0.42521959156095923),\n",
       " (['CRBI', 'Runs'], 0.5697605426867011),\n",
       " (['CRBI', 'Runs', 'Years'], 0.5788119250466905),\n",
       " (['CRBI', 'Runs', 'Years', 'PutOuts'], 0.5792616875425483),\n",
       " (['CRBI', 'Runs', 'Years', 'PutOuts', 'AtBat'], 0.578054686069009),\n",
       " (['CRBI', 'Runs', 'Years', 'PutOuts', 'AtBat', 'Errors'], 0.565388828014598),\n",
       " (['CRBI', 'Runs', 'Years', 'PutOuts', 'AtBat', 'Errors', 'RBI'],\n",
       "  0.5525563931847426),\n",
       " (['CRBI',\n",
       "   'Runs',\n",
       "   'Years',\n",
       "   'PutOuts',\n",
       "   'AtBat',\n",
       "   'Errors',\n",
       "   'RBI',\n",
       "   'NewLeague_N'],\n",
       "  0.5369154595839443),\n",
       " (['CRBI',\n",
       "   'Runs',\n",
       "   'Years',\n",
       "   'PutOuts',\n",
       "   'AtBat',\n",
       "   'Errors',\n",
       "   'RBI',\n",
       "   'NewLeague_N',\n",
       "   'Division_W'],\n",
       "  0.5165301272009015),\n",
       " (['CRBI',\n",
       "   'Runs',\n",
       "   'Years',\n",
       "   'PutOuts',\n",
       "   'AtBat',\n",
       "   'Errors',\n",
       "   'RBI',\n",
       "   'NewLeague_N',\n",
       "   'Division_W',\n",
       "   'CWalks'],\n",
       "  0.507653311922907),\n",
       " (['CRBI',\n",
       "   'Runs',\n",
       "   'Years',\n",
       "   'PutOuts',\n",
       "   'AtBat',\n",
       "   'Errors',\n",
       "   'RBI',\n",
       "   'NewLeague_N',\n",
       "   'Division_W',\n",
       "   'CWalks',\n",
       "   'Walks'],\n",
       "  0.49979533313632174),\n",
       " (['CRBI',\n",
       "   'Runs',\n",
       "   'Years',\n",
       "   'PutOuts',\n",
       "   'AtBat',\n",
       "   'Errors',\n",
       "   'RBI',\n",
       "   'NewLeague_N',\n",
       "   'Division_W',\n",
       "   'CWalks',\n",
       "   'Walks',\n",
       "   'CRuns'],\n",
       "  0.49898541536111296),\n",
       " (['CRBI',\n",
       "   'Runs',\n",
       "   'Years',\n",
       "   'PutOuts',\n",
       "   'AtBat',\n",
       "   'Errors',\n",
       "   'RBI',\n",
       "   'NewLeague_N',\n",
       "   'Division_W',\n",
       "   'CWalks',\n",
       "   'Walks',\n",
       "   'CRuns',\n",
       "   'Assists'],\n",
       "  0.49620661242959707),\n",
       " (['CRBI',\n",
       "   'Runs',\n",
       "   'Years',\n",
       "   'PutOuts',\n",
       "   'AtBat',\n",
       "   'Errors',\n",
       "   'RBI',\n",
       "   'NewLeague_N',\n",
       "   'Division_W',\n",
       "   'CWalks',\n",
       "   'Walks',\n",
       "   'CRuns',\n",
       "   'Assists',\n",
       "   'CAtBat'],\n",
       "  0.48546564556273464),\n",
       " (['CRBI',\n",
       "   'Runs',\n",
       "   'Years',\n",
       "   'PutOuts',\n",
       "   'AtBat',\n",
       "   'Errors',\n",
       "   'RBI',\n",
       "   'NewLeague_N',\n",
       "   'Division_W',\n",
       "   'CWalks',\n",
       "   'Walks',\n",
       "   'CRuns',\n",
       "   'Assists',\n",
       "   'CAtBat',\n",
       "   'CHmRun'],\n",
       "  0.4757891087028654),\n",
       " (['CRBI',\n",
       "   'Runs',\n",
       "   'Years',\n",
       "   'PutOuts',\n",
       "   'AtBat',\n",
       "   'Errors',\n",
       "   'RBI',\n",
       "   'NewLeague_N',\n",
       "   'Division_W',\n",
       "   'CWalks',\n",
       "   'Walks',\n",
       "   'CRuns',\n",
       "   'Assists',\n",
       "   'CAtBat',\n",
       "   'CHmRun',\n",
       "   'HmRun'],\n",
       "  0.4712498536631957),\n",
       " (['CRBI',\n",
       "   'Runs',\n",
       "   'Years',\n",
       "   'PutOuts',\n",
       "   'AtBat',\n",
       "   'Errors',\n",
       "   'RBI',\n",
       "   'NewLeague_N',\n",
       "   'Division_W',\n",
       "   'CWalks',\n",
       "   'Walks',\n",
       "   'CRuns',\n",
       "   'Assists',\n",
       "   'CAtBat',\n",
       "   'CHmRun',\n",
       "   'HmRun',\n",
       "   'League_N'],\n",
       "  0.4537126163348252),\n",
       " (['CRBI',\n",
       "   'Runs',\n",
       "   'Years',\n",
       "   'PutOuts',\n",
       "   'AtBat',\n",
       "   'Errors',\n",
       "   'RBI',\n",
       "   'NewLeague_N',\n",
       "   'Division_W',\n",
       "   'CWalks',\n",
       "   'Walks',\n",
       "   'CRuns',\n",
       "   'Assists',\n",
       "   'CAtBat',\n",
       "   'CHmRun',\n",
       "   'HmRun',\n",
       "   'League_N',\n",
       "   'Hits'],\n",
       "  0.4233911964565643),\n",
       " (['AtBat',\n",
       "   'Hits',\n",
       "   'HmRun',\n",
       "   'Runs',\n",
       "   'RBI',\n",
       "   'Walks',\n",
       "   'Years',\n",
       "   'CAtBat',\n",
       "   'CHits',\n",
       "   'CHmRun',\n",
       "   'CRuns',\n",
       "   'CRBI',\n",
       "   'CWalks',\n",
       "   'PutOuts',\n",
       "   'Assists',\n",
       "   'Errors',\n",
       "   'League_N',\n",
       "   'Division_W',\n",
       "   'NewLeague_N'],\n",
       "  0.417587809831217)]"
      ]
     },
     "execution_count": 47,
     "metadata": {},
     "output_type": "execute_result"
    }
   ],
   "source": [
    "predictors"
   ]
  },
  {
   "cell_type": "code",
   "execution_count": 48,
   "metadata": {
    "scrolled": false
   },
   "outputs": [
    {
     "data": {
      "image/png": "[encoded data removed]",
      "text/plain": [
       "<Figure size 720x432 with 1 Axes>"
      ]
     },
     "metadata": {
      "needs_background": "light"
     },
     "output_type": "display_data"
    }
   ],
   "source": [
    "#a very ugly plot, needs improvement\n",
    "fig, ax = plt.subplots(1, 1, figsize=(10, 6))\n",
    "\n",
    "ax.plot(range(1, len(predictors)-1 ), R_sq_fwd, color='blue', label='R^2')\n",
    "\n",
    "ax.set_title('Number of Predictors vs Model Fitness')\n",
    "ax.set_xlabel('Number of Predictors')\n",
    "ax.set_ylabel('Validation $R^2$')\n",
    "ax.legend(loc='best')\n",
    "\n",
    "plt.show()"
   ]
  },
  {
   "cell_type": "markdown",
   "metadata": {
    "slideshow": {
     "slide_type": "slide"
    }
   },
   "source": [
    "### 2. Backwards Selection"
   ]
  },
  {
   "cell_type": "markdown",
   "metadata": {},
   "source": [
    "Similar processes can be applied to the backward process, i.e. start with all predictors and remove one at each step. Let's see the same process, but introduce another metric here, AIC.\n",
    "\n",
    "The Akaike Information Criterion (AIC) is an estimator of prediction error and thereby relative quality of statistical models for a given set of data. The AIC criterion is defined for a large class of models fit by maximum likelihood.\n",
    "\n",
    "$$AIC = -2 \\cdot logL +2 \\cdot d$$\n",
    "\n",
    "where $L$ is the maximized value of the likelihood function for the estimated model and $d$ is the total number of parameters (here is the number of predictors).\n",
    "\n",
    "In the case of  the linear model with Gaussian errors, maximum likelihood and least squares are the same thing. More specifically for the linear model: $ -2 \\cdot logL = \\frac{RSS}{\\sigma^2} $. Obviously, I need to choose the model with the smallest $AIC$ value."
   ]
  },
  {
   "cell_type": "code",
   "execution_count": 49,
   "metadata": {},
   "outputs": [],
   "source": [
    "from statsmodels.tools import add_constant\n",
    "import statsmodels.api as sm1\n",
    "\n",
    "def get_aic(X_train, y_train):\n",
    "    X_train = add_constant(X_train)\n",
    "    model = sm1.OLS(y_train, X_train).fit()\n",
    "    return model.aic\n",
    "\n",
    "X_train = train[all_predictors].values\n",
    "predictors = [(all_predictors, get_aic(X_train, y_train))]\n",
    "\n",
    "for k in range(len(all_predictors), 1, -1):\n",
    "    best_k_predictors = predictors[-1][0]\n",
    "    aics = []\n",
    "    \n",
    "    for predictor in best_k_predictors:\n",
    "        k_minus_1 = list(set(best_k_predictors) - set([predictor]))\n",
    "        X_train = train[k_minus_1].values\n",
    "\n",
    "        aics.append(get_aic(X_train, y_train))\n",
    "    \n",
    "    best_k_minus_1 = list(set(best_k_predictors) - set([best_k_predictors[np.argmin(aics)]]))\n",
    "    predictors.append((best_k_minus_1, np.min(aics)))"
   ]
  },
  {
   "cell_type": "code",
   "execution_count": 50,
   "metadata": {},
   "outputs": [
    {
     "name": "stdout",
     "output_type": "stream",
     "text": [
      "best predictor set: ['Assists', 'AtBat', 'Walks', 'CRuns', 'League_N', 'CWalks', 'Division_W', 'Hits', 'PutOuts', 'Years', 'CRBI', 'Runs']\n",
      "AIC: 2087.5493967156344\n",
      "test R^2: 0.5463905292129578\n"
     ]
    }
   ],
   "source": [
    "best_predictor_set = sorted(predictors, key=lambda t: t[1])[0]\n",
    "\n",
    "X_train = train[best_predictor_set[0]].values\n",
    "X_val = validation[best_predictor_set[0]].values  \n",
    "X_test = test[best_predictor_set[0]].values  \n",
    "regression_model.fit(np.vstack((X_train, X_val)), np.hstack((y_train, y_val)))\n",
    "\n",
    "print('best predictor set: {}\\nAIC: {}\\ntest R^2: {}'.format(best_predictor_set[0], best_predictor_set[1], regression_model.score(X_test, y_test)))"
   ]
  },
  {
   "cell_type": "markdown",
   "metadata": {
    "slideshow": {
     "slide_type": "slide"
    }
   },
   "source": [
    "# 3. Extensions of the linear model\n",
    "\n",
    "The linear model can be generalized into many different variations:\n",
    "\n",
    "* Classification problems: Logistic regression, etc.\n",
    "\n",
    "* Non-linearity: splines, generalized additive models, etc.\n",
    "\n",
    "* Interactions: Tree-based methods (bagging, boosting, etc.)\n",
    "\n",
    "* Regularized fitting: We covered this already!"
   ]
  }
 ],
 "metadata": {
  "anaconda-cloud": {},
  "celltoolbar": "Slideshow",
  "kernelspec": {
   "display_name": "Python 3",
   "language": "python",
   "name": "python3"
  },
  "language_info": {
   "codemirror_mode": {
    "name": "ipython",
    "version": 3
   },
   "file_extension": ".py",
   "mimetype": "text/x-python",
   "name": "python",
   "nbconvert_exporter": "python",
   "pygments_lexer": "ipython3",
   "version": "3.8.3"
  }
 },
 "nbformat": 4,
 "nbformat_minor": 1
}
