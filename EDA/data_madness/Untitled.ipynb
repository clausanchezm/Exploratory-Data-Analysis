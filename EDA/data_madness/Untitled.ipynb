{
 "cells": [
  {
   "cell_type": "code",
   "execution_count": null,
   "id": "86f40beb",
   "metadata": {},
   "outputs": [],
   "source": [
    "import numpy as np\n",
    "import pandas as pd\n",
    "import matplotlib.pyplot as plt\n",
    "import seaborn as sns\n",
    "from sklearn.decomposition import PCA\n",
    "from sklearn.preprocessing import StandardScaler\n",
    "from sklearn.model_selection import train_test_split"
   ]
  },
  {
   "cell_type": "code",
   "execution_count": null,
   "id": "69ed5e3c",
   "metadata": {},
   "outputs": [],
   "source": [
    "data = pd.read_table(\"C:/Users/33789/OneDrive/Desktop/EDA/data_madness/netflix_daily_top_10.csv\", ',')\n",
    "data.head()"
   ]
  },
  {
   "cell_type": "code",
   "execution_count": null,
   "id": "4cd0b631",
   "metadata": {},
   "outputs": [],
   "source": [
    "# 3. What are most common during the holidays, TV shows or movies?\n",
    "# Is there a bias on the duration of how long content is in top 10 of own content versus foreign content\n",
    "# 2. How long does it take for content to reach the top 5 (comparison of movie vs tv show)\n",
    "\n",
    "data =data.replace({'Netflix Exclusive': {None: 'No'}})\n",
    "# data.isna().any()\n",
    "exclusive = data[data['Netflix Exclusive'] == 'Yes']\n",
    "foreign = data[data['Netflix Exclusive'] == 'No']\n",
    "\n",
    "titles = data.set_index('Title')\n",
    "#getting rid of the dates and Year/Last Week Rank\n",
    "titles = titles[[\"Rank\",  \"Type\", \"Netflix Exclusive\", \"Netflix Release Date\", \"Days In Top 10\", \"Viewership Score\"]]\n",
    "titles = data.groupby('Title').agg({'Rank' : 'mean', 'Type': 'first', 'Netflix Exclusive': 'first', 'Netflix Release Date': 'first', \"Days In Top 10\": 'max', 'Viewership Score':'mean'})\n",
    "\n",
    "titles.head()"
   ]
  },
  {
   "cell_type": "code",
   "execution_count": null,
   "id": "aca238d3",
   "metadata": {
    "scrolled": true
   },
   "outputs": [],
   "source": [
    "p = sns.jointplot(titles, x = 'Days In Top 10', y = 'Rank', kind=\"kde\", hue = 'Netflix Exclusive')\n",
    "p.set_axis_labels(\"Days in Top 10\", \"rank\")\n"
   ]
  },
  {
   "cell_type": "code",
   "execution_count": null,
   "id": "cd5f01c1",
   "metadata": {},
   "outputs": [],
   "source": [
    "sns.histplot(data=titles, x=\"Rank\", hue=\"Netflix Exclusive\",  kde=True, multiple=\"dodge\")\n",
    "plt.title('Average Rankig Per Title')"
   ]
  },
  {
   "cell_type": "code",
   "execution_count": null,
   "id": "a690f796",
   "metadata": {},
   "outputs": [],
   "source": [
    "sns.histplot(data=data, x=\"Rank\", hue=\"Netflix Exclusive\", multiple=\"dodge\")\n",
    "plt.title('General Ranking Frequency')"
   ]
  },
  {
   "cell_type": "code",
   "execution_count": null,
   "id": "6c7a413f",
   "metadata": {},
   "outputs": [],
   "source": [
    "sns.kdeplot(data=data, x=\"Rank\", hue=\"Netflix Exclusive\")\n"
   ]
  },
  {
   "cell_type": "code",
   "execution_count": null,
   "id": "7d9f7e15",
   "metadata": {},
   "outputs": [],
   "source": [
    "print(exclusive.shape)"
   ]
  },
  {
   "cell_type": "code",
   "execution_count": null,
   "id": "51146e68",
   "metadata": {},
   "outputs": [],
   "source": [
    "print(foreign.shape)"
   ]
  },
  {
   "cell_type": "code",
   "execution_count": null,
   "id": "208fc413",
   "metadata": {},
   "outputs": [],
   "source": [
    "# Days in TOP 10 or VIEWERSHIP SCORE\n",
    "g = sns.lmplot(data = titles,  x = 'Rank', y = 'Viewership Score',fit_reg=True, hue = \"Netflix Exclusive\", scatter_kws={\"s\": 4})\n",
    "# sns.plt.ylim(0,)\n",
    "g.set(xlim = (0,10), ylim =(0,100))\n",
    "# sns.scatterplot(data= titles, x = 'Rank', hue = 'Netflix Exclusive')"
   ]
  },
  {
   "cell_type": "code",
   "execution_count": null,
   "id": "e0bc3e4a",
   "metadata": {},
   "outputs": [],
   "source": [
    "sns.scatterplot(\n",
    "    data=data, x=\"Days In Top 10\", y=\"Viewership Score\", hue=\"Netflix Exclusive\", size=\"Rank\",\n",
    "    sizes=(20, 200), legend=\"full\"\n",
    ")"
   ]
  },
  {
   "cell_type": "code",
   "execution_count": null,
   "id": "e7aa439c",
   "metadata": {},
   "outputs": [],
   "source": []
  },
  {
   "cell_type": "code",
   "execution_count": null,
   "id": "7490d598",
   "metadata": {},
   "outputs": [],
   "source": []
  }
 ],
 "metadata": {
  "kernelspec": {
   "display_name": "Python 3 (ipykernel)",
   "language": "python",
   "name": "python3"
  },
  "language_info": {
   "codemirror_mode": {
    "name": "ipython",
    "version": 3
   },
   "file_extension": ".py",
   "mimetype": "text/x-python",
   "name": "python",
   "nbconvert_exporter": "python",
   "pygments_lexer": "ipython3",
   "version": "3.8.8"
  }
 },
 "nbformat": 4,
 "nbformat_minor": 5
}
